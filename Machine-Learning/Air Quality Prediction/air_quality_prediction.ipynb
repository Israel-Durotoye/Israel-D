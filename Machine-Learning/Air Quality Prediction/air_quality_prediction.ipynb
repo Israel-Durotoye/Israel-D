{
 "cells": [
  {
   "cell_type": "code",
   "execution_count": 8,
   "metadata": {},
   "outputs": [],
   "source": [
    "import pandas as pd\n",
    "import numpy as np\n",
    "from sklearn.preprocessing import StandardScaler\n",
    "from sklearn.compose import ColumnTransformer"
   ]
  },
  {
   "cell_type": "code",
   "execution_count": 43,
   "metadata": {},
   "outputs": [],
   "source": [
    "def wrangle(filepath):\n",
    "    data = pd.read_csv(filepath)\n",
    "\n",
    "    data['device_name'] = data['device_name'].map({'alpha': 0, 'beta': 1, 'charlie': 2})\n",
    "    data.drop('ID', axis = 1, inplace = True)\n",
    "\n",
    "    numerical_columns = ['Temperature', 'Humidity', 'MQ7_analog', 'MQ9_analog', 'MG811_analog', 'MQ135_analog']\n",
    "    scaler = StandardScaler()\n",
    "    transformer = ColumnTransformer([('scaler', scaler, numerical_columns)], remainder = 'passthrough')\n",
    "    data = transformer.fit_transform(data)\n",
    "    data = pd.DataFrame(data, columns = ['Temperature', 'Humidity', 'MQ7_analog',\n",
    "                                         'MQ9_analog', 'MG811_analog', 'MQ135_analog',\n",
    "                                         'device_name'])\n",
    "\n",
    "    return data"
   ]
  },
  {
   "cell_type": "code",
   "execution_count": 17,
   "metadata": {},
   "outputs": [
    {
     "data": {
      "text/html": [
       "<div>\n",
       "<style scoped>\n",
       "    .dataframe tbody tr th:only-of-type {\n",
       "        vertical-align: middle;\n",
       "    }\n",
       "\n",
       "    .dataframe tbody tr th {\n",
       "        vertical-align: top;\n",
       "    }\n",
       "\n",
       "    .dataframe thead th {\n",
       "        text-align: right;\n",
       "    }\n",
       "</style>\n",
       "<table border=\"1\" class=\"dataframe\">\n",
       "  <thead>\n",
       "    <tr style=\"text-align: right;\">\n",
       "      <th></th>\n",
       "      <th>Temperature</th>\n",
       "      <th>Humidity</th>\n",
       "      <th>MQ7_analog</th>\n",
       "      <th>MQ9_analog</th>\n",
       "      <th>MG811_analog</th>\n",
       "      <th>MQ135_analog</th>\n",
       "      <th>device_name</th>\n",
       "      <th>CO2</th>\n",
       "    </tr>\n",
       "  </thead>\n",
       "  <tbody>\n",
       "    <tr>\n",
       "      <th>0</th>\n",
       "      <td>-0.350446</td>\n",
       "      <td>0.673496</td>\n",
       "      <td>-1.613758</td>\n",
       "      <td>-0.311878</td>\n",
       "      <td>-2.205518</td>\n",
       "      <td>-1.620600</td>\n",
       "      <td>0.0</td>\n",
       "      <td>585.75</td>\n",
       "    </tr>\n",
       "    <tr>\n",
       "      <th>1</th>\n",
       "      <td>1.099981</td>\n",
       "      <td>-0.426862</td>\n",
       "      <td>-0.385112</td>\n",
       "      <td>-0.779810</td>\n",
       "      <td>0.136414</td>\n",
       "      <td>-0.296394</td>\n",
       "      <td>0.0</td>\n",
       "      <td>613.00</td>\n",
       "    </tr>\n",
       "    <tr>\n",
       "      <th>2</th>\n",
       "      <td>0.988410</td>\n",
       "      <td>-1.321636</td>\n",
       "      <td>-1.308670</td>\n",
       "      <td>-1.504623</td>\n",
       "      <td>0.231985</td>\n",
       "      <td>-0.824174</td>\n",
       "      <td>0.0</td>\n",
       "      <td>616.50</td>\n",
       "    </tr>\n",
       "    <tr>\n",
       "      <th>3</th>\n",
       "      <td>0.941302</td>\n",
       "      <td>-1.431327</td>\n",
       "      <td>-1.278254</td>\n",
       "      <td>-1.483736</td>\n",
       "      <td>0.286596</td>\n",
       "      <td>-0.807943</td>\n",
       "      <td>0.0</td>\n",
       "      <td>642.50</td>\n",
       "    </tr>\n",
       "    <tr>\n",
       "      <th>4</th>\n",
       "      <td>0.995848</td>\n",
       "      <td>-1.043614</td>\n",
       "      <td>-0.987453</td>\n",
       "      <td>-1.780831</td>\n",
       "      <td>1.387477</td>\n",
       "      <td>-2.491464</td>\n",
       "      <td>0.0</td>\n",
       "      <td>622.00</td>\n",
       "    </tr>\n",
       "  </tbody>\n",
       "</table>\n",
       "</div>"
      ],
      "text/plain": [
       "   Temperature  Humidity  MQ7_analog  MQ9_analog  MG811_analog  MQ135_analog  \\\n",
       "0    -0.350446  0.673496   -1.613758   -0.311878     -2.205518     -1.620600   \n",
       "1     1.099981 -0.426862   -0.385112   -0.779810      0.136414     -0.296394   \n",
       "2     0.988410 -1.321636   -1.308670   -1.504623      0.231985     -0.824174   \n",
       "3     0.941302 -1.431327   -1.278254   -1.483736      0.286596     -0.807943   \n",
       "4     0.995848 -1.043614   -0.987453   -1.780831      1.387477     -2.491464   \n",
       "\n",
       "   device_name     CO2  \n",
       "0          0.0  585.75  \n",
       "1          0.0  613.00  \n",
       "2          0.0  616.50  \n",
       "3          0.0  642.50  \n",
       "4          0.0  622.00  "
      ]
     },
     "execution_count": 17,
     "metadata": {},
     "output_type": "execute_result"
    }
   ],
   "source": [
    "data_transformed = wrangle('air-quality-prediction/Train.csv')\n",
    "data_transformed.head()"
   ]
  },
  {
   "cell_type": "code",
   "execution_count": 11,
   "metadata": {},
   "outputs": [
    {
     "data": {
      "text/html": [
       "<div>\n",
       "<style scoped>\n",
       "    .dataframe tbody tr th:only-of-type {\n",
       "        vertical-align: middle;\n",
       "    }\n",
       "\n",
       "    .dataframe tbody tr th {\n",
       "        vertical-align: top;\n",
       "    }\n",
       "\n",
       "    .dataframe thead th {\n",
       "        text-align: right;\n",
       "    }\n",
       "</style>\n",
       "<table border=\"1\" class=\"dataframe\">\n",
       "  <thead>\n",
       "    <tr style=\"text-align: right;\">\n",
       "      <th></th>\n",
       "      <th>ID</th>\n",
       "      <th>Temperature</th>\n",
       "      <th>Humidity</th>\n",
       "      <th>MQ7_analog</th>\n",
       "      <th>MQ9_analog</th>\n",
       "      <th>MG811_analog</th>\n",
       "      <th>MQ135_analog</th>\n",
       "      <th>device_name</th>\n",
       "      <th>CO2</th>\n",
       "    </tr>\n",
       "  </thead>\n",
       "  <tbody>\n",
       "    <tr>\n",
       "      <th>0</th>\n",
       "      <td>ID_000001</td>\n",
       "      <td>28.975</td>\n",
       "      <td>74.475</td>\n",
       "      <td>2480.0</td>\n",
       "      <td>3476.5</td>\n",
       "      <td>1572.0</td>\n",
       "      <td>1997.0</td>\n",
       "      <td>alpha</td>\n",
       "      <td>585.75</td>\n",
       "    </tr>\n",
       "    <tr>\n",
       "      <th>1</th>\n",
       "      <td>ID_000002</td>\n",
       "      <td>31.900</td>\n",
       "      <td>66.500</td>\n",
       "      <td>3813.0</td>\n",
       "      <td>2726.0</td>\n",
       "      <td>4145.0</td>\n",
       "      <td>3180.0</td>\n",
       "      <td>alpha</td>\n",
       "      <td>613.00</td>\n",
       "    </tr>\n",
       "    <tr>\n",
       "      <th>2</th>\n",
       "      <td>ID_000003</td>\n",
       "      <td>31.675</td>\n",
       "      <td>60.015</td>\n",
       "      <td>2811.0</td>\n",
       "      <td>1563.5</td>\n",
       "      <td>4250.0</td>\n",
       "      <td>2708.5</td>\n",
       "      <td>alpha</td>\n",
       "      <td>616.50</td>\n",
       "    </tr>\n",
       "    <tr>\n",
       "      <th>3</th>\n",
       "      <td>ID_000004</td>\n",
       "      <td>31.580</td>\n",
       "      <td>59.220</td>\n",
       "      <td>2844.0</td>\n",
       "      <td>1597.0</td>\n",
       "      <td>4310.0</td>\n",
       "      <td>2723.0</td>\n",
       "      <td>alpha</td>\n",
       "      <td>642.50</td>\n",
       "    </tr>\n",
       "    <tr>\n",
       "      <th>4</th>\n",
       "      <td>ID_000005</td>\n",
       "      <td>31.690</td>\n",
       "      <td>62.030</td>\n",
       "      <td>3159.5</td>\n",
       "      <td>1120.5</td>\n",
       "      <td>5519.5</td>\n",
       "      <td>1219.0</td>\n",
       "      <td>alpha</td>\n",
       "      <td>622.00</td>\n",
       "    </tr>\n",
       "  </tbody>\n",
       "</table>\n",
       "</div>"
      ],
      "text/plain": [
       "          ID  Temperature  Humidity  MQ7_analog  MQ9_analog  MG811_analog  \\\n",
       "0  ID_000001       28.975    74.475      2480.0      3476.5        1572.0   \n",
       "1  ID_000002       31.900    66.500      3813.0      2726.0        4145.0   \n",
       "2  ID_000003       31.675    60.015      2811.0      1563.5        4250.0   \n",
       "3  ID_000004       31.580    59.220      2844.0      1597.0        4310.0   \n",
       "4  ID_000005       31.690    62.030      3159.5      1120.5        5519.5   \n",
       "\n",
       "   MQ135_analog device_name     CO2  \n",
       "0        1997.0       alpha  585.75  \n",
       "1        3180.0       alpha  613.00  \n",
       "2        2708.5       alpha  616.50  \n",
       "3        2723.0       alpha  642.50  \n",
       "4        1219.0       alpha  622.00  "
      ]
     },
     "execution_count": 11,
     "metadata": {},
     "output_type": "execute_result"
    }
   ],
   "source": [
    "data = pd.read_csv('air-quality-prediction/Train.csv')\n",
    "data.head()"
   ]
  },
  {
   "cell_type": "code",
   "execution_count": 4,
   "metadata": {},
   "outputs": [
    {
     "data": {
      "text/plain": [
       "device_name\n",
       "beta       2485\n",
       "charlie    2431\n",
       "alpha      2391\n",
       "Name: count, dtype: int64"
      ]
     },
     "execution_count": 4,
     "metadata": {},
     "output_type": "execute_result"
    }
   ],
   "source": [
    "data['device_name'].value_counts()"
   ]
  },
  {
   "cell_type": "code",
   "execution_count": 7,
   "metadata": {},
   "outputs": [
    {
     "data": {
      "text/plain": [
       "ID              0\n",
       "Temperature     0\n",
       "Humidity        0\n",
       "MQ7_analog      0\n",
       "MQ9_analog      0\n",
       "MG811_analog    0\n",
       "MQ135_analog    0\n",
       "device_name     0\n",
       "CO2             0\n",
       "dtype: int64"
      ]
     },
     "execution_count": 7,
     "metadata": {},
     "output_type": "execute_result"
    }
   ],
   "source": [
    "data.isnull().sum()"
   ]
  },
  {
   "cell_type": "code",
   "execution_count": 19,
   "metadata": {},
   "outputs": [],
   "source": [
    "# Split the dataset into train and test sets\n",
    "X = data_transformed.drop('CO2', axis = 1)\n",
    "y = data_transformed['CO2']\n",
    "\n",
    "from sklearn.model_selection import train_test_split\n",
    "X_train, X_test, y_train, y_test = train_test_split(X, y, test_size = 0.2, shuffle = True, random_state = 42)"
   ]
  },
  {
   "cell_type": "code",
   "execution_count": null,
   "metadata": {},
   "outputs": [
    {
     "name": "stdout",
     "output_type": "stream",
     "text": [
      "Learning rate set to 0.030803\n",
      "0:\tlearn: 16.3258864\ttotal: 4.24s\tremaining: 2h 21m 19s\n",
      "10:\tlearn: 13.9332035\ttotal: 33.9s\tremaining: 1h 42m 14s\n",
      "20:\tlearn: 12.1741498\ttotal: 52.4s\tremaining: 1h 22m 21s\n",
      "30:\tlearn: 10.8936910\ttotal: 1m 5s\tremaining: 1h 8m 50s\n",
      "40:\tlearn: 9.8871078\ttotal: 1m 20s\tremaining: 1h 3m 53s\n",
      "50:\tlearn: 9.1588895\ttotal: 1m 36s\tremaining: 1h 1m 21s\n",
      "60:\tlearn: 8.5201382\ttotal: 1m 54s\tremaining: 1h 47s\n",
      "70:\tlearn: 8.0487936\ttotal: 2m 15s\tremaining: 1h 1m 14s\n",
      "80:\tlearn: 7.6611591\ttotal: 2m 36s\tremaining: 1h 1m 56s\n",
      "90:\tlearn: 7.3382005\ttotal: 3m 2s\tremaining: 1h 3m 42s\n",
      "100:\tlearn: 7.0751899\ttotal: 3m 21s\tremaining: 1h 3m 15s\n",
      "110:\tlearn: 6.8475950\ttotal: 3m 38s\tremaining: 1h 1m 58s\n",
      "120:\tlearn: 6.6432491\ttotal: 3m 59s\tremaining: 1h 1m 53s\n",
      "130:\tlearn: 6.4654571\ttotal: 4m 20s\tremaining: 1h 1m 51s\n",
      "140:\tlearn: 6.3089986\ttotal: 4m 38s\tremaining: 1h 1m 13s\n",
      "150:\tlearn: 6.1672172\ttotal: 5m 4s\tremaining: 1h 2m 12s\n",
      "160:\tlearn: 6.0463761\ttotal: 5m 22s\tremaining: 1h 1m 24s\n",
      "170:\tlearn: 5.9358579\ttotal: 5m 41s\tremaining: 1h 51s\n",
      "180:\tlearn: 5.8361726\ttotal: 5m 59s\tremaining: 1h 16s\n",
      "190:\tlearn: 5.7414197\ttotal: 6m 30s\tremaining: 1h 1m 42s\n",
      "200:\tlearn: 5.6410827\ttotal: 7m 12s\tremaining: 1h 4m 31s\n",
      "210:\tlearn: 5.5603333\ttotal: 7m 55s\tremaining: 1h 7m 8s\n",
      "220:\tlearn: 5.4912925\ttotal: 8m 33s\tremaining: 1h 8m 52s\n",
      "230:\tlearn: 5.4090387\ttotal: 9m 8s\tremaining: 1h 9m 58s\n",
      "240:\tlearn: 5.3339453\ttotal: 9m 36s\tremaining: 1h 10m 6s\n",
      "250:\tlearn: 5.2604564\ttotal: 10m 8s\tremaining: 1h 10m 41s\n",
      "260:\tlearn: 5.1951438\ttotal: 10m 47s\tremaining: 1h 11m 54s\n",
      "270:\tlearn: 5.1285526\ttotal: 11m 48s\tremaining: 1h 15m 20s\n",
      "280:\tlearn: 5.0575597\ttotal: 12m 37s\tremaining: 1h 17m 11s\n",
      "290:\tlearn: 4.9914440\ttotal: 13m 20s\tremaining: 1h 18m 20s\n",
      "300:\tlearn: 4.9301071\ttotal: 14m 6s\tremaining: 1h 19m 35s\n",
      "310:\tlearn: 4.8674489\ttotal: 19m 20s\tremaining: 1h 45m 2s\n",
      "320:\tlearn: 4.8073378\ttotal: 25m 26s\tremaining: 2h 13m 4s\n"
     ]
    }
   ],
   "source": [
    "# Fit a model\n",
    "from catboost import CatBoostRegressor\n",
    "\n",
    "model = CatBoostRegressor(iterations = 2000,\n",
    "                          depth = 16,\n",
    "                          loss_function = 'RMSE',\n",
    "                        verbose = 10)\n",
    "\n",
    "model.fit(X_train, y_train)"
   ]
  },
  {
   "cell_type": "code",
   "execution_count": 57,
   "metadata": {},
   "outputs": [
    {
     "name": "stdout",
     "output_type": "stream",
     "text": [
      "2.92515162733783\n",
      "23.65320827627451\n",
      "0.9097044009055397\n"
     ]
    }
   ],
   "source": [
    "# Evaluate the model\n",
    "y_pred = model.predict(X_test)\n",
    "\n",
    "from sklearn.metrics import mean_absolute_error, mean_squared_error, r2_score\n",
    "print(mean_absolute_error(y_test, y_pred))\n",
    "print(mean_squared_error(y_test, y_pred))\n",
    "print(r2_score(y_test, y_pred))"
   ]
  },
  {
   "cell_type": "code",
   "execution_count": 33,
   "metadata": {},
   "outputs": [
    {
     "name": "stdout",
     "output_type": "stream",
     "text": [
      "Mean Squared Error: 25.396059274072922\n",
      "Mean Absolute Error: 2.8630367077063346\n",
      "R-squared: 0.9030511057947688\n"
     ]
    }
   ],
   "source": [
    "from sklearn.ensemble import RandomForestRegressor\n",
    "from sklearn.metrics import mean_squared_error, mean_absolute_error, r2_score\n",
    "\n",
    "# Initialize the RandomForestRegressor\n",
    "rf_regressor = RandomForestRegressor(n_estimators = 200, random_state = 42)\n",
    "\n",
    "# Train the model on the training data\n",
    "rf_regressor.fit(X_train, y_train)\n",
    "\n",
    "# Predict on the test set\n",
    "y_pred = rf_regressor.predict(X_test)\n",
    "\n",
    "# Evaluate the model\n",
    "rf_mse = mean_squared_error(y_test, y_pred)\n",
    "rf_mae = mean_absolute_error(y_test, y_pred)\n",
    "rf_r2 = r2_score(y_test, y_pred)\n",
    "\n",
    "# Print the evaluation metrics\n",
    "print(f'Mean Squared Error: {rf_mse}')\n",
    "print(f'Mean Absolute Error: {rf_mae}')\n",
    "print(f'R-squared: {rf_r2}')"
   ]
  },
  {
   "cell_type": "code",
   "execution_count": 34,
   "metadata": {},
   "outputs": [
    {
     "name": "stdout",
     "output_type": "stream",
     "text": [
      "Mean Squared Error: 51.40647701834916\n",
      "Mean Absolute Error: 3.6448938772126187\n",
      "R-squared: 0.8037569117267105\n"
     ]
    }
   ],
   "source": [
    "from sklearn.tree import DecisionTreeRegressor\n",
    "from sklearn.metrics import mean_squared_error, mean_absolute_error, r2_score\n",
    "\n",
    "# Initialize the Decision Tree Regressor\n",
    "dt_regressor = DecisionTreeRegressor(random_state = 42)\n",
    "\n",
    "# Train the model on the training data\n",
    "dt_regressor.fit(X_train, y_train)\n",
    "\n",
    "# Predict on the test set\n",
    "y_pred = dt_regressor.predict(X_test)\n",
    "\n",
    "# Evaluate the model\n",
    "dt_mse = mean_squared_error(y_test, y_pred)\n",
    "dt_mae = mean_absolute_error(y_test, y_pred)\n",
    "dt_r2 = r2_score(y_test, y_pred)\n",
    "\n",
    "# Print evaluation metrics\n",
    "print(f'Mean Squared Error: {dt_mse}')\n",
    "print(f'Mean Absolute Error: {dt_mae}')\n",
    "print(f'R-squared: {dt_r2}')"
   ]
  },
  {
   "cell_type": "code",
   "execution_count": 40,
   "metadata": {},
   "outputs": [
    {
     "data": {
      "text/plain": [
       "array([590.40341013, 585.37335082, 613.72314345, ..., 603.79928339,\n",
       "       597.63150343, 597.93874963])"
      ]
     },
     "execution_count": 40,
     "metadata": {},
     "output_type": "execute_result"
    }
   ],
   "source": [
    "y_pred"
   ]
  },
  {
   "cell_type": "code",
   "execution_count": 44,
   "metadata": {},
   "outputs": [
    {
     "data": {
      "text/html": [
       "<div>\n",
       "<style scoped>\n",
       "    .dataframe tbody tr th:only-of-type {\n",
       "        vertical-align: middle;\n",
       "    }\n",
       "\n",
       "    .dataframe tbody tr th {\n",
       "        vertical-align: top;\n",
       "    }\n",
       "\n",
       "    .dataframe thead th {\n",
       "        text-align: right;\n",
       "    }\n",
       "</style>\n",
       "<table border=\"1\" class=\"dataframe\">\n",
       "  <thead>\n",
       "    <tr style=\"text-align: right;\">\n",
       "      <th></th>\n",
       "      <th>Temperature</th>\n",
       "      <th>Humidity</th>\n",
       "      <th>MQ7_analog</th>\n",
       "      <th>MQ9_analog</th>\n",
       "      <th>MG811_analog</th>\n",
       "      <th>MQ135_analog</th>\n",
       "      <th>device_name</th>\n",
       "    </tr>\n",
       "  </thead>\n",
       "  <tbody>\n",
       "    <tr>\n",
       "      <th>0</th>\n",
       "      <td>1.378004</td>\n",
       "      <td>-1.312404</td>\n",
       "      <td>-0.635062</td>\n",
       "      <td>-1.586199</td>\n",
       "      <td>-1.209551</td>\n",
       "      <td>-1.965257</td>\n",
       "      <td>0.0</td>\n",
       "    </tr>\n",
       "    <tr>\n",
       "      <th>1</th>\n",
       "      <td>0.986613</td>\n",
       "      <td>-1.499966</td>\n",
       "      <td>-1.228633</td>\n",
       "      <td>-1.412080</td>\n",
       "      <td>0.479136</td>\n",
       "      <td>0.183901</td>\n",
       "      <td>0.0</td>\n",
       "    </tr>\n",
       "    <tr>\n",
       "      <th>2</th>\n",
       "      <td>1.031486</td>\n",
       "      <td>-1.449949</td>\n",
       "      <td>-1.241154</td>\n",
       "      <td>-1.439540</td>\n",
       "      <td>0.418610</td>\n",
       "      <td>-0.798412</td>\n",
       "      <td>0.0</td>\n",
       "    </tr>\n",
       "    <tr>\n",
       "      <th>3</th>\n",
       "      <td>1.083837</td>\n",
       "      <td>-0.359310</td>\n",
       "      <td>-0.310916</td>\n",
       "      <td>-0.657252</td>\n",
       "      <td>0.213286</td>\n",
       "      <td>-0.417083</td>\n",
       "      <td>0.0</td>\n",
       "    </tr>\n",
       "    <tr>\n",
       "      <th>4</th>\n",
       "      <td>-0.042970</td>\n",
       "      <td>0.511117</td>\n",
       "      <td>-1.560199</td>\n",
       "      <td>-0.181077</td>\n",
       "      <td>-2.290645</td>\n",
       "      <td>-1.435076</td>\n",
       "      <td>0.0</td>\n",
       "    </tr>\n",
       "  </tbody>\n",
       "</table>\n",
       "</div>"
      ],
      "text/plain": [
       "   Temperature  Humidity  MQ7_analog  MQ9_analog  MG811_analog  MQ135_analog  \\\n",
       "0     1.378004 -1.312404   -0.635062   -1.586199     -1.209551     -1.965257   \n",
       "1     0.986613 -1.499966   -1.228633   -1.412080      0.479136      0.183901   \n",
       "2     1.031486 -1.449949   -1.241154   -1.439540      0.418610     -0.798412   \n",
       "3     1.083837 -0.359310   -0.310916   -0.657252      0.213286     -0.417083   \n",
       "4    -0.042970  0.511117   -1.560199   -0.181077     -2.290645     -1.435076   \n",
       "\n",
       "   device_name  \n",
       "0          0.0  \n",
       "1          0.0  \n",
       "2          0.0  \n",
       "3          0.0  \n",
       "4          0.0  "
      ]
     },
     "execution_count": 44,
     "metadata": {},
     "output_type": "execute_result"
    }
   ],
   "source": [
    "testdata = wrangle('air-quality-prediction/test.csv')\n",
    "testdata.head()"
   ]
  },
  {
   "cell_type": "code",
   "execution_count": 47,
   "metadata": {},
   "outputs": [
    {
     "data": {
      "text/html": [
       "<div>\n",
       "<style scoped>\n",
       "    .dataframe tbody tr th:only-of-type {\n",
       "        vertical-align: middle;\n",
       "    }\n",
       "\n",
       "    .dataframe tbody tr th {\n",
       "        vertical-align: top;\n",
       "    }\n",
       "\n",
       "    .dataframe thead th {\n",
       "        text-align: right;\n",
       "    }\n",
       "</style>\n",
       "<table border=\"1\" class=\"dataframe\">\n",
       "  <thead>\n",
       "    <tr style=\"text-align: right;\">\n",
       "      <th></th>\n",
       "      <th>ID</th>\n",
       "      <th>Temperature</th>\n",
       "      <th>Humidity</th>\n",
       "      <th>MQ7_analog</th>\n",
       "      <th>MQ9_analog</th>\n",
       "      <th>MG811_analog</th>\n",
       "      <th>MQ135_analog</th>\n",
       "      <th>device_name</th>\n",
       "    </tr>\n",
       "  </thead>\n",
       "  <tbody>\n",
       "    <tr>\n",
       "      <th>0</th>\n",
       "      <td>ID_007308</td>\n",
       "      <td>32.450</td>\n",
       "      <td>59.990</td>\n",
       "      <td>3504.0</td>\n",
       "      <td>1380.0</td>\n",
       "      <td>2642.5</td>\n",
       "      <td>1637.0</td>\n",
       "      <td>alpha</td>\n",
       "    </tr>\n",
       "    <tr>\n",
       "      <th>1</th>\n",
       "      <td>ID_007309</td>\n",
       "      <td>31.665</td>\n",
       "      <td>58.640</td>\n",
       "      <td>2864.0</td>\n",
       "      <td>1659.0</td>\n",
       "      <td>4456.0</td>\n",
       "      <td>3564.5</td>\n",
       "      <td>alpha</td>\n",
       "    </tr>\n",
       "    <tr>\n",
       "      <th>2</th>\n",
       "      <td>ID_007310</td>\n",
       "      <td>31.755</td>\n",
       "      <td>59.000</td>\n",
       "      <td>2850.5</td>\n",
       "      <td>1615.0</td>\n",
       "      <td>4391.0</td>\n",
       "      <td>2683.5</td>\n",
       "      <td>alpha</td>\n",
       "    </tr>\n",
       "    <tr>\n",
       "      <th>3</th>\n",
       "      <td>ID_007311</td>\n",
       "      <td>31.860</td>\n",
       "      <td>66.850</td>\n",
       "      <td>3853.5</td>\n",
       "      <td>2868.5</td>\n",
       "      <td>4170.5</td>\n",
       "      <td>3025.5</td>\n",
       "      <td>alpha</td>\n",
       "    </tr>\n",
       "    <tr>\n",
       "      <th>4</th>\n",
       "      <td>ID_007312</td>\n",
       "      <td>29.600</td>\n",
       "      <td>73.115</td>\n",
       "      <td>2506.5</td>\n",
       "      <td>3631.5</td>\n",
       "      <td>1481.5</td>\n",
       "      <td>2112.5</td>\n",
       "      <td>alpha</td>\n",
       "    </tr>\n",
       "  </tbody>\n",
       "</table>\n",
       "</div>"
      ],
      "text/plain": [
       "          ID  Temperature  Humidity  MQ7_analog  MQ9_analog  MG811_analog  \\\n",
       "0  ID_007308       32.450    59.990      3504.0      1380.0        2642.5   \n",
       "1  ID_007309       31.665    58.640      2864.0      1659.0        4456.0   \n",
       "2  ID_007310       31.755    59.000      2850.5      1615.0        4391.0   \n",
       "3  ID_007311       31.860    66.850      3853.5      2868.5        4170.5   \n",
       "4  ID_007312       29.600    73.115      2506.5      3631.5        1481.5   \n",
       "\n",
       "   MQ135_analog device_name  \n",
       "0        1637.0       alpha  \n",
       "1        3564.5       alpha  \n",
       "2        2683.5       alpha  \n",
       "3        3025.5       alpha  \n",
       "4        2112.5       alpha  "
      ]
     },
     "execution_count": 47,
     "metadata": {},
     "output_type": "execute_result"
    }
   ],
   "source": [
    "test_data_original = pd.read_csv('air-quality-prediction/test.csv')\n",
    "test_data_original.head()"
   ]
  },
  {
   "cell_type": "code",
   "execution_count": 58,
   "metadata": {},
   "outputs": [],
   "source": [
    "test_predictions = model.predict(testdata)"
   ]
  },
  {
   "cell_type": "code",
   "execution_count": 59,
   "metadata": {},
   "outputs": [],
   "source": [
    "# Save predictions\n",
    "predctions = pd.DataFrame({'ID': test_data_original['ID'], 'CO2': test_predictions})\n",
    "predctions.to_csv('Predicted-Air-Quality-Dataset4.csv', index= False)"
   ]
  },
  {
   "cell_type": "code",
   "execution_count": null,
   "metadata": {},
   "outputs": [],
   "source": []
  }
 ],
 "metadata": {
  "kernelspec": {
   "display_name": "myenv",
   "language": "python",
   "name": "python3"
  },
  "language_info": {
   "codemirror_mode": {
    "name": "ipython",
    "version": 3
   },
   "file_extension": ".py",
   "mimetype": "text/x-python",
   "name": "python",
   "nbconvert_exporter": "python",
   "pygments_lexer": "ipython3",
   "version": "3.10.13"
  }
 },
 "nbformat": 4,
 "nbformat_minor": 2
}
