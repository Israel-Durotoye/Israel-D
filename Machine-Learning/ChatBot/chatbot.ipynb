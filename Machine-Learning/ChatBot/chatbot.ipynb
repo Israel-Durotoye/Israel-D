{
 "cells": [
  {
   "cell_type": "code",
   "execution_count": 1,
   "metadata": {},
   "outputs": [],
   "source": [
    "import pandas as pd\n",
    "import re"
   ]
  },
  {
   "cell_type": "code",
   "execution_count": 2,
   "metadata": {},
   "outputs": [
    {
     "name": "stdout",
     "output_type": "stream",
     "text": [
      "CSV file saved successfully..!\n"
     ]
    }
   ],
   "source": [
    "# Read the txt file\n",
    "with open(\"human_chat.txt\", \"r\", encoding = \"utf-8\") as file:\n",
    "    lines = file.readlines()\n",
    "\n",
    "# Initialize lists to store human 1 and human 2 messages\n",
    "human_1 = []\n",
    "human_2 = []\n",
    "\n",
    "# Iterate through lines and separate dialogues\n",
    "for line in lines:\n",
    "    line = line.strip()\n",
    "    if line.startswith(\"Human 1:\"):\n",
    "        human_1.append(line.replace(\"Human 1:\", \"\").strip())\n",
    "        human_2.append(\"\")\n",
    "    elif line.startswith(\"Human 2:\"):\n",
    "        human_2[-1] = line.replace(\"Human 2:\", \"\").strip()\n",
    "# Create a DataFrame\n",
    "data = pd.DataFrame({\"Human_1\": human_1, \"Human_2\": human_2})\n",
    "# Save to csv\n",
    "data.to_csv(\"human_chat.csv\", index = False)\n",
    "\n",
    "print(\"CSV file saved successfully..!\")"
   ]
  },
  {
   "cell_type": "code",
   "execution_count": 3,
   "metadata": {},
   "outputs": [],
   "source": [
    "def wrangle(filepath):\n",
    "    data = pd.read_csv(filepath)\n",
    "\n",
    "    data.drop_duplicates(inplace = True)\n",
    "\n",
    "    # Fill missing responses with \"No response\"\n",
    "    data.fillna(\"No response\", inplace = True)\n",
    "    # Drop rows where both columns are empty\n",
    "    data = data[~((data[\"Human_1\"] == \"\") & (data[\"Human_2\"] == \"\"))]\n",
    "\n",
    "    return data"
   ]
  },
  {
   "cell_type": "code",
   "execution_count": 4,
   "metadata": {},
   "outputs": [
    {
     "data": {
      "text/html": [
       "<div>\n",
       "<style scoped>\n",
       "    .dataframe tbody tr th:only-of-type {\n",
       "        vertical-align: middle;\n",
       "    }\n",
       "\n",
       "    .dataframe tbody tr th {\n",
       "        vertical-align: top;\n",
       "    }\n",
       "\n",
       "    .dataframe thead th {\n",
       "        text-align: right;\n",
       "    }\n",
       "</style>\n",
       "<table border=\"1\" class=\"dataframe\">\n",
       "  <thead>\n",
       "    <tr style=\"text-align: right;\">\n",
       "      <th></th>\n",
       "      <th>Human_1</th>\n",
       "      <th>Human_2</th>\n",
       "    </tr>\n",
       "  </thead>\n",
       "  <tbody>\n",
       "    <tr>\n",
       "      <th>0</th>\n",
       "      <td>Hi!</td>\n",
       "      <td>What is your favorite holiday?</td>\n",
       "    </tr>\n",
       "    <tr>\n",
       "      <th>1</th>\n",
       "      <td>one where I get to meet lots of different people.</td>\n",
       "      <td>What was the most number of people you have ev...</td>\n",
       "    </tr>\n",
       "    <tr>\n",
       "      <th>2</th>\n",
       "      <td>Hard to keep a count. Maybe 25.</td>\n",
       "      <td>Which holiday was that?</td>\n",
       "    </tr>\n",
       "    <tr>\n",
       "      <th>3</th>\n",
       "      <td>I think it was Australia</td>\n",
       "      <td>Do you still talk to the people you met?</td>\n",
       "    </tr>\n",
       "    <tr>\n",
       "      <th>4</th>\n",
       "      <td>Not really. The interactions are usually short...</td>\n",
       "      <td>Yea, me too. I feel like God often puts strang...</td>\n",
       "    </tr>\n",
       "    <tr>\n",
       "      <th>5</th>\n",
       "      <td>what do you mean?</td>\n",
       "      <td>I think it's like a 6th sense, often seen as \"...</td>\n",
       "    </tr>\n",
       "    <tr>\n",
       "      <th>6</th>\n",
       "      <td>Wow! That's interesting, borderline spooky</td>\n",
       "      <td>There's this practice called \"Treasure Hunting...</td>\n",
       "    </tr>\n",
       "    <tr>\n",
       "      <th>7</th>\n",
       "      <td>So, do you do treasure hunting often?</td>\n",
       "      <td>I did more when I was in grad school (and had ...</td>\n",
       "    </tr>\n",
       "    <tr>\n",
       "      <th>8</th>\n",
       "      <td>Hi</td>\n",
       "      <td>Any plans for the weekend?</td>\n",
       "    </tr>\n",
       "    <tr>\n",
       "      <th>9</th>\n",
       "      <td>my friends are gonna visit me this weekend. we...</td>\n",
       "      <td>That's great! How's the weather over the weeke...</td>\n",
       "    </tr>\n",
       "  </tbody>\n",
       "</table>\n",
       "</div>"
      ],
      "text/plain": [
       "                                             Human_1  \\\n",
       "0                                                Hi!   \n",
       "1  one where I get to meet lots of different people.   \n",
       "2                    Hard to keep a count. Maybe 25.   \n",
       "3                           I think it was Australia   \n",
       "4  Not really. The interactions are usually short...   \n",
       "5                                  what do you mean?   \n",
       "6         Wow! That's interesting, borderline spooky   \n",
       "7              So, do you do treasure hunting often?   \n",
       "8                                                 Hi   \n",
       "9  my friends are gonna visit me this weekend. we...   \n",
       "\n",
       "                                             Human_2  \n",
       "0                     What is your favorite holiday?  \n",
       "1  What was the most number of people you have ev...  \n",
       "2                            Which holiday was that?  \n",
       "3           Do you still talk to the people you met?  \n",
       "4  Yea, me too. I feel like God often puts strang...  \n",
       "5  I think it's like a 6th sense, often seen as \"...  \n",
       "6  There's this practice called \"Treasure Hunting...  \n",
       "7  I did more when I was in grad school (and had ...  \n",
       "8                         Any plans for the weekend?  \n",
       "9  That's great! How's the weather over the weeke...  "
      ]
     },
     "execution_count": 4,
     "metadata": {},
     "output_type": "execute_result"
    }
   ],
   "source": [
    "data = wrangle('human_chat.csv')\n",
    "data.head(10)"
   ]
  },
  {
   "cell_type": "code",
   "execution_count": 5,
   "metadata": {},
   "outputs": [
    {
     "name": "stdout",
     "output_type": "stream",
     "text": [
      "(747, 2)\n",
      "0\n",
      "Human_1    0\n",
      "Human_2    0\n",
      "dtype: int64\n"
     ]
    }
   ],
   "source": [
    "print(data.shape)\n",
    "print(data.duplicated().sum())\n",
    "print(data.isnull().sum())"
   ]
  },
  {
   "cell_type": "code",
   "execution_count": 6,
   "metadata": {},
   "outputs": [],
   "source": [
    "shortcut_map = {\n",
    "    \"i'm\": \"i am\", \"we've\": \"we have\",\n",
    "    \"i've\": \"i have\", \"didn't\": \"did not\",\n",
    "    \"it's\": \"it is\", \"shouldn't\": \"should not\",\n",
    "    \"weren't\": \"were not\", \"wouldn't\": \"would not\",\n",
    "    \"that's\": \"that is\", \"he's\": \"he is\",\n",
    "    \"there's\": \"there is\", \"she's\": \"she is\",\n",
    "    \"how's\": \"how is\", \"couldn't\": \"could not\",\n",
    "    \"what's\": \"what is\", \"doesn't\": \"does not\",\n",
    "    \"it'd\": \"it would\", \"it'll\": \"it will\",\n",
    "    \"let's\": \"let us\", \"can't\": \"can not\",\n",
    "    \"i'd\": \"i would\", \"they're\": \"they are\",\n",
    "    \"don't\": \"do not\", \"you're\": \"you are\",\n",
    "    \"won't\": \"will not\", \"haven't\": \"have not\",\n",
    "    \"isn't\": \"is not\", \"i'll\": \"i will\",\n",
    "    \"wasn't\": \"was not\",\n",
    "}"
   ]
  },
  {
   "cell_type": "code",
   "execution_count": 7,
   "metadata": {},
   "outputs": [
    {
     "name": "stdout",
     "output_type": "stream",
     "text": [
      "i am happy that you are here. it is a great day!\n"
     ]
    }
   ],
   "source": [
    "# Function to replace shortcuts in a text\n",
    "def replace_shortcuts(text, shortcut_map):\n",
    "    # Create a regex pattern to match keys in the dictionary\n",
    "    pattern = re.compile(r'\\b(' + '|'.join(map(re.escape, shortcut_map.keys())) + r')\\b', flags = re.IGNORECASE)\n",
    "\n",
    "    # Replace using the dictionary mapping\n",
    "    def replace_match(match):\n",
    "        word = match.group(0).lower()\n",
    "        return shortcut_map.get(word, word)\n",
    "    \n",
    "    return pattern.sub(replace_match, text)\n",
    "# Test the function\n",
    "text = \"I'm happy that you're here. It's a great day!\"\n",
    "new_text = replace_shortcuts(text, shortcut_map)\n",
    "print(new_text)"
   ]
  },
  {
   "cell_type": "code",
   "execution_count": 8,
   "metadata": {},
   "outputs": [],
   "source": [
    "# Apply the shortcut map to the DataFrame\n",
    "# data[\"Human 1\"] = data[\"Human 1\"].apply(lambda x: replace_shortcuts(x, shortcut_map))\n",
    "# data[\"Human 2\"] = data[\"Human 2\"].apply(lambda x: replace_shortcuts(x, shortcut_map))"
   ]
  },
  {
   "cell_type": "code",
   "execution_count": 9,
   "metadata": {},
   "outputs": [],
   "source": [
    "def clean_text(text):\n",
    "    if not isinstance(text, str):\n",
    "        return \"\"\n",
    "    \n",
    "    text = text.lower()\n",
    "    text = replace_shortcuts(text, shortcut_map)\n",
    "    text = re.sub(r\"[^a-z0-9\\s.,!?]\", \"\", text)\n",
    "    text = re.sub(r\"\\s+\", \" \", text).strip()\n",
    "    return text\n",
    "\n",
    "# Apply cleaning to DataFrame Columns\n",
    "data[\"Human_1\"] = data[\"Human_1\"].apply(clean_text)\n",
    "data[\"Human_2\"] = data[\"Human_2\"].apply(clean_text)"
   ]
  },
  {
   "cell_type": "code",
   "execution_count": 10,
   "metadata": {},
   "outputs": [
    {
     "data": {
      "text/html": [
       "<div>\n",
       "<style scoped>\n",
       "    .dataframe tbody tr th:only-of-type {\n",
       "        vertical-align: middle;\n",
       "    }\n",
       "\n",
       "    .dataframe tbody tr th {\n",
       "        vertical-align: top;\n",
       "    }\n",
       "\n",
       "    .dataframe thead th {\n",
       "        text-align: right;\n",
       "    }\n",
       "</style>\n",
       "<table border=\"1\" class=\"dataframe\">\n",
       "  <thead>\n",
       "    <tr style=\"text-align: right;\">\n",
       "      <th></th>\n",
       "      <th>Human_1</th>\n",
       "      <th>Human_2</th>\n",
       "    </tr>\n",
       "  </thead>\n",
       "  <tbody>\n",
       "    <tr>\n",
       "      <th>0</th>\n",
       "      <td>hi!</td>\n",
       "      <td>what is your favorite holiday?</td>\n",
       "    </tr>\n",
       "    <tr>\n",
       "      <th>1</th>\n",
       "      <td>one where i get to meet lots of different people.</td>\n",
       "      <td>what was the most number of people you have ev...</td>\n",
       "    </tr>\n",
       "    <tr>\n",
       "      <th>2</th>\n",
       "      <td>hard to keep a count. maybe 25.</td>\n",
       "      <td>which holiday was that?</td>\n",
       "    </tr>\n",
       "    <tr>\n",
       "      <th>3</th>\n",
       "      <td>i think it was australia</td>\n",
       "      <td>do you still talk to the people you met?</td>\n",
       "    </tr>\n",
       "    <tr>\n",
       "      <th>4</th>\n",
       "      <td>not really. the interactions are usually short...</td>\n",
       "      <td>yea, me too. i feel like god often puts strang...</td>\n",
       "    </tr>\n",
       "    <tr>\n",
       "      <th>5</th>\n",
       "      <td>what do you mean?</td>\n",
       "      <td>i think it is like a 6th sense, often seen as ...</td>\n",
       "    </tr>\n",
       "    <tr>\n",
       "      <th>6</th>\n",
       "      <td>wow! that is interesting, borderline spooky</td>\n",
       "      <td>there is this practice called treasure hunting...</td>\n",
       "    </tr>\n",
       "    <tr>\n",
       "      <th>7</th>\n",
       "      <td>so, do you do treasure hunting often?</td>\n",
       "      <td>i did more when i was in grad school and had m...</td>\n",
       "    </tr>\n",
       "    <tr>\n",
       "      <th>8</th>\n",
       "      <td>hi</td>\n",
       "      <td>any plans for the weekend?</td>\n",
       "    </tr>\n",
       "    <tr>\n",
       "      <th>9</th>\n",
       "      <td>my friends are gonna visit me this weekend. we...</td>\n",
       "      <td>that is great! how is the weather over the wee...</td>\n",
       "    </tr>\n",
       "  </tbody>\n",
       "</table>\n",
       "</div>"
      ],
      "text/plain": [
       "                                             Human_1  \\\n",
       "0                                                hi!   \n",
       "1  one where i get to meet lots of different people.   \n",
       "2                    hard to keep a count. maybe 25.   \n",
       "3                           i think it was australia   \n",
       "4  not really. the interactions are usually short...   \n",
       "5                                  what do you mean?   \n",
       "6        wow! that is interesting, borderline spooky   \n",
       "7              so, do you do treasure hunting often?   \n",
       "8                                                 hi   \n",
       "9  my friends are gonna visit me this weekend. we...   \n",
       "\n",
       "                                             Human_2  \n",
       "0                     what is your favorite holiday?  \n",
       "1  what was the most number of people you have ev...  \n",
       "2                            which holiday was that?  \n",
       "3           do you still talk to the people you met?  \n",
       "4  yea, me too. i feel like god often puts strang...  \n",
       "5  i think it is like a 6th sense, often seen as ...  \n",
       "6  there is this practice called treasure hunting...  \n",
       "7  i did more when i was in grad school and had m...  \n",
       "8                         any plans for the weekend?  \n",
       "9  that is great! how is the weather over the wee...  "
      ]
     },
     "execution_count": 10,
     "metadata": {},
     "output_type": "execute_result"
    }
   ],
   "source": [
    "data.head(10)"
   ]
  },
  {
   "cell_type": "code",
   "execution_count": 11,
   "metadata": {},
   "outputs": [
    {
     "name": "stdout",
     "output_type": "stream",
     "text": [
      "   10  11  114  12  20  2019  23  23rd  24  25  ...  yours  yourself  youtube  \\\n",
      "0   0   0    0   0   0     0   0     0   0   0  ...      0         0        0   \n",
      "1   0   0    0   0   0     0   0     0   0   0  ...      0         0        0   \n",
      "2   0   0    0   0   0     0   0     0   0   1  ...      0         0        0   \n",
      "3   0   0    0   0   0     0   0     0   0   0  ...      0         0        0   \n",
      "4   0   0    0   0   0     0   0     0   0   0  ...      0         0        0   \n",
      "\n",
      "   yrs  yum  yup  zero  zipline  ziplining  zucchini  \n",
      "0    0    0    0     0        0          0         0  \n",
      "1    0    0    0     0        0          0         0  \n",
      "2    0    0    0     0        0          0         0  \n",
      "3    0    0    0     0        0          0         0  \n",
      "4    0    0    0     0        0          0         0  \n",
      "\n",
      "[5 rows x 1800 columns]\n",
      "   10  11  114  12  20  2019  23  23rd  24  25  ...  yours  yourself  youtube  \\\n",
      "0   0   0    0   0   0     0   0     0   0   0  ...      0         0        0   \n",
      "1   0   0    0   0   0     0   0     0   0   0  ...      0         0        0   \n",
      "2   0   0    0   0   0     0   0     0   0   0  ...      0         0        0   \n",
      "3   0   0    0   0   0     0   0     0   0   0  ...      0         0        0   \n",
      "4   0   0    0   0   0     0   0     0   0   0  ...      0         0        0   \n",
      "\n",
      "   yrs  yum  yup  zero  zipline  ziplining  zucchini  \n",
      "0    0    0    0     0        0          0         0  \n",
      "1    0    0    0     0        0          0         0  \n",
      "2    0    0    0     0        0          0         0  \n",
      "3    0    0    0     0        0          0         0  \n",
      "4    0    0    0     0        0          0         0  \n",
      "\n",
      "[5 rows x 1800 columns]\n"
     ]
    }
   ],
   "source": [
    "from sklearn.feature_extraction.text import CountVectorizer\n",
    "\n",
    "# Initialize vectorizer\n",
    "vectorizer = CountVectorizer()\n",
    "\n",
    "# Transform both columns separately\n",
    "X_human1 = vectorizer.fit_transform(data[\"Human_1\"])\n",
    "X_human2 = vectorizer.transform(data[\"Human_2\"])\n",
    "\n",
    "# Convert to DataFrame\n",
    "bow_human1_data = pd.DataFrame(X_human1.toarray(), columns = vectorizer.get_feature_names_out())\n",
    "bow_human2_data = pd.DataFrame(X_human2.toarray(), columns = vectorizer.get_feature_names_out())\n",
    "\n",
    "print(bow_human1_data.head())\n",
    "print(bow_human2_data.head())"
   ]
  },
  {
   "cell_type": "code",
   "execution_count": 12,
   "metadata": {},
   "outputs": [
    {
     "name": "stderr",
     "output_type": "stream",
     "text": [
      "2025-01-30 02:33:41.705003: I tensorflow/core/platform/cpu_feature_guard.cc:210] This TensorFlow binary is optimized to use available CPU instructions in performance-critical operations.\n",
      "To enable the following instructions: AVX2 FMA, in other operations, rebuild TensorFlow with the appropriate compiler flags.\n",
      "/opt/miniconda3/envs/myenv/lib/python3.10/site-packages/keras/src/layers/core/embedding.py:90: UserWarning: Argument `input_length` is deprecated. Just remove it.\n",
      "  warnings.warn(\n"
     ]
    },
    {
     "data": {
      "text/html": [
       "<pre style=\"white-space:pre;overflow-x:auto;line-height:normal;font-family:Menlo,'DejaVu Sans Mono',consolas,'Courier New',monospace\"><span style=\"font-weight: bold\">Model: \"sequential\"</span>\n",
       "</pre>\n"
      ],
      "text/plain": [
       "\u001b[1mModel: \"sequential\"\u001b[0m\n"
      ]
     },
     "metadata": {},
     "output_type": "display_data"
    },
    {
     "data": {
      "text/html": [
       "<pre style=\"white-space:pre;overflow-x:auto;line-height:normal;font-family:Menlo,'DejaVu Sans Mono',consolas,'Courier New',monospace\">┏━━━━━━━━━━━━━━━━━━━━━━━━━━━━━━━━━┳━━━━━━━━━━━━━━━━━━━━━━━━┳━━━━━━━━━━━━━━━┓\n",
       "┃<span style=\"font-weight: bold\"> Layer (type)                    </span>┃<span style=\"font-weight: bold\"> Output Shape           </span>┃<span style=\"font-weight: bold\">       Param # </span>┃\n",
       "┡━━━━━━━━━━━━━━━━━━━━━━━━━━━━━━━━━╇━━━━━━━━━━━━━━━━━━━━━━━━╇━━━━━━━━━━━━━━━┩\n",
       "│ embedding (<span style=\"color: #0087ff; text-decoration-color: #0087ff\">Embedding</span>)           │ (<span style=\"color: #00d7ff; text-decoration-color: #00d7ff\">None</span>, <span style=\"color: #00af00; text-decoration-color: #00af00\">20</span>, <span style=\"color: #00af00; text-decoration-color: #00af00\">256</span>)        │     <span style=\"color: #00af00; text-decoration-color: #00af00\">2,560,000</span> │\n",
       "├─────────────────────────────────┼────────────────────────┼───────────────┤\n",
       "│ lstm (<span style=\"color: #0087ff; text-decoration-color: #0087ff\">LSTM</span>)                     │ (<span style=\"color: #00d7ff; text-decoration-color: #00d7ff\">None</span>, <span style=\"color: #00af00; text-decoration-color: #00af00\">20</span>, <span style=\"color: #00af00; text-decoration-color: #00af00\">512</span>)        │     <span style=\"color: #00af00; text-decoration-color: #00af00\">1,574,912</span> │\n",
       "├─────────────────────────────────┼────────────────────────┼───────────────┤\n",
       "│ lstm_1 (<span style=\"color: #0087ff; text-decoration-color: #0087ff\">LSTM</span>)                   │ (<span style=\"color: #00d7ff; text-decoration-color: #00d7ff\">None</span>, <span style=\"color: #00af00; text-decoration-color: #00af00\">512</span>)            │     <span style=\"color: #00af00; text-decoration-color: #00af00\">2,099,200</span> │\n",
       "├─────────────────────────────────┼────────────────────────┼───────────────┤\n",
       "│ dense (<span style=\"color: #0087ff; text-decoration-color: #0087ff\">Dense</span>)                   │ (<span style=\"color: #00d7ff; text-decoration-color: #00d7ff\">None</span>, <span style=\"color: #00af00; text-decoration-color: #00af00\">10000</span>)          │     <span style=\"color: #00af00; text-decoration-color: #00af00\">5,130,000</span> │\n",
       "└─────────────────────────────────┴────────────────────────┴───────────────┘\n",
       "</pre>\n"
      ],
      "text/plain": [
       "┏━━━━━━━━━━━━━━━━━━━━━━━━━━━━━━━━━┳━━━━━━━━━━━━━━━━━━━━━━━━┳━━━━━━━━━━━━━━━┓\n",
       "┃\u001b[1m \u001b[0m\u001b[1mLayer (type)                   \u001b[0m\u001b[1m \u001b[0m┃\u001b[1m \u001b[0m\u001b[1mOutput Shape          \u001b[0m\u001b[1m \u001b[0m┃\u001b[1m \u001b[0m\u001b[1m      Param #\u001b[0m\u001b[1m \u001b[0m┃\n",
       "┡━━━━━━━━━━━━━━━━━━━━━━━━━━━━━━━━━╇━━━━━━━━━━━━━━━━━━━━━━━━╇━━━━━━━━━━━━━━━┩\n",
       "│ embedding (\u001b[38;5;33mEmbedding\u001b[0m)           │ (\u001b[38;5;45mNone\u001b[0m, \u001b[38;5;34m20\u001b[0m, \u001b[38;5;34m256\u001b[0m)        │     \u001b[38;5;34m2,560,000\u001b[0m │\n",
       "├─────────────────────────────────┼────────────────────────┼───────────────┤\n",
       "│ lstm (\u001b[38;5;33mLSTM\u001b[0m)                     │ (\u001b[38;5;45mNone\u001b[0m, \u001b[38;5;34m20\u001b[0m, \u001b[38;5;34m512\u001b[0m)        │     \u001b[38;5;34m1,574,912\u001b[0m │\n",
       "├─────────────────────────────────┼────────────────────────┼───────────────┤\n",
       "│ lstm_1 (\u001b[38;5;33mLSTM\u001b[0m)                   │ (\u001b[38;5;45mNone\u001b[0m, \u001b[38;5;34m512\u001b[0m)            │     \u001b[38;5;34m2,099,200\u001b[0m │\n",
       "├─────────────────────────────────┼────────────────────────┼───────────────┤\n",
       "│ dense (\u001b[38;5;33mDense\u001b[0m)                   │ (\u001b[38;5;45mNone\u001b[0m, \u001b[38;5;34m10000\u001b[0m)          │     \u001b[38;5;34m5,130,000\u001b[0m │\n",
       "└─────────────────────────────────┴────────────────────────┴───────────────┘\n"
      ]
     },
     "metadata": {},
     "output_type": "display_data"
    },
    {
     "data": {
      "text/html": [
       "<pre style=\"white-space:pre;overflow-x:auto;line-height:normal;font-family:Menlo,'DejaVu Sans Mono',consolas,'Courier New',monospace\"><span style=\"font-weight: bold\"> Total params: </span><span style=\"color: #00af00; text-decoration-color: #00af00\">11,364,112</span> (43.35 MB)\n",
       "</pre>\n"
      ],
      "text/plain": [
       "\u001b[1m Total params: \u001b[0m\u001b[38;5;34m11,364,112\u001b[0m (43.35 MB)\n"
      ]
     },
     "metadata": {},
     "output_type": "display_data"
    },
    {
     "data": {
      "text/html": [
       "<pre style=\"white-space:pre;overflow-x:auto;line-height:normal;font-family:Menlo,'DejaVu Sans Mono',consolas,'Courier New',monospace\"><span style=\"font-weight: bold\"> Trainable params: </span><span style=\"color: #00af00; text-decoration-color: #00af00\">11,364,112</span> (43.35 MB)\n",
       "</pre>\n"
      ],
      "text/plain": [
       "\u001b[1m Trainable params: \u001b[0m\u001b[38;5;34m11,364,112\u001b[0m (43.35 MB)\n"
      ]
     },
     "metadata": {},
     "output_type": "display_data"
    },
    {
     "data": {
      "text/html": [
       "<pre style=\"white-space:pre;overflow-x:auto;line-height:normal;font-family:Menlo,'DejaVu Sans Mono',consolas,'Courier New',monospace\"><span style=\"font-weight: bold\"> Non-trainable params: </span><span style=\"color: #00af00; text-decoration-color: #00af00\">0</span> (0.00 B)\n",
       "</pre>\n"
      ],
      "text/plain": [
       "\u001b[1m Non-trainable params: \u001b[0m\u001b[38;5;34m0\u001b[0m (0.00 B)\n"
      ]
     },
     "metadata": {},
     "output_type": "display_data"
    }
   ],
   "source": [
    "import tensorflow as tf\n",
    "from tensorflow.keras.layers import Embedding, LSTM, Dense\n",
    "from tensorflow.keras.models import Sequential\n",
    "\n",
    "# Define constants\n",
    "VOCAB_SIZE = 10000\n",
    "EMBEDDING_DIM = 256\n",
    "SEQUENCE_LENGTH = 20\n",
    "\n",
    "# Define a simple Seq2Seq model\n",
    "model = Sequential([\n",
    "    Embedding(input_dim = VOCAB_SIZE, output_dim = EMBEDDING_DIM, input_length = SEQUENCE_LENGTH),\n",
    "    LSTM(512, return_sequences = True),\n",
    "    LSTM(512),\n",
    "    Dense(VOCAB_SIZE, activation = \"softmax\")\n",
    "])\n",
    "\n",
    "model.build(input_shape = (None, SEQUENCE_LENGTH))\n",
    "\n",
    "model.compile(loss = \"categorical_crossentropy\", optimizer = \"adam\")\n",
    "model.summary()"
   ]
  },
  {
   "cell_type": "code",
   "execution_count": 13,
   "metadata": {},
   "outputs": [
    {
     "name": "stdout",
     "output_type": "stream",
     "text": [
      "Example Encoded Input: [31  0  0  0  0  0  0  0  0  0  0  0  0  0  0  0  0  0  0  0]\n"
     ]
    }
   ],
   "source": [
    "from tensorflow.keras.preprocessing.text import Tokenizer\n",
    "from tensorflow.keras.preprocessing.sequence import pad_sequences\n",
    "\n",
    "# # Example dataset\n",
    "# Human_2 = [\"Any plans for the weekend?\", \"Right, very anxious! where do you plan to go for a hike?\"]\n",
    "# Human_1 = [\"my friends are gonna visit me this weekend. we might go hiking!\", \"I am going to Diablo!\"]\n",
    "\n",
    "# Initialize Tokenizer\n",
    "VOCAB_SIZE = 10000\n",
    "tokenizer = Tokenizer(num_words = VOCAB_SIZE)\n",
    "tokenizer.fit_on_texts(data['Human_1'] + data['Human_2'])\n",
    "\n",
    "# Convert Text to Sequences\n",
    "X_train = tokenizer.texts_to_sequences(data['Human_1'])\n",
    "y_train = tokenizer.texts_to_sequences(data['Human_2'])\n",
    "\n",
    "# Padding\n",
    "SEQUENCE_LENGTH = 20\n",
    "X_train = pad_sequences(X_train, maxlen = SEQUENCE_LENGTH, padding = \"post\")\n",
    "y_train = pad_sequences(y_train, maxlen = SEQUENCE_LENGTH, padding = \"post\")\n",
    "\n",
    "print(\"Example Encoded Input:\", X_train[0])\n"
   ]
  },
  {
   "cell_type": "code",
   "execution_count": 20,
   "metadata": {},
   "outputs": [
    {
     "name": "stdout",
     "output_type": "stream",
     "text": [
      "Tokenized Input: [[149, 20, 18, 2]]\n",
      "Padded Input: [[149  20  18   2   0   0   0   0   0   0   0   0   0   0   0   0   0   0\n",
      "    0   0]]\n"
     ]
    },
    {
     "data": {
      "text/plain": [
       "array([[149,  20,  18,   2,   0,   0,   0,   0,   0,   0,   0,   0,   0,\n",
       "          0,   0,   0,   0,   0,   0,   0]], dtype=int32)"
      ]
     },
     "execution_count": 20,
     "metadata": {},
     "output_type": "execute_result"
    }
   ],
   "source": [
    "def debug_tokenization(input_text):\n",
    "    # Check tokenization step\n",
    "    input_seq = tokenizer.texts_to_sequences([input_text])\n",
    "    print(\"Tokenized Input:\", input_seq)\n",
    "\n",
    "    # Ensure padding works correctly\n",
    "    input_seq_padded = pad_sequences(input_seq, maxlen = SEQUENCE_LENGTH, padding = 'post')\n",
    "    print('Padded Input:', input_seq_padded)\n",
    "\n",
    "    return input_seq_padded\n",
    "\n",
    "debug_tokenization(\"Hello, how are you?\")"
   ]
  },
  {
   "cell_type": "code",
   "execution_count": 14,
   "metadata": {},
   "outputs": [
    {
     "name": "stdout",
     "output_type": "stream",
     "text": [
      "(747, 10000)\n"
     ]
    }
   ],
   "source": [
    "from tensorflow.keras.utils import to_categorical\n",
    "import numpy as np\n",
    "\n",
    "# Convert y_train to NumPy\n",
    "y_train = np.array(y_train)\n",
    "# Fix the shape\n",
    "y_train = y_train[:, -1]\n",
    "\n",
    "# Convert to one-hot encoding\n",
    "y_train = to_categorical(y_train, num_classes = VOCAB_SIZE)\n",
    "print(y_train.shape)"
   ]
  },
  {
   "cell_type": "code",
   "execution_count": 15,
   "metadata": {},
   "outputs": [
    {
     "name": "stdout",
     "output_type": "stream",
     "text": [
      "Epoch 1/50\n",
      "\u001b[1m24/24\u001b[0m \u001b[32m━━━━━━━━━━━━━━━━━━━━\u001b[0m\u001b[37m\u001b[0m \u001b[1m13s\u001b[0m 426ms/step - loss: 5.9369\n",
      "Epoch 2/50\n",
      "\u001b[1m24/24\u001b[0m \u001b[32m━━━━━━━━━━━━━━━━━━━━\u001b[0m\u001b[37m\u001b[0m \u001b[1m9s\u001b[0m 363ms/step - loss: 2.1241\n",
      "Epoch 3/50\n",
      "\u001b[1m24/24\u001b[0m \u001b[32m━━━━━━━━━━━━━━━━━━━━\u001b[0m\u001b[37m\u001b[0m \u001b[1m8s\u001b[0m 347ms/step - loss: 1.9205\n",
      "Epoch 4/50\n",
      "\u001b[1m24/24\u001b[0m \u001b[32m━━━━━━━━━━━━━━━━━━━━\u001b[0m\u001b[37m\u001b[0m \u001b[1m8s\u001b[0m 314ms/step - loss: 1.7696\n",
      "Epoch 5/50\n",
      "\u001b[1m24/24\u001b[0m \u001b[32m━━━━━━━━━━━━━━━━━━━━\u001b[0m\u001b[37m\u001b[0m \u001b[1m7s\u001b[0m 311ms/step - loss: 1.6795\n",
      "Epoch 6/50\n",
      "\u001b[1m24/24\u001b[0m \u001b[32m━━━━━━━━━━━━━━━━━━━━\u001b[0m\u001b[37m\u001b[0m \u001b[1m8s\u001b[0m 345ms/step - loss: 1.8283\n",
      "Epoch 7/50\n",
      "\u001b[1m24/24\u001b[0m \u001b[32m━━━━━━━━━━━━━━━━━━━━\u001b[0m\u001b[37m\u001b[0m \u001b[1m8s\u001b[0m 329ms/step - loss: 1.6193\n",
      "Epoch 8/50\n",
      "\u001b[1m24/24\u001b[0m \u001b[32m━━━━━━━━━━━━━━━━━━━━\u001b[0m\u001b[37m\u001b[0m \u001b[1m8s\u001b[0m 324ms/step - loss: 1.7060\n",
      "Epoch 9/50\n",
      "\u001b[1m24/24\u001b[0m \u001b[32m━━━━━━━━━━━━━━━━━━━━\u001b[0m\u001b[37m\u001b[0m \u001b[1m9s\u001b[0m 374ms/step - loss: 1.6254\n",
      "Epoch 10/50\n",
      "\u001b[1m24/24\u001b[0m \u001b[32m━━━━━━━━━━━━━━━━━━━━\u001b[0m\u001b[37m\u001b[0m \u001b[1m8s\u001b[0m 328ms/step - loss: 1.6333\n",
      "Epoch 11/50\n",
      "\u001b[1m24/24\u001b[0m \u001b[32m━━━━━━━━━━━━━━━━━━━━\u001b[0m\u001b[37m\u001b[0m \u001b[1m8s\u001b[0m 329ms/step - loss: 1.5591\n",
      "Epoch 12/50\n",
      "\u001b[1m24/24\u001b[0m \u001b[32m━━━━━━━━━━━━━━━━━━━━\u001b[0m\u001b[37m\u001b[0m \u001b[1m8s\u001b[0m 320ms/step - loss: 1.7654\n",
      "Epoch 13/50\n",
      "\u001b[1m24/24\u001b[0m \u001b[32m━━━━━━━━━━━━━━━━━━━━\u001b[0m\u001b[37m\u001b[0m \u001b[1m8s\u001b[0m 331ms/step - loss: 1.6480\n",
      "Epoch 14/50\n",
      "\u001b[1m24/24\u001b[0m \u001b[32m━━━━━━━━━━━━━━━━━━━━\u001b[0m\u001b[37m\u001b[0m \u001b[1m8s\u001b[0m 326ms/step - loss: 1.6281\n",
      "Epoch 15/50\n",
      "\u001b[1m24/24\u001b[0m \u001b[32m━━━━━━━━━━━━━━━━━━━━\u001b[0m\u001b[37m\u001b[0m \u001b[1m8s\u001b[0m 319ms/step - loss: 1.5964\n",
      "Epoch 16/50\n",
      "\u001b[1m24/24\u001b[0m \u001b[32m━━━━━━━━━━━━━━━━━━━━\u001b[0m\u001b[37m\u001b[0m \u001b[1m8s\u001b[0m 319ms/step - loss: 1.6265\n",
      "Epoch 17/50\n",
      "\u001b[1m24/24\u001b[0m \u001b[32m━━━━━━━━━━━━━━━━━━━━\u001b[0m\u001b[37m\u001b[0m \u001b[1m8s\u001b[0m 323ms/step - loss: 1.5793\n",
      "Epoch 18/50\n",
      "\u001b[1m24/24\u001b[0m \u001b[32m━━━━━━━━━━━━━━━━━━━━\u001b[0m\u001b[37m\u001b[0m \u001b[1m8s\u001b[0m 323ms/step - loss: 1.8608\n",
      "Epoch 19/50\n",
      "\u001b[1m24/24\u001b[0m \u001b[32m━━━━━━━━━━━━━━━━━━━━\u001b[0m\u001b[37m\u001b[0m \u001b[1m8s\u001b[0m 320ms/step - loss: 1.6337\n",
      "Epoch 20/50\n",
      "\u001b[1m24/24\u001b[0m \u001b[32m━━━━━━━━━━━━━━━━━━━━\u001b[0m\u001b[37m\u001b[0m \u001b[1m8s\u001b[0m 317ms/step - loss: 1.8268\n",
      "Epoch 21/50\n",
      "\u001b[1m24/24\u001b[0m \u001b[32m━━━━━━━━━━━━━━━━━━━━\u001b[0m\u001b[37m\u001b[0m \u001b[1m10s\u001b[0m 302ms/step - loss: 1.6883\n",
      "Epoch 22/50\n",
      "\u001b[1m24/24\u001b[0m \u001b[32m━━━━━━━━━━━━━━━━━━━━\u001b[0m\u001b[37m\u001b[0m \u001b[1m8s\u001b[0m 326ms/step - loss: 1.6079\n",
      "Epoch 23/50\n",
      "\u001b[1m24/24\u001b[0m \u001b[32m━━━━━━━━━━━━━━━━━━━━\u001b[0m\u001b[37m\u001b[0m \u001b[1m8s\u001b[0m 317ms/step - loss: 1.8374\n",
      "Epoch 24/50\n",
      "\u001b[1m24/24\u001b[0m \u001b[32m━━━━━━━━━━━━━━━━━━━━\u001b[0m\u001b[37m\u001b[0m \u001b[1m8s\u001b[0m 316ms/step - loss: 1.7932\n",
      "Epoch 25/50\n",
      "\u001b[1m24/24\u001b[0m \u001b[32m━━━━━━━━━━━━━━━━━━━━\u001b[0m\u001b[37m\u001b[0m \u001b[1m8s\u001b[0m 321ms/step - loss: 1.6829\n",
      "Epoch 26/50\n",
      "\u001b[1m24/24\u001b[0m \u001b[32m━━━━━━━━━━━━━━━━━━━━\u001b[0m\u001b[37m\u001b[0m \u001b[1m9s\u001b[0m 374ms/step - loss: 1.8046\n",
      "Epoch 27/50\n",
      "\u001b[1m24/24\u001b[0m \u001b[32m━━━━━━━━━━━━━━━━━━━━\u001b[0m\u001b[37m\u001b[0m \u001b[1m8s\u001b[0m 314ms/step - loss: 1.7617\n",
      "Epoch 28/50\n",
      "\u001b[1m24/24\u001b[0m \u001b[32m━━━━━━━━━━━━━━━━━━━━\u001b[0m\u001b[37m\u001b[0m \u001b[1m8s\u001b[0m 316ms/step - loss: 1.7540\n",
      "Epoch 29/50\n",
      "\u001b[1m24/24\u001b[0m \u001b[32m━━━━━━━━━━━━━━━━━━━━\u001b[0m\u001b[37m\u001b[0m \u001b[1m8s\u001b[0m 322ms/step - loss: 1.6606\n",
      "Epoch 30/50\n",
      "\u001b[1m24/24\u001b[0m \u001b[32m━━━━━━━━━━━━━━━━━━━━\u001b[0m\u001b[37m\u001b[0m \u001b[1m8s\u001b[0m 315ms/step - loss: 1.5242\n",
      "Epoch 31/50\n",
      "\u001b[1m24/24\u001b[0m \u001b[32m━━━━━━━━━━━━━━━━━━━━\u001b[0m\u001b[37m\u001b[0m \u001b[1m10s\u001b[0m 296ms/step - loss: 1.6379\n",
      "Epoch 32/50\n",
      "\u001b[1m24/24\u001b[0m \u001b[32m━━━━━━━━━━━━━━━━━━━━\u001b[0m\u001b[37m\u001b[0m \u001b[1m8s\u001b[0m 321ms/step - loss: 1.7347\n",
      "Epoch 33/50\n",
      "\u001b[1m24/24\u001b[0m \u001b[32m━━━━━━━━━━━━━━━━━━━━\u001b[0m\u001b[37m\u001b[0m \u001b[1m8s\u001b[0m 316ms/step - loss: 1.7073\n",
      "Epoch 34/50\n",
      "\u001b[1m24/24\u001b[0m \u001b[32m━━━━━━━━━━━━━━━━━━━━\u001b[0m\u001b[37m\u001b[0m \u001b[1m8s\u001b[0m 315ms/step - loss: 1.7000\n",
      "Epoch 35/50\n",
      "\u001b[1m24/24\u001b[0m \u001b[32m━━━━━━━━━━━━━━━━━━━━\u001b[0m\u001b[37m\u001b[0m \u001b[1m8s\u001b[0m 322ms/step - loss: 1.6408\n",
      "Epoch 36/50\n",
      "\u001b[1m24/24\u001b[0m \u001b[32m━━━━━━━━━━━━━━━━━━━━\u001b[0m\u001b[37m\u001b[0m \u001b[1m8s\u001b[0m 316ms/step - loss: 1.7119\n",
      "Epoch 37/50\n",
      "\u001b[1m24/24\u001b[0m \u001b[32m━━━━━━━━━━━━━━━━━━━━\u001b[0m\u001b[37m\u001b[0m \u001b[1m8s\u001b[0m 323ms/step - loss: 1.7271\n",
      "Epoch 38/50\n",
      "\u001b[1m24/24\u001b[0m \u001b[32m━━━━━━━━━━━━━━━━━━━━\u001b[0m\u001b[37m\u001b[0m \u001b[1m8s\u001b[0m 316ms/step - loss: 1.6121\n",
      "Epoch 39/50\n",
      "\u001b[1m24/24\u001b[0m \u001b[32m━━━━━━━━━━━━━━━━━━━━\u001b[0m\u001b[37m\u001b[0m \u001b[1m8s\u001b[0m 316ms/step - loss: 1.4986\n",
      "Epoch 40/50\n",
      "\u001b[1m24/24\u001b[0m \u001b[32m━━━━━━━━━━━━━━━━━━━━\u001b[0m\u001b[37m\u001b[0m \u001b[1m8s\u001b[0m 320ms/step - loss: 1.7431\n",
      "Epoch 41/50\n",
      "\u001b[1m24/24\u001b[0m \u001b[32m━━━━━━━━━━━━━━━━━━━━\u001b[0m\u001b[37m\u001b[0m \u001b[1m8s\u001b[0m 351ms/step - loss: 1.6902\n",
      "Epoch 42/50\n",
      "\u001b[1m24/24\u001b[0m \u001b[32m━━━━━━━━━━━━━━━━━━━━\u001b[0m\u001b[37m\u001b[0m \u001b[1m8s\u001b[0m 324ms/step - loss: 1.8247\n",
      "Epoch 43/50\n",
      "\u001b[1m24/24\u001b[0m \u001b[32m━━━━━━━━━━━━━━━━━━━━\u001b[0m\u001b[37m\u001b[0m \u001b[1m8s\u001b[0m 320ms/step - loss: 1.6361\n",
      "Epoch 44/50\n",
      "\u001b[1m24/24\u001b[0m \u001b[32m━━━━━━━━━━━━━━━━━━━━\u001b[0m\u001b[37m\u001b[0m \u001b[1m8s\u001b[0m 322ms/step - loss: 1.8368\n",
      "Epoch 45/50\n",
      "\u001b[1m24/24\u001b[0m \u001b[32m━━━━━━━━━━━━━━━━━━━━\u001b[0m\u001b[37m\u001b[0m \u001b[1m8s\u001b[0m 322ms/step - loss: 1.5677\n",
      "Epoch 46/50\n",
      "\u001b[1m24/24\u001b[0m \u001b[32m━━━━━━━━━━━━━━━━━━━━\u001b[0m\u001b[37m\u001b[0m \u001b[1m8s\u001b[0m 316ms/step - loss: 1.7269\n",
      "Epoch 47/50\n",
      "\u001b[1m24/24\u001b[0m \u001b[32m━━━━━━━━━━━━━━━━━━━━\u001b[0m\u001b[37m\u001b[0m \u001b[1m8s\u001b[0m 321ms/step - loss: 1.8015\n",
      "Epoch 48/50\n",
      "\u001b[1m24/24\u001b[0m \u001b[32m━━━━━━━━━━━━━━━━━━━━\u001b[0m\u001b[37m\u001b[0m \u001b[1m8s\u001b[0m 316ms/step - loss: 1.7023\n",
      "Epoch 49/50\n",
      "\u001b[1m24/24\u001b[0m \u001b[32m━━━━━━━━━━━━━━━━━━━━\u001b[0m\u001b[37m\u001b[0m \u001b[1m8s\u001b[0m 319ms/step - loss: 1.6285\n",
      "Epoch 50/50\n",
      "\u001b[1m24/24\u001b[0m \u001b[32m━━━━━━━━━━━━━━━━━━━━\u001b[0m\u001b[37m\u001b[0m \u001b[1m8s\u001b[0m 323ms/step - loss: 1.7702\n"
     ]
    },
    {
     "data": {
      "text/plain": [
       "<keras.src.callbacks.history.History at 0x7f7a3373ffd0>"
      ]
     },
     "execution_count": 15,
     "metadata": {},
     "output_type": "execute_result"
    }
   ],
   "source": [
    "# Train the model\n",
    "model.fit(X_train, y_train, epochs = 50, batch_size = 32, verbose = 1)"
   ]
  },
  {
   "cell_type": "code",
   "execution_count": 21,
   "metadata": {},
   "outputs": [
    {
     "name": "stdout",
     "output_type": "stream",
     "text": [
      "Tokenized Input: [[149, 20, 18, 2]]\n",
      "Padded Input: [[149  20  18   2   0   0   0   0   0   0   0   0   0   0   0   0   0   0\n",
      "    0   0]]\n",
      "\u001b[1m1/1\u001b[0m \u001b[32m━━━━━━━━━━━━━━━━━━━━\u001b[0m\u001b[37m\u001b[0m \u001b[1m0s\u001b[0m 219ms/step\n",
      "Predicted Probabilities: [[7.9757100e-01 9.3082164e-09 1.5308521e-02 ... 1.2180631e-08\n",
      "  9.7248325e-09 1.0302393e-08]]\n"
     ]
    },
    {
     "data": {
      "text/plain": [
       "array([[7.9757100e-01, 9.3082164e-09, 1.5308521e-02, ..., 1.2180631e-08,\n",
       "        9.7248325e-09, 1.0302393e-08]], dtype=float32)"
      ]
     },
     "execution_count": 21,
     "metadata": {},
     "output_type": "execute_result"
    }
   ],
   "source": [
    "def debug_model_output(input_seq_padded):\n",
    "    # Get prediction\n",
    "    predicted_probs = model.predict(input_seq_padded)\n",
    "    print(\"Predicted Probabilities:\", predicted_probs)\n",
    "\n",
    "    return predicted_probs\n",
    "\n",
    "input_seq_padded = debug_tokenization(\"Hello, how are you?\")\n",
    "debug_model_output(input_seq_padded)"
   ]
  },
  {
   "cell_type": "code",
   "execution_count": 23,
   "metadata": {},
   "outputs": [
    {
     "name": "stdout",
     "output_type": "stream",
     "text": [
      "\u001b[1m1/1\u001b[0m \u001b[32m━━━━━━━━━━━━━━━━━━━━\u001b[0m\u001b[37m\u001b[0m \u001b[1m0s\u001b[0m 61ms/step\n",
      "Predicted Probabilities: [[7.9757100e-01 9.3082164e-09 1.5308521e-02 ... 1.2180631e-08\n",
      "  9.7248325e-09 1.0302393e-08]]\n",
      "Index to Word Mapping: {1: 'i', 2: 'you', 3: 'to', 4: 'the', 5: 'a', 6: 'is', 7: 'it', 8: 'of', 9: 'do', 10: 'have', 11: 'that', 12: 'and', 13: 'not', 14: 'what', 15: 'in', 16: 'for', 17: 'am', 18: 'are', 19: 'like', 20: 'how', 21: 'but', 22: 'so', 23: 'good', 24: 'about', 25: 'my', 26: 'your', 27: 'be', 28: 'was', 29: 'with', 30: 'on', 31: 'hi', 32: 'think', 33: 'going', 34: 'just', 35: 'can', 36: 'up', 37: 'this', 38: 'there', 39: 'would', 40: 'time', 41: 'we', 42: 'at', 43: 'me', 44: 'will', 45: 'oh', 46: 'too', 47: 'some', 48: 'work', 49: 'no', 50: 'very', 51: 'did', 52: 'nice', 53: 'all', 54: 'really', 55: 'as', 56: 'been', 57: 'day', 58: 'lot', 59: 'haha', 60: 'great', 61: 'fun', 62: 'any', 63: 'yes', 64: 'they', 65: 'pretty', 66: 'out', 67: 'get', 68: 'if', 69: 'know', 70: 'well', 71: 'one', 72: 'more', 73: 'go', 74: 'from', 75: 'or', 76: 'yeah', 77: 'cool', 78: 'much', 79: 'sounds', 80: 'an', 81: 'love', 82: 'also', 83: 'where', 84: 'them', 85: 'try', 86: 'had', 87: 'response', 88: 'doing', 89: 'people', 90: 'wow', 91: 'actually', 92: 'though', 93: 'last', 94: 'see', 95: 'food', 96: 'when', 97: 'should', 98: 'now', 99: 'does', 100: 'which', 101: 'never', 102: 'then', 103: 'want', 104: 'right', 105: 'here', 106: 'new', 107: 'sure', 108: 'before', 109: 'weekend', 110: 'lol', 111: 'by', 112: 'favorite', 113: 'hey', 114: 'has', 115: 'heard', 116: 'its', 117: 'long', 118: 'year', 119: 'thanks', 120: 'same', 121: 'ever', 122: 'kind', 123: 'book', 124: 'friends', 125: 'plans', 126: 'today', 127: 'far', 128: 'make', 129: 'got', 130: 'things', 131: 'something', 132: 'hope', 133: 'enjoy', 134: 'watch', 135: 'most', 136: 'feel', 137: 'seen', 138: 'interesting', 139: 'who', 140: 'over', 141: 'best', 142: 'better', 143: 'live', 144: 'place', 145: 'say', 146: 'bit', 147: 'redactedterm', 148: 'tried', 149: 'hello', 150: 'only', 151: 'next', 152: 'play', 153: 'plan', 154: 'take', 155: 'went', 156: 'these', 157: 'why', 158: 'trying', 159: 'maybe', 160: 'game', 161: 'week', 162: 'home', 163: 'thanksgiving', 164: 'guess', 165: 'into', 166: 'days', 167: 'yea', 168: 'find', 169: 'anything', 170: 'holidays', 171: 'other', 172: 'family', 173: 'true', 174: 'read', 175: 'down', 176: 'life', 177: 'bad', 178: 'were', 179: 'thing', 180: 'couple', 181: 'way', 182: 'those', 183: 'little', 184: 'hard', 185: 'cold', 186: 'idea', 187: 'few', 188: 'chocolate', 189: 'planning', 190: 'first', 191: 'because', 192: 'world', 193: 'always', 194: 'run', 195: 'places', 196: 'lunch', 197: 'different', 198: 'still', 199: 'once', 200: 'back', 201: 'called', 202: 'having', 203: 'visit', 204: 'need', 205: 'movies', 206: 'movie', 207: 'prefer', 208: 'getting', 209: 'fish', 210: 'mostly', 211: 'looking', 212: 'used', 213: 'yourself', 214: 'meet', 215: 'may', 216: 'might', 217: 'many', 218: 'let', 219: 'could', 220: 'thinking', 221: 'christmas', 222: 'ah', 223: 'made', 224: 'busy', 225: 'working', 226: 'their', 227: 'often', 228: 'show', 229: 'every', 230: 'york', 231: 'okay', 232: 'probably', 233: 'us', 234: 'reading', 235: 'after', 236: 'definitely', 237: 'eat', 238: 'even', 239: 'part', 240: 'around', 241: 'myself', 242: 'yet', 243: 'person', 244: 'already', 245: 'turkey', 246: 'awesome', 247: 'help', 248: 'during', 249: 'coming', 250: 'practice', 251: 'sometimes', 252: 'school', 253: 'done', 254: 'believe', 255: 'hmm', 256: 'talking', 257: 'years', 258: 'through', 259: 'season', 260: 'sorry', 261: 'hear', 262: 'check', 263: 'wait', 264: 'everything', 265: 'research', 266: 'than', 267: 'being', 268: 'lots', 269: 'talk', 270: 'saw', 271: 'gonna', 272: 'stay', 273: 'soon', 274: 'friend', 275: 'able', 276: 'later', 277: 'big', 278: 'put', 279: 'thought', 280: 'robot', 281: 'makes', 282: 'feeling', 283: 'start', 284: 'amazing', 285: 'super', 286: 'books', 287: 'tea', 288: 'shows', 289: 'holiday', 290: 'mean', 291: 'him', 292: 'experience', 293: 'water', 294: 'tree', 295: 'type', 296: 'else', 297: 'ramen', 298: 'important', 299: 'whole', 300: 'end', 301: 'enough', 302: 'ask', 303: 'pick', 304: 'played', 305: 'high', 306: 'our', 307: 'games', 308: 'stuff', 309: 'class', 310: 'trip', 311: 'team', 312: 'months', 313: 'usually', 314: 'someone', 315: 'weather', 316: 'nothing', 317: 'catch', 318: 'recently', 319: 'morning', 320: 'name', 321: 'scary', 322: 'ago', 323: 'quite', 324: 'question', 325: 'cook', 326: 'travel', 327: 'come', 328: 'depends', 329: 'funny', 330: 'ok', 331: 'hot', 332: 'ahh', 333: 'sort', 334: 'forward', 335: 'san', 336: 'skiing', 337: 'city', 338: 'playing', 339: 'ice', 340: 'tennis', 341: 'meeting', 342: 'thats', 343: 'learn', 344: 'he', 345: 'give', 346: 'old', 347: 'wish', 348: 'started', 349: 'nope', 350: 'drink', 351: 'afraid', 352: 'such', 353: 'lately', 354: 'watched', 355: 'must', 356: 'sick', 357: 'set', 358: 'buy', 359: 'money', 360: 'flower', 361: 'mind', 362: 'two', 363: 'disney', 364: 'music', 365: 'watching', 366: 'fan', 367: 'understand', 368: 'finish', 369: 'science', 370: 'tough', 371: 'cream', 372: 'group', 373: 'balance', 374: 'break', 375: 'hehe', 376: 'extreme', 377: 'pikachu', 378: 'together', 379: 'conference', 380: 'met', 381: 'keep', 382: 'sense', 383: 'man', 384: 'again', 385: 'shopping', 386: 'tell', 387: 'warm', 388: 'project', 389: 'especially', 390: 'exciting', 391: 'looks', 392: 'rain', 393: 'area', 394: 'grew', 395: 'sleep', 396: 'sad', 397: 'cat', 398: 'dish', 399: 'beautiful', 400: 'delicious', 401: 'admit', 402: 'happy', 403: 'remember', 404: 'apparently', 405: 'taking', 406: 'favourite', 407: 'course', 408: 'japan', 409: 'based', 410: 'snow', 411: 'instead', 412: 'both', 413: 'outside', 414: 'winter', 415: 'recommend', 416: 'visited', 417: 'yup', 418: 'sweet', 419: 'mentor', 420: 'dinner', 421: 'style', 422: 'goes', 423: 'event', 424: 'volunteer', 425: 'coffee', 426: 'while', 427: 'write', 428: 'close', 429: 'drive', 430: 'almost', 431: 'events', 432: 'kinds', 433: 'join', 434: 'early', 435: 'sound', 436: 'tired', 437: 'avatar', 438: 'cookies', 439: 'noodle', 440: 'yay', 441: 'travelling', 442: 'hawaii', 443: 'excited', 444: '3', 445: 'glad', 446: 'until', 447: 'between', 448: 'real', 449: 'month', 450: 'happened', 451: 'horse', 452: 'job', 453: '1', 454: 'someday', 455: 'thank', 456: 'wanted', 457: 'projects', 458: 'honestly', 459: 'cafe', 460: 'since', 461: 'least', 462: 'everyone', 463: 'seems', 464: 'brain', 465: 'icecream', 466: 'care', 467: 'top', 468: 'wonder', 469: 'physical', 470: 'college', 471: 'impressive', 472: 'night', 473: 'full', 474: 'taste', 475: 'meetings', 476: 'video', 477: 'figure', 478: 'off', 479: 'white', 480: 'found', 481: 'croissants', 482: 'dark', 483: 'etc', 484: 'eating', 485: 'wanna', 486: 'sport', 487: 'scifi', 488: 'ski', 489: 'gone', 490: 'netflix', 491: 'badminton', 492: 'im', 493: 'tv', 494: 'ball', 495: 'australia', 496: 'jazz', 497: 'mountain', 498: 'tubing', 499: 'beach', 500: 'moment', 501: 'turns', 502: 'said', 503: 'party', 504: 'use', 505: 'message', 506: 'word', 507: 'office', 508: 'mine', 509: 'saturday', 510: 'look', 511: '24', 512: 'climate', 513: 'change', 514: 'ai', 515: 'helping', 516: 'outlook', 517: 'training', 518: 'scared', 519: 'ha', 520: 'unique', 521: 'forgot', 522: 'local', 523: 'relaxing', 524: 'beside', 525: 'types', 526: 'cannot', 527: 'share', 528: 'afternoon', 529: 'weeks', 530: 'healthy', 531: 'traveling', 532: 'means', 533: 'store', 534: 'target', 535: 'comes', 536: 'yours', 537: 'whats', 538: 'came', 539: '2', 540: 'tokyo', 541: 'fighting', 542: 'sea', 543: 'town', 544: 'coaster', 545: 'head', 546: 'point', 547: 'prepared', 548: 'ready', 549: 'example', 550: 'enjoying', 551: 'board', 552: 'inside', 553: 'chat', 554: 'learning', 555: 'seem', 556: 'chinese', 557: 'mix', 558: 'itself', 559: 'less', 560: 'soccer', 561: 'foods', 562: 'latest', 563: 'making', 564: 'follow', 565: 'ate', 566: 'chance', 567: 'green', 568: 'easy', 569: 'near', 570: 'youtube', 571: 'kale', 572: 'computers', 573: 'took', 574: 'son', 575: '5', 576: 'quarter', 577: 'living', 578: 'earlier', 579: 'sessions', 580: 'tomorrow', 581: 'perfect', 582: 'progress', 583: 'away', 584: 'program', 585: 'keto', 586: 'sharing', 587: 'past', 588: 'surprise', 589: 'second', 590: 'bots', 591: 'moon', 592: 'problem', 593: 'sucks', 594: 'liked', 595: 'wild', 596: 'his', 597: 'cooking', 598: 'india', 599: 'code', 600: 'germany', 601: 'marathons', 602: 'match', 603: 'each', 604: 'tiring', 605: 'sleeping', 606: 'spicy', 607: 'hunan', 608: 'virtual', 609: 'reality', 610: 'climbing', 611: 'happen', 612: 'baby', 613: 'bar', 614: 'health', 615: 'french', 616: 'cake', 617: 'dangerous', 618: 'number', 619: 'count', 620: 'god', 621: 'meaningful', 622: 'ways', 623: 'stranger', 624: 'spot', 625: 'treasure', 626: 'hunting', 627: 'description', 628: 'boy', 629: 'santa', 630: 'weird', 631: 'hike', 632: 'hours', 633: 'bay', 634: 'changed', 635: 'interest', 636: 'schedule', 637: 'raining', 638: 'walk', 639: 'dry', 640: 'snowstorm', 641: 'sit', 642: 'mountains', 643: 'upcoming', 644: 'feels', 645: 'alright', 646: 'special', 647: 'anywhere', 648: 'vacation', 649: 'requires', 650: 'plenty', 651: 'hang', 652: 'ttyl', 653: 'nature', 654: 'ends', 655: 'human', 656: 'e', 657: 'affected', 658: 'bake', 659: 'soup', 660: 'common', 661: 'chilling', 662: 'cause', 663: 'lotion', 664: 'agree', 665: 'folks', 666: 'wife', 667: 'neat', 668: 'vs', 669: 'plus', 670: 'fine', 671: 'test', 672: 'born', 673: 'kidding', 674: 'lotus', 675: 'favorites', 676: 'theory', 677: 'personal', 678: 'appreciate', 679: 'wonderful', 680: 'summer', 681: 'google', 682: 'marvel', 683: 'bring', 684: 'honest', 685: 'purpose', 686: 'roller', 687: 'hahaha', 688: 'suppose', 689: 'enjoyed', 690: 'francisco', 691: 'dogs', 692: 'house', 693: 'another', 694: 'electricity', 695: 'meal', 696: 'yum', 697: 'parents', 698: 'takes', 699: 'street', 700: 'machine', 701: 'expert', 702: 'rest', 703: 'asian', 704: 'flavors', 705: 'vanilla', 706: 'topics', 707: 'mental', 708: 'understanding', 709: 'emails', 710: 'gave', 711: 'forget', 712: 'details', 713: 'stuffing', 714: 'helps', 715: 'keeping', 716: 'calories', 717: 'sightseeing', 718: 'cover', 719: 'classifier', 720: 'hate', 721: 'general', 722: 'clients', 723: 'luck', 724: 'hahahaha', 725: 'cute', 726: 'distance', 727: 'late', 728: 'eggs', 729: 'excellent', 730: 'answer', 731: 'turning', 732: 'pottery', 733: 'classes', 734: 'build', 735: 'skills', 736: 'teas', 737: 'language', 738: 'exotic', 739: 'cave', 740: 'vietnam', 741: 'cambodia', 742: 'spent', 743: 'fully', 744: 'tackle', 745: 'future', 746: 'melted', 747: 'crazy', 748: 'basically', 749: 'fill', 750: 'pie', 751: 'youve', 752: 'currently', 753: 'traveled', 754: 'exercise', 755: 'switch', 756: 'recent', 757: 'yep', 758: 'giving', 759: 'lives', 760: 'cycle', 761: 'wall', 762: 'fund', 763: 'owner', 764: 'famous', 765: 'mentee', 766: 'ground', 767: 'scenario', 768: 'lose', 769: 'others', 770: 'southern', 771: 'cities', 772: 'popular', 773: 'videos', 774: 'fishing', 775: 'players', 776: 'europe', 777: 'call', 778: 'catching', 779: 'goodies', 780: 'anyways', 781: 'likewise', 782: 'gym', 783: 'distances', 784: 'won', 785: 'pingpong', 786: 'racquetball', 787: 'involves', 788: 'fast', 789: 'writing', 790: 'diving', 791: 'woah', 792: 'weight', 793: 'dun', 794: 'originally', 795: 'meant', 796: 'phone', 797: 'yoda', 798: 'thrones', 799: 'exactly', 800: 'resort', 801: 'traffic', 802: 'using', 803: 'strong', 804: 'thus', 805: 'race', 806: 'attend', 807: 'bunch', 808: 'guitar', 809: 'anime', 810: 'leg', 811: '4', 812: 'original', 813: 'neural', 814: 'chef', 815: 'perhaps', 816: 'sapporo', 817: 'uganda', 818: 'depending', 819: 'survivors', 820: 'space', 821: 'volunteers', 822: 'literature', 823: 'photos', 824: 'routes', 825: 'climb', 826: 'fascinating', 827: 'matters', 828: 'strangers', 829: 'gives', 830: 'connect', 831: 'deeply', 832: 'accurate', 833: 'pain', 834: 'pulled', 835: 'muscle', 836: 'talks', 837: 'imagine', 838: 'positive', 839: 'red', 840: 'hat', 841: 'mall', 842: 'heart', 843: 'grad', 844: 'market', 845: 'cruz', 846: 'supposed', 847: 'oddly', 848: 'specific', 849: 'sunny', 850: 'depressing', 851: 'bug', 852: 'free', 853: 'ohh', 854: 'indeed', 855: 'adventures', 856: 'options', 857: 'surprising', 858: 'rainy', 859: 'survive', 860: 'degrees', 861: 'drought', 862: 'causes', 863: 'fire', 864: 'blue', 865: 'advice', 866: 'miss', 867: 'sent', 868: 'posters', 869: 'her', 870: 'zipline', 871: 'mate', 872: 'worries', 873: 'figured', 874: 'story', 875: 'g', 876: 'trees', 877: 'chip', 878: 'cookie', 879: 'soups', 880: 'pho', 881: 'homemade', 882: 'chill', 883: 'december', 884: 'visiting', 885: 'california', 886: 'beaches', 887: 'recovered', 888: 'relax', 889: 'somewhere', 890: 'fake', 891: 'lights', 892: 'decorate', 893: 'bought', 894: 'buying', 895: 'fresh', 896: 'artificial', 897: 'deals', 898: 'likes', 899: 'she', 900: 'credit', 901: 'history', 902: 'fight', 903: 'train', 904: 'vaulting', 905: 'spring', 906: 'personality', 907: 'preference', 908: 'step', 909: 'questions', 910: 'develop', 911: 'land', 912: 'giant', 913: 'hahalol', 914: 'completely', 915: 'worked', 916: 'side', 917: 'mandalorian', 918: 'avengers', 919: 'loved', 920: 'collected', 921: 'comic', 922: 'spiderman', 923: 'actor', 924: 'loki', 925: 'park', 926: 'trust', 927: 'earned', 928: 'tentative', 929: 'staying', 930: 'la', 931: 'cats', 932: 'hitting', 933: 'several', 934: 'prepare', 935: 'bahamas', 936: 'canada', 937: 'rushing', 938: 'extended', 939: 'snorkeling', 940: 'swim', 941: 'church', 942: 'air', 943: 'impersonate', 944: 'hobbies', 945: 'besides', 946: 'mentioned', 947: 'harsh', 948: 'youd', 949: 'bottom', 950: 'pleasure', 951: 'superman', 952: 'rather', 953: 'fmri', 954: 'technical', 955: 'activity', 956: 'three', 957: 'typically', 958: 'mint', 959: '99', 960: 'touching', 961: 'robots', 962: 'ending', 963: 'character', 964: 'alive', 965: 'spoil', 966: 'hahayeah', 967: 'neither', 968: 'told', 969: 'gravy', 970: 'apart', 971: 'gotten', 972: 'yoga', 973: 'become', 974: 'teacher', 975: 'activities', 976: 'unfortunately', 977: 'indoors', 978: 'karaoke', 979: 'mexico', 980: 'taco', 981: 'choice', 982: 'mark', 983: 'tom', 984: 'groomer', 985: 'usual', 986: 'small', 987: 'starting', 988: 'sell', 989: 'hopefully', 990: 'corgi', 991: 'flop', 992: 'breakfast', 993: 'apple', 994: 'hash', 995: 'browns', 996: 'healthier', 997: 'certainly', 998: 'although', 999: 'orange', 1000: 'toppings', 1001: 'hungry', 1002: 'sewing', 1003: 'role', 1004: 'parts', 1005: 'host', 1006: 'minute', 1007: 'absolutely', 1008: 'poet', 1009: 'theme', 1010: 'speak', 1011: 'biggest', 1012: 'bucket', 1013: 'list', 1014: 'neighboring', 1015: 'culture', 1016: '10', 1017: 'total', 1018: 'phase', 1019: 'aligned', 1020: 'terrible', 1021: 'discuss', 1022: 'works', 1023: 'task', 1024: 'company', 1025: 'stick', 1026: 'joined', 1027: 'sync', 1028: 'regular', 1029: 'wednesdays', 1030: 'menu', 1031: 'along', 1032: 'twice', 1033: 'flakey', 1034: 'pastries', 1035: 'guilty', 1036: 'normal', 1037: 'substitute', 1038: 'sorts', 1039: 'sugar', 1040: 'pumpkin', 1041: 'available', 1042: 'normally', 1043: 'clothes', 1044: 'scare', 1045: 'med', 1046: 'ambitious', 1047: 'tbh', 1048: 'journey', 1049: 'open', 1050: 'island', 1051: 'road', 1052: 'worth', 1053: 'tip', 1054: 'desk', 1055: 'fit', 1056: 'adventure', 1057: 'finished', 1058: 'except', 1059: 'fantasy', 1060: 'conversations', 1061: 'conversation', 1062: 'tahoe', 1063: 'lawyer', 1064: 'miracles', 1065: 'suck', 1066: 'career', 1067: 'act', 1068: 'process', 1069: 'possible', 1070: 'result', 1071: 'easier', 1072: 'empathise', 1073: 'immigrants', 1074: 'ended', 1075: 'moved', 1076: 'taiwan', 1077: 'young', 1078: 'own', 1079: 'restaurant', 1080: 'country', 1081: 'billions', 1082: 'series', 1083: 'sf', 1084: 'grand', 1085: 'canyon', 1086: 'exploring', 1087: 'mentorship', 1088: 'overall', 1089: 'personally', 1090: '11', 1091: 'useful', 1092: 'peer', 1093: 'graduated', 1094: 'klutz', 1095: 'decent', 1096: 'unlike', 1097: 'squash', 1098: 'kpop', 1099: 'whos', 1100: 'john', 1101: 'mellow', 1102: 'partners', 1103: 'former', 1104: 'independent', 1105: 'partner', 1106: 'value', 1107: 'figuring', 1108: 'single', 1109: 'hyderabad', 1110: 'coast', 1111: 'flying', 1112: 'ocean', 1113: 'pull', 1114: 'lucky', 1115: 'consider', 1116: 'outdoorsy', 1117: 'jose', 1118: 'ufc', 1119: 'jiu', 1120: 'jitsu', 1121: 'tournament', 1122: 'amateur', 1123: 'created', 1124: 'france', 1125: 'spain', 1126: 'spanish', 1127: 'learned', 1128: 'german', 1129: 'racing', 1130: 'ability', 1131: 'wear', 1132: 'seasons', 1133: 'hahai', 1134: 'halfmarathon', 1135: 'running', 1136: 'marathon', 1137: 'specially', 1138: 'cage', 1139: 'main', 1140: 'court', 1141: 'ping', 1142: 'pong', 1143: 'refactoring', 1144: 'sushi', 1145: 'japanese', 1146: 'mateo', 1147: 'restaurants', 1148: 'parlor', 1149: 'softshell', 1150: 'thumbs', 1151: 'attending', 1152: 'papers', 1153: 'similar', 1154: 'fly', 1155: 'body', 1156: 'lifting', 1157: 'everyday', 1158: 'fact', 1159: 'alien', 1160: 'planet', 1161: 'civilization', 1162: 'earth', 1163: 'twists', 1164: 'audi', 1165: 'hand', 1166: 'gets', 1167: 'rock', 1168: 'america', 1169: 'chris', 1170: 'names', 1171: 'hahah', 1172: 'bye', 1173: 'pokemons', 1174: 'whatre', 1175: 'pokemon', 1176: 'cutest', 1177: 'modern', 1178: 'episodes', 1179: 'lived', 1180: 'heaven', 1181: 'ride', 1182: 'seeing', 1183: 'popcorn', 1184: 'kids', 1185: 'nights', 1186: 'eve', 1187: 'shame', 1188: 'leave', 1189: 'legos', 1190: 'managed', 1191: 'spend', 1192: 'comedy', 1193: 'fixed', 1194: 'hour', 1195: 'warriors', 1196: 'lost', 1197: 'difficult', 1198: 'spartan', 1199: 'challenging', 1200: 'bars', 1201: 'sign', 1202: '12', 1203: 'workout', 1204: 'sports', 1205: 'rafting', 1206: 'fell', 1207: 'slope', 1208: 'study', 1209: 'date', 1210: 'brought', 1211: 'pictionary', 1212: 'paper', 1213: 'song', 1214: 'chord', 1215: 'chords', 1216: 'terms', 1217: 'leaders', 1218: 'realize', 1219: 'random', 1220: 'wrote', 1221: 'title', 1222: 'headache', 1223: 'basketball', 1224: 'ml', 1225: 'creepy', 1226: 'somehow', 1227: 'picked', 1228: 'recall', 1229: 'dance', 1230: 'elitist', 1231: 'deja', 1232: 'vu', 1233: 'english', 1234: 'etcetera', 1235: 'facts', 1236: 'origins', 1237: 'gymnasium', 1238: 'joke', 1239: 'hint', 1240: 'flavored', 1241: 'tasty', 1242: 'pastry', 1243: 'cakes', 1244: 'hokkaido', 1245: 'chain', 1246: 'weekends', 1247: 'italian', 1248: 'montreal', 1249: 'cigar', 1250: 'link', 1251: 'dump', 1252: 'collar', 1253: 'organization', 1254: 'benefits', 1255: 'philosophy', 1256: 'times', 1257: 'send', 1258: 'logistics', 1259: 'add', 1260: 'sun', 1261: 'nets', 1262: 'kingyo', 1263: 'eaten', 1264: 'sandwich', 1265: 'environment', 1266: 'peanut', 1267: 'butter', 1268: '25', 1269: 'australiado', 1270: 'interactions', 1271: 'shortlived', 1272: 'themyea', 1273: 'puts', 1274: 'front', 1275: 'opportunity', 1276: 'without', 1277: 'telling', 1278: '6th', 1279: 'readings', 1280: 'remarkably', 1281: 'sat', 1282: 'felt', 1283: 'asked', 1284: 'exact', 1285: 'dancing', 1286: 'borderline', 1287: 'spookythere', 1288: 'public', 1289: 'ultimate', 1290: 'hunt', 1291: 'creativity', 1292: 'associate', 1293: 'encouraging', 1294: 'teenage', 1295: 'imagination', 1296: 'matches', 1297: 'kindness', 1298: 'whatever', 1299: 'brings', 1300: 'tears', 1301: 'farmers', 1302: 'vague', 1303: 'hopefilled', 1304: 'messages', 1305: 'blurt', 1306: 'hiany', 1307: 'hiking', 1308: 'deadline', 1309: 'anxious', 1310: 'diablo', 1311: 'areathat', 1312: 'entire', 1313: 'doin', 1314: 'squatting', 1315: 'caught', 1316: 'd', 1317: 'june', 1318: 'awkward', 1319: 'ahhh', 1320: 'bland', 1321: 'routine', 1322: 'ones', 1323: 'hmmmm', 1324: 'bull', 1325: 'riding', 1326: 'shall', 1327: 'shoot', 1328: 'foodtruck', 1329: 'gloomyyeah', 1330: 'trouble', 1331: 'wise', 1332: 'undergrad', 1333: 'flights', 1334: 'canceled', 1335: 'traffics', 1336: 'rains', 1337: '50', 1338: 'heated', 1339: 'rromsyeah', 1340: 'supply', 1341: 'ridden', 1342: 'areait', 1343: 'darn', 1344: 'tech', 1345: 'helloooooo', 1346: 'dressed', 1347: 'wel', 1348: 'psychology', 1349: 'tranquil', 1350: 'colour', 1351: 'metaphor', 1352: 'positivity', 1353: 'push', 1354: 'missing', 1355: 'banging', 1356: 'catfood', 1357: 'shouting', 1358: 'anyway', 1359: 'plastic', 1360: 'bag', 1361: 'rainforest', 1362: 'extensive', 1363: 'beforehand', 1364: 'rainforests', 1365: 'southeast', 1366: 'asia', 1367: 'lie', 1368: 'medication', 1369: 'acrophobia', 1370: 'invent', 1371: 'millionsthat', 1372: 'alcohol', 1373: 'oops', 1374: 'sup', 1375: 'wire', 1376: 'ziplining', 1377: 'experiencewhere', 1378: 'thoughno', 1379: 'yousure', 1380: 'massage', 1381: 'firstnice', 1382: 'traditional', 1383: 'kindyeah', 1384: 'avenger', 1385: 'sciencefiction', 1386: 'landscape', 1387: 'imaginary', 1388: 'nonhuman', 1389: 'creatures', 1390: 'transformation', 1391: 'behaviors', 1392: 'cutting', 1393: 'naturethat', 1394: 'box', 1395: 'baking', 1396: 'quest', 1397: 'eatingso', 1398: 'generally', 1399: 'cookseems', 1400: 'behalf', 1401: 'posted', 1402: 'budget', 1403: 'stopped', 1404: 'humid', 1405: 'cares', 1406: 'humidity', 1407: 'brooooo', 1408: 'carry', 1409: 'litres', 1410: 'yuo', 1411: 'asking', 1412: 'wet', 1413: 'cough', 1414: 'counted', 1415: 'among', 1416: 'bored', 1417: 'tiresome', 1418: 'decorating', 1419: 'ecofriendly', 1420: 'colorful', 1421: 'led', 1422: 'festive', 1423: 'copying', 1424: 'decorative', 1425: 'stuffs', 1426: 'stores', 1427: 'torn', 1428: 'artificialecofriendlyfake', 1429: 'smells', 1430: 'pine', 1431: 'opted', 1432: 'disassemble', 1433: 'intelligence', 1434: 'huh', 1435: 'clever', 1436: 'pun', 1437: 'childhood', 1438: 'chopping', 1439: 'throw', 1440: 'responsible', 1441: 'cheaper', 1442: 'suggestions', 1443: 'card', 1444: 'suggestion', 1445: 'ehh', 1446: 'christopher', 1447: 'columbus', 1448: 'civil', 1449: 'warhahah', 1450: 'semester', 1451: 'anymore', 1452: 'compete', 1453: 'turned', 1454: 'farm', 1455: 'competitions', 1456: 'delightful', 1457: 'vibe', 1458: 'preferences', 1459: 'revealing', 1460: 'gerbera', 1461: 'cartoon', 1462: 'drew', 1463: 'crayon', 1464: 'deduce', 1465: 'gradually', 1466: 'five', 1467: 'voilahehe', 1468: 'publish', 1469: 'pool', 1470: 'kyoto', 1471: '114', 1472: 'onsen', 1473: 'lands', 1474: 'parasite', 1475: 'reviews', 1476: 'imdb', 1477: 'rotten', 1478: 'tomatoes', 1479: 'service', 1480: 'oooo', 1481: 'deleted', 1482: 'scenes', 1483: 'xmen', 1484: 'kid', 1485: 'cards', 1486: 'cinematic', 1487: 'universe', 1488: 'hahaoh', 1489: 'plays', 1490: 'hahayea', 1491: 'handsome', 1492: 'beforehe', 1493: 'adopted', 1494: 'brother', 1495: 'thor', 1496: 'thunder', 1497: 'burdened', 1498: 'glorious', 1499: 'burden', 1500: 'chillin', 1501: 'double', 1502: 'espresso', 1503: 'amusement', 1504: 'gosh', 1505: 'kingda', 1506: 'ka', 1507: 'worlds', 1508: 'tallest', 1509: 'aficianado', 1510: 'addicted', 1511: 'level', 1512: 'appeal', 1513: 'adrenaline', 1514: 'junkie', 1515: 'opposite', 1516: 'stand', 1517: 'heights', 1518: 'horror', 1519: 'confined', 1520: 'spaces', 1521: 'engineering', 1522: 'vacationyeah', 1523: 'pinged', 1524: 'dates', 1525: 'pan', 1526: '23', 1527: 'weeksaw', 1528: 'flu', 1529: 'nowno', 1530: 'extremely', 1531: 'jealous', 1532: 'major', 1533: 'hit', 1534: 'aftermath', 1535: 'sledding', 1536: 'yeysounds', 1537: 'knew', 1538: 'shallow', 1539: 'hangout', 1540: 'friendsnice', 1541: 'donuts', 1542: 'samosas', 1543: 'fryer', 1544: 'oily', 1545: 'frierhaha', 1546: 'pumpkinwow', 1547: 'personi', 1548: 'frying', 1549: 'fermenting', 1550: 'kimchi', 1551: 'ferment', 1552: 'miso', 1553: 'fermen', 1554: 'heya', 1555: 'paul', 1556: 'james', 1557: 'forwards', 1558: 'niceoh', 1559: 'hopes', 1560: 'storm', 1561: 'areas', 1562: 'outskirts', 1563: 'wind', 1564: 'uh', 1565: 'bbq', 1566: 'insideyeah', 1567: 'cup', 1568: 'floods', 1569: 'valley', 1570: 'cheap', 1571: 'gotcha', 1572: 'timesno', 1573: 'chating', 1574: 'power', 1575: 'invisible', 1576: 'minds', 1577: 'imaging', 1578: 'brains', 1579: 'resolution', 1580: 'society', 1581: 'arguing', 1582: 'democracy', 1583: 'youif', 1584: 'stirfry', 1585: 'variations', 1586: 'framing', 1587: 'berries', 1588: 'boysenberry', 1589: 'strawberry', 1590: 'straight', 1591: 'sorbets', 1592: 'smoothies', 1593: 'changing', 1594: 'afterlife', 1595: 'supernatural', 1596: 'seance', 1597: 'ouija', 1598: 'contacted', 1599: 'spirit', 1600: 'hindu', 1601: 'retreat', 1602: 'buddhist', 1603: 'temples', 1604: 'hung', 1605: 'christian', 1606: 'mystics', 1607: 'typical', 1608: 'inbox', 1609: 'delete', 1610: 'cleaning', 1611: 'agolol', 1612: 'bother', 1613: 'terminator', 1614: 'action', 1615: 'bits', 1616: 'terminators', 1617: 'oneare', 1618: 'spoiler', 1619: 'knowing', 1620: 'endwell', 1621: 'died', 1622: 'leading', 1623: 'killed', 1624: 'muchnice', 1625: 'noodles', 1626: 'anyday', 1627: 'tradition', 1628: 'stuffingyeah', 1629: 'black', 1630: 'friday', 1631: 'fitbit', 1632: 'frequently', 1633: 'backtoback', 1634: 'aww', 1635: 'yogayeah', 1636: 'thoseoh', 1637: 'sing', 1638: 'perform', 1639: 'singing', 1640: 'pianisthaha', 1641: 'highly', 1642: 'tacos', 1643: 'fishooh', 1644: 'themno', 1645: 'speech', 1646: 'topic', 1647: 'catches', 1648: 'eyes', 1649: 'nlp', 1650: 'classifiers', 1651: 'refer', 1652: 'accountingnice', 1653: 'peoples', 1654: 'polish', 1655: 'scales', 1656: 'clean', 1657: 'tanks', 1658: 'guppies', 1659: 'goldfish', 1660: 'sailfish', 1661: 'accounting', 1662: 'financial', 1663: 'analysis', 1664: 'medium', 1665: 'sized', 1666: 'companythat', 1667: 'pursuing', 1668: 'photography', 1669: 'hardphotography', 1670: 'dreams', 1671: 'pictures', 1672: 'onlinethat', 1673: 'byeno', 1674: 'swimming', 1675: 'doggy', 1676: 'paddle', 1677: 'belly', 1678: 'compilation', 1679: 'redactedlinkouch', 1680: 'hurts', 1681: 'sadly', 1682: 'relative', 1683: 'thoughjust', 1684: 'sets', 1685: 'woke', 1686: 'grab', 1687: 'source', 1688: 'protein', 1689: 'yummy', 1690: 'forever', 1691: 'carrots', 1692: 'drawback', 1693: 'nutrition', 1694: 'suddenly', 1695: 'soylent', 1696: 'complete', 1697: 'defeats', 1698: 'muddle', 1699: 'pizza', 1700: 'brilliant', 1701: 'color', 1702: 'hut', 1703: 'franchises', 1704: 'everywhere', 1705: 'plates', 1706: 'makerspace', 1707: 'reason', 1708: 'assumed', 1709: 'arts', 1710: 'craftstype', 1711: 'ware', 1712: 'custom', 1713: 'china', 1714: 'acquire', 1715: 'barley', 1716: 'silver', 1717: 'needle', 1718: 'supermarket', 1719: 'knowledgeable', 1720: 'channel', 1721: 'channels', 1722: 'answeri', 1723: 'ol', 1724: 'eventually', 1725: 'continue', 1726: 'pretend', 1727: 'computer', 1728: 'thenyou', 1729: 'programming', 1730: 'java', 1731: 'advocate', 1732: 'lolno', 1733: 'finally', 1734: 'gap', 1735: 'hiked', 1736: 'doong', 1737: 'deepest', 1738: 'todo', 1739: 'laos', 1740: 'countries', 1741: 'spiders', 1742: 'scorpions', 1743: 'grasshoppers', 1744: 'courage', 1745: 'missed', 1746: 'reat', 1747: 'pushed', 1748: 'starts', 1749: 'confident', 1750: 'underestimate', 1751: 'importance', 1752: 'correct', 1753: 'executing', 1754: 'wrong', 1755: 'stack', 1756: 'ideas', 1757: 'feedbacks', 1758: 'aside', 1759: 'calendar', 1760: '3pm', 1761: 'syncs', 1762: 'serve', 1763: 'decideactually', 1764: 'baked', 1765: 'sophisticated', 1766: 'chips', 1767: 'ovens', 1768: 'temperature', 1769: 'melting', 1770: 'unhealthy', 1771: 'resulting', 1772: 'tooth', 1773: 'mm', 1774: 'danish', 1775: 'cheese', 1776: 'gulp', 1777: 'guiltfree', 1778: 'brand', 1779: '320', 1780: 'pint', 1781: 'preserves', 1782: 'paid', 1783: 'attention', 1784: 'marketed', 1785: 'fat', 1786: 'caused', 1787: 'stomach', 1788: 'upsets', 1789: 'diet', 1790: 'limit', 1791: 'intake', 1792: 'successful', 1793: 'dieters', 1794: 'recommended', 1795: 'insatiable', 1796: 'crave', 1797: 'solution', 1798: 'sweets', 1799: 'guiltyno', 1800: 'pielol', 1801: 'excuse', 1802: 'p', 1803: 'pmy', 1804: 'eats', 1805: 'please', 1806: 'excitement', 1807: 'levels', 1808: 'thenalso', 1809: 'discount', 1810: 'tag', 1811: 'prices', 1812: 'electronics', 1813: 'deal', 1814: 'suit', 1815: 'price', 1816: 'youhit', 1817: 'links', 1818: 'sleepy', 1819: 'homeworkoh', 1820: 'biology', 1821: 'doc', 1822: 'premed', 1823: 'schooler', 1824: 'medicine', 1825: 'surgeon', 1826: 'ooof', 1827: 'steady', 1828: 'hands', 1829: 'thinki', 1830: 'aim', 1831: 'subjects', 1832: 'pleasant', 1833: 'gift', 1834: 'unpacking', 1835: 'finishing', 1836: 'yeswhere', 1837: 'mauii', 1838: 'maui', 1839: 'globally', 1840: 'driving', 1841: 'hana', 1842: 'matcha', 1843: 'latte', 1844: 'casual', 1845: 'primarily', 1846: 'ring', 1847: 'gameified', 1848: 'octopath', 1849: 'traveler', 1850: 'emblem', 1851: 'gamer', 1852: 'temeraire', 1853: 'napoleonic', 1854: 'navy', 1855: 'patrick', 1856: 'obrien', 1857: 'dragons', 1858: 'genre', 1859: 'exhalations', 1860: 'vita', 1861: 'nostra', 1862: 'matter', 1863: 'sandersongarth', 1864: 'nix', 1865: 'conversationalists', 1866: 'seemed', 1867: 'positives', 1868: 'outweigh', 1869: 'negativesare', 1870: 'negatives', 1871: 'impersorsination', 1872: 'fetchedpeople', 1873: 'converse', 1874: 'engaging', 1875: 'sarcasm', 1876: 'monologueswhat', 1877: 'advantages', 1878: 'assistants', 1879: 'forms', 1880: 'product', 1881: 'implication', 1882: 'huge', 1883: 'signify', 1884: 'progressed', 1885: 'futuristic', 1886: 'problems', 1887: 'stepping', 1888: 'overselling', 1889: 'hereno', 1890: 'witness', 1891: 'chatbot', 1892: 'autosuggest', 1893: 'current', 1894: 'autosuggestions', 1895: 'goodyeah', 1896: 'words', 1897: 'imagining', 1898: 'conversational', 1899: 'default', 1900: 'template', 1901: 'fetched', 1902: 'falls', 1903: 'lifelong', 1904: 'impacts', 1905: 'tiredoh', 1906: 'dayoh', 1907: 'interested', 1908: 'profession', 1909: 'stressful', 1910: 'earn', 1911: 'lifewhat', 1912: 'painteroh', 1913: 'paintings', 1914: 'oil', 1915: 'painting', 1916: 'kindscool', 1917: 'whose', 1918: 'regardless', 1919: 'promoted', 1920: 'unclear', 1921: 'fallback', 1922: 'accordingly', 1923: 'shaping', 1924: 'values', 1925: 'lifetime', 1926: 'child', 1927: 'growing', 1928: 'explains', 1929: 'empathize', 1930: 'differing', 1931: 'backgrounds', 1932: 'andor', 1933: 'lacking', 1934: 'grow', 1935: 'united', 1936: 'states', 1937: 'scammed', 1938: 'organisation', 1939: 'scam', 1940: 'investing', 1941: 'business', 1942: 'mom', 1943: 'sickhospitalized', 1944: 'insurance', 1945: 'versus', 1946: 'plane', 1947: 'sentimental', 1948: 'grounded', 1949: 'practical', 1950: 'background', 1951: 'spending', 1952: 'recommendations', 1953: 'documentaries', 1954: 'particularly', 1955: 'explained', 1956: 'hedge', 1957: 'fights', 1958: 'government', 1959: 'destroy', 1960: 'plot', 1961: 'frasier', 1962: 'psychiatrist', 1963: 'radio', 1964: 'humour', 1965: 'spinoff', 1966: 'cheers', 1967: 'familiar', 1968: 'vegas', 1969: 'sometime', 1970: 'friendstrue', 1971: 'inputs', 1972: 'participating', 1973: 'either', 1974: 'usefuli', 1975: 'signed', 1976: 'discussions', 1977: 'discussion', 1978: 'perspective', 1979: 'communication', 1980: 'cycleah', 1981: 'session', 1982: 'presentation', 1983: 'serious', 1984: 'stuffno', 1985: 'tonight', 1986: 'studying', 1987: 'geology', 1988: 'seventies', 1989: 'yall', 1990: 'goodwhat', 1991: 'goto', 1992: 'beef', 1993: 'easyah', 1994: 'solid', 1995: 'iti', 1996: 'beginners', 1997: 'trydo', 1998: 'idiot', 1999: 'practiced', 2000: 'hii', 2001: 'groupi', 2002: 'dont', 2003: 'hahahawhat', 2004: 'mayeri', 2005: 'stylei', 2006: 'slow', 2007: 'umm', 2008: 'allyou', 2009: 'songs', 2010: 'pondering', 2011: 'invited', 2012: 'friendship', 2013: 'formed', 2014: 'bond', 2015: 'sides', 2016: 'firmly', 2017: 'specifics', 2018: 'improve', 2019: 'older', 2020: 'smaller', 2021: 'circles', 2022: 'arbitrary', 2023: 'reasons', 2024: 'fear', 2025: 'raising', 2026: 'issue', 2027: 'treason', 2028: 'heal', 2029: 'certain', 2030: 'situations', 2031: 'aka', 2032: 'avoiding', 2033: 'texts', 2034: 'putting', 2035: 'vacuous', 2036: 'factors', 2037: 'finna', 2038: 'finer', 2039: 'clouds', 2040: 'overhead', 2041: 'vacations', 2042: 'bangalore', 2043: 'varies', 2044: 'till', 2045: '30c', 2046: 'winters', 2047: 'snowing', 2048: 'east', 2049: 'kite', 2050: 'sunshine', 2051: 'garbanzo', 2052: 'fritters', 2053: 'mussels', 2054: 'seafood', 2055: 'shellfish', 2056: 'crabbing', 2057: 'patience', 2058: 'bait', 2059: 'crabpot', 2060: 'drop', 2061: 'crabpots', 2062: 'voila', 2063: 'crabs', 2064: 'nah', 2065: 'wednesday', 2066: 'sharks', 2067: 'hokey', 2068: 'violent', 2069: 'competing', 2070: 'pass', 2071: 'win', 2072: 'cross', 2073: 'fingers', 2074: 'humble', 2075: 'howre', 2076: 'workday', 2077: 'debugging', 2078: 'experimenting', 2079: 'historical', 2080: 'sites', 2081: 'italy', 2082: 'trips', 2083: 'learnt', 2084: 'arrangement', 2085: 'weekday', 2086: 'wellno', 2087: 'catchup', 2088: 'deep', 2089: 'boats', 2090: 'someplace', 2091: 'nyc', 2092: 'paris', 2093: 'iconic', 2094: 'microkitchen', 2095: 'pop', 2096: 'ups', 2097: 'jacket', 2098: 'needed', 2099: 'coldthat', 2100: 'warmer', 2101: 'climates', 2102: 'limits', 2103: 'suffer', 2104: 'bundling', 2105: 'layers', 2106: 'upstate', 2107: 'foot', 2108: 'shovel', 2109: 'hurry', 2110: 'ran', 2111: 'mk', 2112: 'floor', 2113: 'student', 2114: 'concept', 2115: 'xd', 2116: 'milesa', 2117: 'miles', 2118: 'mile', 2119: 'exhausted', 2120: 'sprints', 2121: 'half', 2122: 'documentation', 2123: 'rarely', 2124: 'congrats', 2125: 'natural', 2126: 'context', 2127: 'clues', 2128: 'guessing', 2129: 'racquetwell', 2130: 'difference', 2131: 'smashed', 2132: 'against', 2133: 'passing', 2134: 'net', 2135: 'opponents', 2136: 'table', 2137: 'bumping', 2138: 'hits', 2139: 'paced', 2140: 'version', 2141: 'athletic', 2142: 'intensive', 2143: 'short', 2144: 'anger', 2145: 'fuckkkkkkk', 2146: 'lifeyeah', 2147: 'minimalist', 2148: 'szechuan', 2149: 'beijing', 2150: 'duck', 2151: 'mateohave', 2152: 'craving', 2153: 'arghhh', 2154: 'foodooh', 2155: 'dojo', 2156: 'marki', 2157: 'palces', 2158: 'teh', 2159: 'recommendation', 2160: 'willing', 2161: 'crabsive', 2162: 'crab', 2163: 'okayish', 2164: 'quicker', 2165: 'expected', 2166: 'slowly', 2167: 'twiddling', 2168: 'twiddle', 2169: 'docs', 2170: 'cloud', 2171: 'gazing', 2172: 'giraffe', 2173: 'cone', 2174: 'drift', 2175: 'saving', 2176: 'mess', 2177: 'social', 2178: 'media', 2179: 'zealand', 2180: 'singapore', 2181: 'hrs', 2182: 'dive', 2183: 'accumulates', 2184: 'breathing', 2185: 'cylinder', 2186: 'kangaroos', 2187: 'equally', 2188: 'explore', 2189: 'expensivei', 2190: 'lottery', 2191: 'caring', 2192: 'mehaha', 2193: 'donated', 2194: 'charity', 2195: 'soul', 2196: 'hardcore', 2197: 'starter', 2198: 'challenge', 2199: 'lift', 2200: 'coach', 2201: 'coano', 2202: 'walking', 2203: 'dog', 2204: 'aliens', 2205: 'pique', 2206: 'slightly', 2207: 'fiction', 2208: 'curious', 2209: 'discussed', 2210: 'twist', 2211: 'attack', 2212: 'dunnnnnnnwoah', 2213: 'copy', 2214: 'spoiled', 2215: 'spoilersthanks', 2216: 'spoiling', 2217: 'intriguing', 2218: 'concussion', 2219: 'pace', 2220: 'listen', 2221: 'darkness', 2222: 'lowkey', 2223: 'knives', 2224: 'daniel', 2225: 'craig', 2226: 'captain', 2227: 'track', 2228: 'evening', 2229: 'runs', 2230: 'sunlight', 2231: 'parttime', 2232: 'round', 2233: 'hemisphere', 2234: 'regret', 2235: 'brief', 2236: 'literally', 2237: 'organize', 2238: 'unwind', 2239: 'upsetting', 2240: 'pokmon', 2241: 'oooh', 2242: 'grateful', 2243: 'pink', 2244: 'jigglypuff', 2245: 'vaporeon', 2246: 'binge', 2247: 'mixish', 2248: 'reruns', 2249: 'cleverly', 2250: 'written', 2251: 'rescue', 2252: 'stray', 2253: 'babies', 2254: 'stuck', 2255: 'pipes', 2256: 'gutters', 2257: 'south', 2258: 'korea', 2259: 'dear', 2260: 'imagined', 2261: 'happening', 2262: 'poor', 2263: 'rescued', 2264: 'pets', 2265: 'hamster', 2266: 'theyve', 2267: 'pet', 2268: 'lovely', 2269: 'waiting', 2270: 'bicycle', 2271: 'asks', 2272: 'interrupt', 2273: 'anyone', 2274: 'odds', 2275: 'quality', 2276: 'sequels', 2277: 'disneyland', 2278: '23rd', 2279: 'loads', 2280: '24th', 2281: 'rooms', 2282: 'kitchens', 2283: 'inquire', 2284: 'airbnb', 2285: 'closeby', 2286: 'decision', 2287: 'parks', 2288: 'option', 2289: 'closed', 2290: 'evethats', 2291: 'hotels', 2292: 'offer', 2293: 'dinners', 2294: 'lead', 2295: 'large', 2296: 'standard', 2297: 'explain', 2298: 'hotel', 2299: 'todayhaha', 2300: 'roommate', 2301: 'survivorwhat', 2302: 'familycool', 2303: 'ehhh', 2304: 'soso', 2305: 'moped', 2306: 'broke', 2307: 'shop', 2308: 'mechanic', 2309: 'diesel', 2310: 'packed', 2311: 'btw', 2312: 'rooting', 2313: 'arent', 2314: 'steph', 2315: 'faith', 2316: 'record', 2317: 'refute', 2318: 'repair', 2319: 'hihello', 2320: 'improvements', 2321: 'minutes', 2322: 'races', 2323: 'sporting', 2324: 'triathalon', 2325: 'obstacle', 2326: 'overtly', 2327: 'triathlonsi', 2328: 'involve', 2329: 'abt', 2330: '20', 2331: 'obstacles', 2332: 'crossing', 2333: 'walls', 2334: 'monkey', 2335: 'funoh', 2336: 'obstable', 2337: 'variety', 2338: 'february', 2339: 'montereyhmm', 2340: 'amount', 2341: 'regularly', 2342: 'technique', 2343: 'coordinate', 2344: 'skydiving', 2345: 'lesson', 2346: 'ooh', 2347: 'adventurous', 2348: 'seville', 2349: 'trepidatious', 2350: 'terrifying', 2351: 'whenever', 2352: 'badly', 2353: 'beginner', 2354: 'babysized', 2355: 'proud', 2356: 'stopping', 2357: 'lectures', 2358: 'concepts', 2359: 'slides', 2360: 'afterwards', 2361: 'noon', 2362: 'preparation', 2363: 'syllabus', 2364: 'ideal', 2365: 'hectic', 2366: 'november', 2367: 'content', 2368: 'findings', 2369: 'professor', 2370: 'turkeys', 2371: 'calling', 2372: 'eitherwaysso', 2373: 'leftovers', 2374: 'cooked', 2375: 'mashed', 2376: 'potatos', 2377: 'oven', 2378: 'fans', 2379: 'roll', 2380: 'chickenchicken', 2381: 'balls', 2382: 'pads', 2383: 'rackets', 2384: 'kept', 2385: 'creation', 2386: 'composing', 2387: 'post', 2388: 'youtubesoundcloud', 2389: 'whoa', 2390: 'listening', 2391: 'softewares', 2392: 'logic', 2393: 'pro', 2394: 'x', 2395: 'handy', 2396: 'generate', 2397: 'strumming', 2398: 'pattern', 2399: 'compose', 2400: 'inspired', 2401: 'electro', 2402: 'swings', 2403: 'jpop', 2404: 'band', 2405: 'member', 2406: 'rockstar', 2407: 'instruments', 2408: 'monitor', 2409: 'weeknice', 2410: 'tyring', 2411: 'f', 2412: 'worst', 2413: 'thoughright', 2414: 'versatile', 2415: 'cheating', 2416: 'gesture', 2417: 'alphabets', 2418: 'wordwill', 2419: 'hows', 2420: 'bruhhhhhh', 2421: 'screaming', 2422: 'agony', 2423: 'upon', 2424: 'recounting', 2425: 'shelved', 2426: 'helpless', 2427: 'angry', 2428: 'circumstance', 2429: 'pulling', 2430: 'mercilessly', 2431: 'deciding', 2432: 'choices', 2433: 'experienced', 2434: 'reflect', 2435: '2019', 2436: 'favorable', 2437: 'released', 2438: 'resolutions', 2439: 'fresher', 2440: 'inspiration', 2441: 'advent', 2442: 'workbook', 2443: 'accomplishments', 2444: 'passions', 2445: 'forgiveness', 2446: 'potential', 2447: 'scholarship', 2448: 'international', 2449: 'institute', 2450: 'african', 2451: 'representation', 2452: 'coaching', 2453: 'captures', 2454: 'proceeds', 2455: 'cohort', 2456: 'valuable', 2457: 'community', 2458: 'bigger', 2459: 'challenges', 2460: 'facing', 2461: 'humanity', 2462: 'selves', 2463: 'quote', 2464: 'stolen', 2465: 'tl', 2466: 'graduation', 2467: 'yrs', 2468: 'itwhat', 2469: 'prioritize', 2470: 'multiple', 2471: 'lords', 2472: 'prayer', 2473: 'designed', 2474: 'concrete', 2475: 'simply', 2476: 'greatest', 2477: 'capacity', 2478: 'physically', 2479: 'mentally', 2480: 'spiritually', 2481: 'thoughtful', 2482: 'spiritual', 2483: 'memoire', 2484: 'jesus', 2485: 'reader', 2486: 'hide', 2487: 'quoting', 2488: 'nash', 2489: 'corrupts', 2490: 'thoughtsthats', 2491: 'thoughts', 2492: 'turn', 2493: 'sellerno', 2494: 'grizzlies', 2495: 'identify', 2496: 'animal', 2497: 'confuse', 2498: 'naming', 2499: 'conventions', 2500: 'chairs', 2501: 'opening', 2502: 'remarks', 2503: 'neurips', 2504: 'information', 2505: 'processing', 2506: 'systems', 2507: 'fancy', 2508: 'sentient', 2509: 'dystopian', 2510: 'walle', 2511: 'giants', 2512: 'tickets', 2513: 'football', 2514: 'stadium', 2515: 'mathilda', 2516: '15', 2517: 'mins', 2518: 'driver', 2519: 'kayakingkayaking', 2520: 'offsite', 2521: 'flip', 2522: 'accidentally', 2523: 'actuallyi', 2524: 'quickly', 2525: 'remind', 2526: 'screen', 2527: 'remembering', 2528: 'perchance', 2529: 'schwasty', 2530: 'cardiologist', 2531: 'palo', 2532: 'alto', 2533: 'private', 2534: 'sofa', 2535: 'tester', 2536: 'cupertino', 2537: 'simple', 2538: 'comfortable', 2539: 'sofas', 2540: 'demanding', 2541: 'carefully', 2542: 'crafted', 2543: 'pay', 2544: 'reexperiencing', 2545: 'replaying', 2546: 'happens', 2547: 'lapsing', 2548: 'phrase', 2549: 'jay', 2550: 'z', 2551: 'beyonce', 2552: 'looked', 2553: 'phrases', 2554: 'carried', 2555: 'vice', 2556: 'versa', 2557: 'savior', 2558: 'faire', 2559: 'origin', 2560: 'insightful', 2561: 'wdym', 2562: 'usage', 2563: 'meaning', 2564: 'nakedness', 2565: 'jism', 2566: 'semen', 2567: 'sporadic', 2568: 'sex', 2569: 'art', 2570: 'todayyou', 2571: 'mosquitos', 2572: '47', 2573: 'teethsthat', 2574: 'laughter', 2575: 'drank', 2576: 'goodohh', 2577: 'watermelonnice', 2578: 'watermelon', 2579: 'synthetic', 2580: 'flavor', 2581: 'strangetalking', 2582: 'strange', 2583: 'weirdest', 2584: 'tasting', 2585: 'tangerine', 2586: 'walnut', 2587: 'weirdhaha', 2588: 'paprika', 2589: 'actuallyit', 2590: 'messed', 2591: 'placeas', 2592: 'lolbut', 2593: 'gelato', 2594: 'hahadarn', 2595: 'hoped', 2596: 'id', 2597: 'psychic', 2598: 'intuitive', 2599: 'connected', 2600: 'chatting', 2601: 'mindreading', 2602: 'powers', 2603: 'auras', 2604: 'specialty', 2605: 'icing', 2606: 'authority', 2607: 'shameful', 2608: 'classic', 2609: 'carrot', 2610: 'claim', 2611: 'vegetables', 2612: 'professional', 2613: 'dancer', 2614: 'trained', 2615: 'contemporary', 2616: 'commercials', 2617: 'film', 2618: 'clips', 2619: 'stage', 2620: 'styles', 2621: 'dynamic', 2622: 'tempted', 2623: 'homecool', 2624: 'view', 2625: 'viewit', 2626: 'beerhaha', 2627: 'studied', 2628: 'buildings', 2629: 'tall', 2630: 'diversity', 2631: 'cultures', 2632: 'broadway', 2633: 'hongkong', 2634: 'basic', 2635: 'zucchini', 2636: 'pasta', 2637: 'offsitecan', 2638: 'invite', 2639: 'guys', 2640: 'totally', 2641: 'inviting', 2642: 'triphow', 2643: 'trails', 2644: 'slammed', 2645: 'onto', 2646: 'hahaa', 2647: 'ityeah', 2648: 'speaking', 2649: 'mandatory', 2650: 'stade', 2651: 'olympique', 2652: 'redactedlink', 2653: 'olympics', 2654: 'viewer', 2655: 'olympic', 2656: 'skating', 2657: 'youtubeyeah', 2658: 'skate', 2659: 'barely', 2660: 'conscience', 2661: 'sideshaha', 2662: 'hold', 2663: 'gotta', 2664: 'youi', 2665: 'yo', 2666: 'cuban', 2667: 'smoke', 2668: 'peru', 2669: 'smoking', 2670: 'hahayou', 2671: 'doubt', 2672: 'reincarnation', 2673: 'allow', 2674: 'death', 2675: 'braincomputer', 2676: 'interface', 2677: 'resume', 2678: 'harder', 2679: 'technology', 2680: 'advances', 2681: 'wake', 2682: 'preparing', 2683: 'detective', 2684: 'con', 2685: 'artist', 2686: 'solving', 2687: 'crimes', 2688: 'belonging', 2689: 'genres', 2690: 'light', 2691: 'phychological', 2692: 'thrillers', 2693: 'manga', 2694: 'punch', 2695: 'promised', 2696: 'neverland', 2697: 'kakegurui', 2698: 'rick', 2699: 'morty', 2700: 'arrived', 2701: 'previous', 2702: 'benderi', 2703: 'strangely', 2704: 'relatable', 2705: 'complain', 2706: 'favoriate', 2707: 'cuisine', 2708: 'nicelove', 2709: 'stir', 2710: 'fried', 2711: 'lamb', 2712: 'impression', 2713: 'cruisine', 2714: 'noti', 2715: 'redactedtermoh', 2716: 'easterly', 2717: 'likely', 2718: 'mozambique', 2719: 'africa', 2720: 'nonprofit', 2721: 'radar', 2722: 'ijgd', 2723: 'decided', 2724: 'sip', 2725: 'scientist', 2726: 'sleepingcons', 2727: 'tips', 2728: 'poorly', 2729: 'zero', 2730: 'peter', 2731: 'thielwhat', 2732: 'startups', 2733: 'principles', 2734: 'philosophies', 2735: 'innovation', 2736: 'contrariancool', 2737: 'startup', 2738: 'contrariani', 2739: 'european', 2740: 'drinking', 2741: 'marshmallows', 2742: 'setting', 2743: 'coco', 2744: 'tuck', 2745: 'blankets', 2746: 'legs', 2747: 'whereas', 2748: 'ityou', 2749: 'towards', 2750: 'ya', 2751: 'feast', 2752: 'planned', 2753: 'hidden', 2754: 'sean', 2755: 'carroll', 2756: 'redactedlinkahh', 2757: 'largely', 2758: 'nonfiction', 2759: 'seveneves', 2760: 'neal', 2761: 'stephenson', 2762: 'shattered', 2763: 'asteroid', 2764: 'pieces', 2765: 'clouding', 2766: 'earths', 2767: 'atmostphere', 2768: 'creature', 2769: 'extinct', 2770: 'premise', 2771: 'watchedreally', 2772: 'spaceah', 2773: 'organized', 2774: 'participants', 2775: 'handle', 2776: 'ensure', 2777: 'smoothly', 2778: 'participate', 2779: 'siblings', 2780: 'discussing', 2781: 'format', 2782: 'reserved', 2783: 'slip', 2784: 'sunday', 2785: 'funds', 2786: 'mainly', 2787: 'organizing', 2788: 'phew', 2789: '30', 2790: 'pm', 2791: 'grocery', 2792: 'stroll', 2793: 'acupuncturist', 2794: 'treated', 2795: 'brutal', 2796: 'sceptical', 2797: 'acupuncture', 2798: 'convincing', 2799: 'firsthand', 2800: 'revolves', 2801: 'notion', 2802: 'qi', 2803: 'bro', 2804: 'unless', 2805: 'presented', 2806: 'reviewed', 2807: '6', 2808: 'parties', 2809: 'originate', 2810: 'studies', 2811: 'appropriate', 2812: 'assure', 2813: 'fantastic', 2814: 'bright', 2815: 'verge', 2816: 'becoming', 2817: 'vampire', 2818: 'tan', 2819: 'pretending', 2820: 'bringing', 2821: 'react', 2822: 'researcher', 2823: 'focuses', 2824: 'jellyfish', 2825: 'pufferfish', 2826: 'poisonous', 2827: 'processed', 2828: 'correctly', 2829: 'hiend', 2830: 'recipes', 2831: 'tables', 2832: 'obviously', 2833: 'protective', 2834: 'accidents', 2835: 'hmmm', 2836: 'climbers', 2837: 'fall', 2838: 'guard', 2839: 'psychological', 2840: 'phenomenon', 2841: 'indoor', 2842: 'gyms', 2843: 'occasionally', 2844: 'fingertips', 2845: 'thankful', 2846: 'vancouver', 2847: 'twitter', 2848: 'saying', 2849: 'denied', 2850: 'visas', 2851: 'largest', 2852: 'reservation', 2853: 'advance', 2854: 'hosting', 2855: 'tons', 2856: 'filling', 2857: 'shrimp', 2858: 'chicken', 2859: 'pork', 2860: 'considering', 2861: 'vegetarian', 2862: 'meat', 2863: 'consideringt', 2864: 'o', 2865: 'vetegarian', 2866: 'humans', 2867: 'bets', 2868: 'case', 2869: 'dies', 2870: 'mixed', 2871: 'dishes', 2872: 'buffet', 2873: 'meatless', 2874: 'burgers', 2875: 'expensive', 2876: 'impossible', 2877: 'burger', 2878: 'nostalgic', 2879: 'memeories', 2880: 'flood', 2881: 'hometown', 2882: 'north', 2883: 'havent', 2884: 'tourism', 2885: 'decade'}\n",
      "Predicted Word: \n"
     ]
    },
    {
     "data": {
      "text/plain": [
       "''"
      ]
     },
     "execution_count": 23,
     "metadata": {},
     "output_type": "execute_result"
    }
   ],
   "source": [
    "def debug_index_to_word(predicted_index):\n",
    "    word_index = tokenizer.word_index\n",
    "    index_word = {v: k for k, v in word_index.items()}\n",
    "    print(\"Index to Word Mapping:\", index_word)\n",
    "\n",
    "    predicted_word = index_word.get(predicted_index[0], \"\")\n",
    "    print(\"Predicted Word:\", predicted_word)\n",
    "\n",
    "    return predicted_word\n",
    "\n",
    "predicted_probs = debug_model_output(input_seq_padded)\n",
    "predicted_index = np.argmax(predicted_probs, axis = 1)\n",
    "debug_index_to_word(predicted_index)"
   ]
  },
  {
   "cell_type": "code",
   "execution_count": 17,
   "metadata": {},
   "outputs": [
    {
     "name": "stdout",
     "output_type": "stream",
     "text": [
      "\u001b[1m1/1\u001b[0m \u001b[32m━━━━━━━━━━━━━━━━━━━━\u001b[0m\u001b[37m\u001b[0m \u001b[1m0s\u001b[0m 50ms/step\n",
      "Chatbot Response: \n"
     ]
    }
   ],
   "source": [
    "import numpy as np\n",
    "\n",
    "def generate_response(input_text):\n",
    "    # Convert user input to sequence\n",
    "    input_seq = tokenizer.texts_to_sequences([input_text])\n",
    "    input_seq = pad_sequences(input_seq, maxlen = SEQUENCE_LENGTH, padding = \"post\")\n",
    "\n",
    "    # Predict response\n",
    "    predicted_seq = model.predict(input_seq)\n",
    "    predicted_word_index = np.argmax(predicted_seq, axis = -1)\n",
    "\n",
    "    # Convert numbers back to words\n",
    "    word_index = tokenizer.word_index\n",
    "    index_word = {v: k for k, v in word_index.items()}\n",
    "    predicted_word = index_word.get(predicted_word_index[0], \"\")\n",
    "\n",
    "    return predicted_word\n",
    "\n",
    "# Test the Chatbot\n",
    "user_input = \"Hello, how are you?\"\n",
    "response = generate_response(user_input)\n",
    "print(\"Chatbot Response:\", response)"
   ]
  },
  {
   "cell_type": "code",
   "execution_count": 24,
   "metadata": {},
   "outputs": [
    {
     "name": "stdout",
     "output_type": "stream",
     "text": [
      "User Input Hello, how are you?\n",
      "Tokenized Input: [[149, 20, 18, 2]]\n",
      "Padded Input: [[149  20  18   2   0   0   0   0   0   0   0   0   0   0   0   0   0   0\n",
      "    0   0]]\n",
      "\u001b[1m1/1\u001b[0m \u001b[32m━━━━━━━━━━━━━━━━━━━━\u001b[0m\u001b[37m\u001b[0m \u001b[1m0s\u001b[0m 57ms/step\n",
      "Predicted Probabilities: [[7.9757100e-01 9.3082164e-09 1.5308521e-02 ... 1.2180631e-08\n",
      "  9.7248325e-09 1.0302393e-08]]\n",
      "Predicted Index: [0]\n",
      "Index to Word Mapping: {1: 'i', 2: 'you', 3: 'to', 4: 'the', 5: 'a', 6: 'is', 7: 'it', 8: 'of', 9: 'do', 10: 'have', 11: 'that', 12: 'and', 13: 'not', 14: 'what', 15: 'in', 16: 'for', 17: 'am', 18: 'are', 19: 'like', 20: 'how', 21: 'but', 22: 'so', 23: 'good', 24: 'about', 25: 'my', 26: 'your', 27: 'be', 28: 'was', 29: 'with', 30: 'on', 31: 'hi', 32: 'think', 33: 'going', 34: 'just', 35: 'can', 36: 'up', 37: 'this', 38: 'there', 39: 'would', 40: 'time', 41: 'we', 42: 'at', 43: 'me', 44: 'will', 45: 'oh', 46: 'too', 47: 'some', 48: 'work', 49: 'no', 50: 'very', 51: 'did', 52: 'nice', 53: 'all', 54: 'really', 55: 'as', 56: 'been', 57: 'day', 58: 'lot', 59: 'haha', 60: 'great', 61: 'fun', 62: 'any', 63: 'yes', 64: 'they', 65: 'pretty', 66: 'out', 67: 'get', 68: 'if', 69: 'know', 70: 'well', 71: 'one', 72: 'more', 73: 'go', 74: 'from', 75: 'or', 76: 'yeah', 77: 'cool', 78: 'much', 79: 'sounds', 80: 'an', 81: 'love', 82: 'also', 83: 'where', 84: 'them', 85: 'try', 86: 'had', 87: 'response', 88: 'doing', 89: 'people', 90: 'wow', 91: 'actually', 92: 'though', 93: 'last', 94: 'see', 95: 'food', 96: 'when', 97: 'should', 98: 'now', 99: 'does', 100: 'which', 101: 'never', 102: 'then', 103: 'want', 104: 'right', 105: 'here', 106: 'new', 107: 'sure', 108: 'before', 109: 'weekend', 110: 'lol', 111: 'by', 112: 'favorite', 113: 'hey', 114: 'has', 115: 'heard', 116: 'its', 117: 'long', 118: 'year', 119: 'thanks', 120: 'same', 121: 'ever', 122: 'kind', 123: 'book', 124: 'friends', 125: 'plans', 126: 'today', 127: 'far', 128: 'make', 129: 'got', 130: 'things', 131: 'something', 132: 'hope', 133: 'enjoy', 134: 'watch', 135: 'most', 136: 'feel', 137: 'seen', 138: 'interesting', 139: 'who', 140: 'over', 141: 'best', 142: 'better', 143: 'live', 144: 'place', 145: 'say', 146: 'bit', 147: 'redactedterm', 148: 'tried', 149: 'hello', 150: 'only', 151: 'next', 152: 'play', 153: 'plan', 154: 'take', 155: 'went', 156: 'these', 157: 'why', 158: 'trying', 159: 'maybe', 160: 'game', 161: 'week', 162: 'home', 163: 'thanksgiving', 164: 'guess', 165: 'into', 166: 'days', 167: 'yea', 168: 'find', 169: 'anything', 170: 'holidays', 171: 'other', 172: 'family', 173: 'true', 174: 'read', 175: 'down', 176: 'life', 177: 'bad', 178: 'were', 179: 'thing', 180: 'couple', 181: 'way', 182: 'those', 183: 'little', 184: 'hard', 185: 'cold', 186: 'idea', 187: 'few', 188: 'chocolate', 189: 'planning', 190: 'first', 191: 'because', 192: 'world', 193: 'always', 194: 'run', 195: 'places', 196: 'lunch', 197: 'different', 198: 'still', 199: 'once', 200: 'back', 201: 'called', 202: 'having', 203: 'visit', 204: 'need', 205: 'movies', 206: 'movie', 207: 'prefer', 208: 'getting', 209: 'fish', 210: 'mostly', 211: 'looking', 212: 'used', 213: 'yourself', 214: 'meet', 215: 'may', 216: 'might', 217: 'many', 218: 'let', 219: 'could', 220: 'thinking', 221: 'christmas', 222: 'ah', 223: 'made', 224: 'busy', 225: 'working', 226: 'their', 227: 'often', 228: 'show', 229: 'every', 230: 'york', 231: 'okay', 232: 'probably', 233: 'us', 234: 'reading', 235: 'after', 236: 'definitely', 237: 'eat', 238: 'even', 239: 'part', 240: 'around', 241: 'myself', 242: 'yet', 243: 'person', 244: 'already', 245: 'turkey', 246: 'awesome', 247: 'help', 248: 'during', 249: 'coming', 250: 'practice', 251: 'sometimes', 252: 'school', 253: 'done', 254: 'believe', 255: 'hmm', 256: 'talking', 257: 'years', 258: 'through', 259: 'season', 260: 'sorry', 261: 'hear', 262: 'check', 263: 'wait', 264: 'everything', 265: 'research', 266: 'than', 267: 'being', 268: 'lots', 269: 'talk', 270: 'saw', 271: 'gonna', 272: 'stay', 273: 'soon', 274: 'friend', 275: 'able', 276: 'later', 277: 'big', 278: 'put', 279: 'thought', 280: 'robot', 281: 'makes', 282: 'feeling', 283: 'start', 284: 'amazing', 285: 'super', 286: 'books', 287: 'tea', 288: 'shows', 289: 'holiday', 290: 'mean', 291: 'him', 292: 'experience', 293: 'water', 294: 'tree', 295: 'type', 296: 'else', 297: 'ramen', 298: 'important', 299: 'whole', 300: 'end', 301: 'enough', 302: 'ask', 303: 'pick', 304: 'played', 305: 'high', 306: 'our', 307: 'games', 308: 'stuff', 309: 'class', 310: 'trip', 311: 'team', 312: 'months', 313: 'usually', 314: 'someone', 315: 'weather', 316: 'nothing', 317: 'catch', 318: 'recently', 319: 'morning', 320: 'name', 321: 'scary', 322: 'ago', 323: 'quite', 324: 'question', 325: 'cook', 326: 'travel', 327: 'come', 328: 'depends', 329: 'funny', 330: 'ok', 331: 'hot', 332: 'ahh', 333: 'sort', 334: 'forward', 335: 'san', 336: 'skiing', 337: 'city', 338: 'playing', 339: 'ice', 340: 'tennis', 341: 'meeting', 342: 'thats', 343: 'learn', 344: 'he', 345: 'give', 346: 'old', 347: 'wish', 348: 'started', 349: 'nope', 350: 'drink', 351: 'afraid', 352: 'such', 353: 'lately', 354: 'watched', 355: 'must', 356: 'sick', 357: 'set', 358: 'buy', 359: 'money', 360: 'flower', 361: 'mind', 362: 'two', 363: 'disney', 364: 'music', 365: 'watching', 366: 'fan', 367: 'understand', 368: 'finish', 369: 'science', 370: 'tough', 371: 'cream', 372: 'group', 373: 'balance', 374: 'break', 375: 'hehe', 376: 'extreme', 377: 'pikachu', 378: 'together', 379: 'conference', 380: 'met', 381: 'keep', 382: 'sense', 383: 'man', 384: 'again', 385: 'shopping', 386: 'tell', 387: 'warm', 388: 'project', 389: 'especially', 390: 'exciting', 391: 'looks', 392: 'rain', 393: 'area', 394: 'grew', 395: 'sleep', 396: 'sad', 397: 'cat', 398: 'dish', 399: 'beautiful', 400: 'delicious', 401: 'admit', 402: 'happy', 403: 'remember', 404: 'apparently', 405: 'taking', 406: 'favourite', 407: 'course', 408: 'japan', 409: 'based', 410: 'snow', 411: 'instead', 412: 'both', 413: 'outside', 414: 'winter', 415: 'recommend', 416: 'visited', 417: 'yup', 418: 'sweet', 419: 'mentor', 420: 'dinner', 421: 'style', 422: 'goes', 423: 'event', 424: 'volunteer', 425: 'coffee', 426: 'while', 427: 'write', 428: 'close', 429: 'drive', 430: 'almost', 431: 'events', 432: 'kinds', 433: 'join', 434: 'early', 435: 'sound', 436: 'tired', 437: 'avatar', 438: 'cookies', 439: 'noodle', 440: 'yay', 441: 'travelling', 442: 'hawaii', 443: 'excited', 444: '3', 445: 'glad', 446: 'until', 447: 'between', 448: 'real', 449: 'month', 450: 'happened', 451: 'horse', 452: 'job', 453: '1', 454: 'someday', 455: 'thank', 456: 'wanted', 457: 'projects', 458: 'honestly', 459: 'cafe', 460: 'since', 461: 'least', 462: 'everyone', 463: 'seems', 464: 'brain', 465: 'icecream', 466: 'care', 467: 'top', 468: 'wonder', 469: 'physical', 470: 'college', 471: 'impressive', 472: 'night', 473: 'full', 474: 'taste', 475: 'meetings', 476: 'video', 477: 'figure', 478: 'off', 479: 'white', 480: 'found', 481: 'croissants', 482: 'dark', 483: 'etc', 484: 'eating', 485: 'wanna', 486: 'sport', 487: 'scifi', 488: 'ski', 489: 'gone', 490: 'netflix', 491: 'badminton', 492: 'im', 493: 'tv', 494: 'ball', 495: 'australia', 496: 'jazz', 497: 'mountain', 498: 'tubing', 499: 'beach', 500: 'moment', 501: 'turns', 502: 'said', 503: 'party', 504: 'use', 505: 'message', 506: 'word', 507: 'office', 508: 'mine', 509: 'saturday', 510: 'look', 511: '24', 512: 'climate', 513: 'change', 514: 'ai', 515: 'helping', 516: 'outlook', 517: 'training', 518: 'scared', 519: 'ha', 520: 'unique', 521: 'forgot', 522: 'local', 523: 'relaxing', 524: 'beside', 525: 'types', 526: 'cannot', 527: 'share', 528: 'afternoon', 529: 'weeks', 530: 'healthy', 531: 'traveling', 532: 'means', 533: 'store', 534: 'target', 535: 'comes', 536: 'yours', 537: 'whats', 538: 'came', 539: '2', 540: 'tokyo', 541: 'fighting', 542: 'sea', 543: 'town', 544: 'coaster', 545: 'head', 546: 'point', 547: 'prepared', 548: 'ready', 549: 'example', 550: 'enjoying', 551: 'board', 552: 'inside', 553: 'chat', 554: 'learning', 555: 'seem', 556: 'chinese', 557: 'mix', 558: 'itself', 559: 'less', 560: 'soccer', 561: 'foods', 562: 'latest', 563: 'making', 564: 'follow', 565: 'ate', 566: 'chance', 567: 'green', 568: 'easy', 569: 'near', 570: 'youtube', 571: 'kale', 572: 'computers', 573: 'took', 574: 'son', 575: '5', 576: 'quarter', 577: 'living', 578: 'earlier', 579: 'sessions', 580: 'tomorrow', 581: 'perfect', 582: 'progress', 583: 'away', 584: 'program', 585: 'keto', 586: 'sharing', 587: 'past', 588: 'surprise', 589: 'second', 590: 'bots', 591: 'moon', 592: 'problem', 593: 'sucks', 594: 'liked', 595: 'wild', 596: 'his', 597: 'cooking', 598: 'india', 599: 'code', 600: 'germany', 601: 'marathons', 602: 'match', 603: 'each', 604: 'tiring', 605: 'sleeping', 606: 'spicy', 607: 'hunan', 608: 'virtual', 609: 'reality', 610: 'climbing', 611: 'happen', 612: 'baby', 613: 'bar', 614: 'health', 615: 'french', 616: 'cake', 617: 'dangerous', 618: 'number', 619: 'count', 620: 'god', 621: 'meaningful', 622: 'ways', 623: 'stranger', 624: 'spot', 625: 'treasure', 626: 'hunting', 627: 'description', 628: 'boy', 629: 'santa', 630: 'weird', 631: 'hike', 632: 'hours', 633: 'bay', 634: 'changed', 635: 'interest', 636: 'schedule', 637: 'raining', 638: 'walk', 639: 'dry', 640: 'snowstorm', 641: 'sit', 642: 'mountains', 643: 'upcoming', 644: 'feels', 645: 'alright', 646: 'special', 647: 'anywhere', 648: 'vacation', 649: 'requires', 650: 'plenty', 651: 'hang', 652: 'ttyl', 653: 'nature', 654: 'ends', 655: 'human', 656: 'e', 657: 'affected', 658: 'bake', 659: 'soup', 660: 'common', 661: 'chilling', 662: 'cause', 663: 'lotion', 664: 'agree', 665: 'folks', 666: 'wife', 667: 'neat', 668: 'vs', 669: 'plus', 670: 'fine', 671: 'test', 672: 'born', 673: 'kidding', 674: 'lotus', 675: 'favorites', 676: 'theory', 677: 'personal', 678: 'appreciate', 679: 'wonderful', 680: 'summer', 681: 'google', 682: 'marvel', 683: 'bring', 684: 'honest', 685: 'purpose', 686: 'roller', 687: 'hahaha', 688: 'suppose', 689: 'enjoyed', 690: 'francisco', 691: 'dogs', 692: 'house', 693: 'another', 694: 'electricity', 695: 'meal', 696: 'yum', 697: 'parents', 698: 'takes', 699: 'street', 700: 'machine', 701: 'expert', 702: 'rest', 703: 'asian', 704: 'flavors', 705: 'vanilla', 706: 'topics', 707: 'mental', 708: 'understanding', 709: 'emails', 710: 'gave', 711: 'forget', 712: 'details', 713: 'stuffing', 714: 'helps', 715: 'keeping', 716: 'calories', 717: 'sightseeing', 718: 'cover', 719: 'classifier', 720: 'hate', 721: 'general', 722: 'clients', 723: 'luck', 724: 'hahahaha', 725: 'cute', 726: 'distance', 727: 'late', 728: 'eggs', 729: 'excellent', 730: 'answer', 731: 'turning', 732: 'pottery', 733: 'classes', 734: 'build', 735: 'skills', 736: 'teas', 737: 'language', 738: 'exotic', 739: 'cave', 740: 'vietnam', 741: 'cambodia', 742: 'spent', 743: 'fully', 744: 'tackle', 745: 'future', 746: 'melted', 747: 'crazy', 748: 'basically', 749: 'fill', 750: 'pie', 751: 'youve', 752: 'currently', 753: 'traveled', 754: 'exercise', 755: 'switch', 756: 'recent', 757: 'yep', 758: 'giving', 759: 'lives', 760: 'cycle', 761: 'wall', 762: 'fund', 763: 'owner', 764: 'famous', 765: 'mentee', 766: 'ground', 767: 'scenario', 768: 'lose', 769: 'others', 770: 'southern', 771: 'cities', 772: 'popular', 773: 'videos', 774: 'fishing', 775: 'players', 776: 'europe', 777: 'call', 778: 'catching', 779: 'goodies', 780: 'anyways', 781: 'likewise', 782: 'gym', 783: 'distances', 784: 'won', 785: 'pingpong', 786: 'racquetball', 787: 'involves', 788: 'fast', 789: 'writing', 790: 'diving', 791: 'woah', 792: 'weight', 793: 'dun', 794: 'originally', 795: 'meant', 796: 'phone', 797: 'yoda', 798: 'thrones', 799: 'exactly', 800: 'resort', 801: 'traffic', 802: 'using', 803: 'strong', 804: 'thus', 805: 'race', 806: 'attend', 807: 'bunch', 808: 'guitar', 809: 'anime', 810: 'leg', 811: '4', 812: 'original', 813: 'neural', 814: 'chef', 815: 'perhaps', 816: 'sapporo', 817: 'uganda', 818: 'depending', 819: 'survivors', 820: 'space', 821: 'volunteers', 822: 'literature', 823: 'photos', 824: 'routes', 825: 'climb', 826: 'fascinating', 827: 'matters', 828: 'strangers', 829: 'gives', 830: 'connect', 831: 'deeply', 832: 'accurate', 833: 'pain', 834: 'pulled', 835: 'muscle', 836: 'talks', 837: 'imagine', 838: 'positive', 839: 'red', 840: 'hat', 841: 'mall', 842: 'heart', 843: 'grad', 844: 'market', 845: 'cruz', 846: 'supposed', 847: 'oddly', 848: 'specific', 849: 'sunny', 850: 'depressing', 851: 'bug', 852: 'free', 853: 'ohh', 854: 'indeed', 855: 'adventures', 856: 'options', 857: 'surprising', 858: 'rainy', 859: 'survive', 860: 'degrees', 861: 'drought', 862: 'causes', 863: 'fire', 864: 'blue', 865: 'advice', 866: 'miss', 867: 'sent', 868: 'posters', 869: 'her', 870: 'zipline', 871: 'mate', 872: 'worries', 873: 'figured', 874: 'story', 875: 'g', 876: 'trees', 877: 'chip', 878: 'cookie', 879: 'soups', 880: 'pho', 881: 'homemade', 882: 'chill', 883: 'december', 884: 'visiting', 885: 'california', 886: 'beaches', 887: 'recovered', 888: 'relax', 889: 'somewhere', 890: 'fake', 891: 'lights', 892: 'decorate', 893: 'bought', 894: 'buying', 895: 'fresh', 896: 'artificial', 897: 'deals', 898: 'likes', 899: 'she', 900: 'credit', 901: 'history', 902: 'fight', 903: 'train', 904: 'vaulting', 905: 'spring', 906: 'personality', 907: 'preference', 908: 'step', 909: 'questions', 910: 'develop', 911: 'land', 912: 'giant', 913: 'hahalol', 914: 'completely', 915: 'worked', 916: 'side', 917: 'mandalorian', 918: 'avengers', 919: 'loved', 920: 'collected', 921: 'comic', 922: 'spiderman', 923: 'actor', 924: 'loki', 925: 'park', 926: 'trust', 927: 'earned', 928: 'tentative', 929: 'staying', 930: 'la', 931: 'cats', 932: 'hitting', 933: 'several', 934: 'prepare', 935: 'bahamas', 936: 'canada', 937: 'rushing', 938: 'extended', 939: 'snorkeling', 940: 'swim', 941: 'church', 942: 'air', 943: 'impersonate', 944: 'hobbies', 945: 'besides', 946: 'mentioned', 947: 'harsh', 948: 'youd', 949: 'bottom', 950: 'pleasure', 951: 'superman', 952: 'rather', 953: 'fmri', 954: 'technical', 955: 'activity', 956: 'three', 957: 'typically', 958: 'mint', 959: '99', 960: 'touching', 961: 'robots', 962: 'ending', 963: 'character', 964: 'alive', 965: 'spoil', 966: 'hahayeah', 967: 'neither', 968: 'told', 969: 'gravy', 970: 'apart', 971: 'gotten', 972: 'yoga', 973: 'become', 974: 'teacher', 975: 'activities', 976: 'unfortunately', 977: 'indoors', 978: 'karaoke', 979: 'mexico', 980: 'taco', 981: 'choice', 982: 'mark', 983: 'tom', 984: 'groomer', 985: 'usual', 986: 'small', 987: 'starting', 988: 'sell', 989: 'hopefully', 990: 'corgi', 991: 'flop', 992: 'breakfast', 993: 'apple', 994: 'hash', 995: 'browns', 996: 'healthier', 997: 'certainly', 998: 'although', 999: 'orange', 1000: 'toppings', 1001: 'hungry', 1002: 'sewing', 1003: 'role', 1004: 'parts', 1005: 'host', 1006: 'minute', 1007: 'absolutely', 1008: 'poet', 1009: 'theme', 1010: 'speak', 1011: 'biggest', 1012: 'bucket', 1013: 'list', 1014: 'neighboring', 1015: 'culture', 1016: '10', 1017: 'total', 1018: 'phase', 1019: 'aligned', 1020: 'terrible', 1021: 'discuss', 1022: 'works', 1023: 'task', 1024: 'company', 1025: 'stick', 1026: 'joined', 1027: 'sync', 1028: 'regular', 1029: 'wednesdays', 1030: 'menu', 1031: 'along', 1032: 'twice', 1033: 'flakey', 1034: 'pastries', 1035: 'guilty', 1036: 'normal', 1037: 'substitute', 1038: 'sorts', 1039: 'sugar', 1040: 'pumpkin', 1041: 'available', 1042: 'normally', 1043: 'clothes', 1044: 'scare', 1045: 'med', 1046: 'ambitious', 1047: 'tbh', 1048: 'journey', 1049: 'open', 1050: 'island', 1051: 'road', 1052: 'worth', 1053: 'tip', 1054: 'desk', 1055: 'fit', 1056: 'adventure', 1057: 'finished', 1058: 'except', 1059: 'fantasy', 1060: 'conversations', 1061: 'conversation', 1062: 'tahoe', 1063: 'lawyer', 1064: 'miracles', 1065: 'suck', 1066: 'career', 1067: 'act', 1068: 'process', 1069: 'possible', 1070: 'result', 1071: 'easier', 1072: 'empathise', 1073: 'immigrants', 1074: 'ended', 1075: 'moved', 1076: 'taiwan', 1077: 'young', 1078: 'own', 1079: 'restaurant', 1080: 'country', 1081: 'billions', 1082: 'series', 1083: 'sf', 1084: 'grand', 1085: 'canyon', 1086: 'exploring', 1087: 'mentorship', 1088: 'overall', 1089: 'personally', 1090: '11', 1091: 'useful', 1092: 'peer', 1093: 'graduated', 1094: 'klutz', 1095: 'decent', 1096: 'unlike', 1097: 'squash', 1098: 'kpop', 1099: 'whos', 1100: 'john', 1101: 'mellow', 1102: 'partners', 1103: 'former', 1104: 'independent', 1105: 'partner', 1106: 'value', 1107: 'figuring', 1108: 'single', 1109: 'hyderabad', 1110: 'coast', 1111: 'flying', 1112: 'ocean', 1113: 'pull', 1114: 'lucky', 1115: 'consider', 1116: 'outdoorsy', 1117: 'jose', 1118: 'ufc', 1119: 'jiu', 1120: 'jitsu', 1121: 'tournament', 1122: 'amateur', 1123: 'created', 1124: 'france', 1125: 'spain', 1126: 'spanish', 1127: 'learned', 1128: 'german', 1129: 'racing', 1130: 'ability', 1131: 'wear', 1132: 'seasons', 1133: 'hahai', 1134: 'halfmarathon', 1135: 'running', 1136: 'marathon', 1137: 'specially', 1138: 'cage', 1139: 'main', 1140: 'court', 1141: 'ping', 1142: 'pong', 1143: 'refactoring', 1144: 'sushi', 1145: 'japanese', 1146: 'mateo', 1147: 'restaurants', 1148: 'parlor', 1149: 'softshell', 1150: 'thumbs', 1151: 'attending', 1152: 'papers', 1153: 'similar', 1154: 'fly', 1155: 'body', 1156: 'lifting', 1157: 'everyday', 1158: 'fact', 1159: 'alien', 1160: 'planet', 1161: 'civilization', 1162: 'earth', 1163: 'twists', 1164: 'audi', 1165: 'hand', 1166: 'gets', 1167: 'rock', 1168: 'america', 1169: 'chris', 1170: 'names', 1171: 'hahah', 1172: 'bye', 1173: 'pokemons', 1174: 'whatre', 1175: 'pokemon', 1176: 'cutest', 1177: 'modern', 1178: 'episodes', 1179: 'lived', 1180: 'heaven', 1181: 'ride', 1182: 'seeing', 1183: 'popcorn', 1184: 'kids', 1185: 'nights', 1186: 'eve', 1187: 'shame', 1188: 'leave', 1189: 'legos', 1190: 'managed', 1191: 'spend', 1192: 'comedy', 1193: 'fixed', 1194: 'hour', 1195: 'warriors', 1196: 'lost', 1197: 'difficult', 1198: 'spartan', 1199: 'challenging', 1200: 'bars', 1201: 'sign', 1202: '12', 1203: 'workout', 1204: 'sports', 1205: 'rafting', 1206: 'fell', 1207: 'slope', 1208: 'study', 1209: 'date', 1210: 'brought', 1211: 'pictionary', 1212: 'paper', 1213: 'song', 1214: 'chord', 1215: 'chords', 1216: 'terms', 1217: 'leaders', 1218: 'realize', 1219: 'random', 1220: 'wrote', 1221: 'title', 1222: 'headache', 1223: 'basketball', 1224: 'ml', 1225: 'creepy', 1226: 'somehow', 1227: 'picked', 1228: 'recall', 1229: 'dance', 1230: 'elitist', 1231: 'deja', 1232: 'vu', 1233: 'english', 1234: 'etcetera', 1235: 'facts', 1236: 'origins', 1237: 'gymnasium', 1238: 'joke', 1239: 'hint', 1240: 'flavored', 1241: 'tasty', 1242: 'pastry', 1243: 'cakes', 1244: 'hokkaido', 1245: 'chain', 1246: 'weekends', 1247: 'italian', 1248: 'montreal', 1249: 'cigar', 1250: 'link', 1251: 'dump', 1252: 'collar', 1253: 'organization', 1254: 'benefits', 1255: 'philosophy', 1256: 'times', 1257: 'send', 1258: 'logistics', 1259: 'add', 1260: 'sun', 1261: 'nets', 1262: 'kingyo', 1263: 'eaten', 1264: 'sandwich', 1265: 'environment', 1266: 'peanut', 1267: 'butter', 1268: '25', 1269: 'australiado', 1270: 'interactions', 1271: 'shortlived', 1272: 'themyea', 1273: 'puts', 1274: 'front', 1275: 'opportunity', 1276: 'without', 1277: 'telling', 1278: '6th', 1279: 'readings', 1280: 'remarkably', 1281: 'sat', 1282: 'felt', 1283: 'asked', 1284: 'exact', 1285: 'dancing', 1286: 'borderline', 1287: 'spookythere', 1288: 'public', 1289: 'ultimate', 1290: 'hunt', 1291: 'creativity', 1292: 'associate', 1293: 'encouraging', 1294: 'teenage', 1295: 'imagination', 1296: 'matches', 1297: 'kindness', 1298: 'whatever', 1299: 'brings', 1300: 'tears', 1301: 'farmers', 1302: 'vague', 1303: 'hopefilled', 1304: 'messages', 1305: 'blurt', 1306: 'hiany', 1307: 'hiking', 1308: 'deadline', 1309: 'anxious', 1310: 'diablo', 1311: 'areathat', 1312: 'entire', 1313: 'doin', 1314: 'squatting', 1315: 'caught', 1316: 'd', 1317: 'june', 1318: 'awkward', 1319: 'ahhh', 1320: 'bland', 1321: 'routine', 1322: 'ones', 1323: 'hmmmm', 1324: 'bull', 1325: 'riding', 1326: 'shall', 1327: 'shoot', 1328: 'foodtruck', 1329: 'gloomyyeah', 1330: 'trouble', 1331: 'wise', 1332: 'undergrad', 1333: 'flights', 1334: 'canceled', 1335: 'traffics', 1336: 'rains', 1337: '50', 1338: 'heated', 1339: 'rromsyeah', 1340: 'supply', 1341: 'ridden', 1342: 'areait', 1343: 'darn', 1344: 'tech', 1345: 'helloooooo', 1346: 'dressed', 1347: 'wel', 1348: 'psychology', 1349: 'tranquil', 1350: 'colour', 1351: 'metaphor', 1352: 'positivity', 1353: 'push', 1354: 'missing', 1355: 'banging', 1356: 'catfood', 1357: 'shouting', 1358: 'anyway', 1359: 'plastic', 1360: 'bag', 1361: 'rainforest', 1362: 'extensive', 1363: 'beforehand', 1364: 'rainforests', 1365: 'southeast', 1366: 'asia', 1367: 'lie', 1368: 'medication', 1369: 'acrophobia', 1370: 'invent', 1371: 'millionsthat', 1372: 'alcohol', 1373: 'oops', 1374: 'sup', 1375: 'wire', 1376: 'ziplining', 1377: 'experiencewhere', 1378: 'thoughno', 1379: 'yousure', 1380: 'massage', 1381: 'firstnice', 1382: 'traditional', 1383: 'kindyeah', 1384: 'avenger', 1385: 'sciencefiction', 1386: 'landscape', 1387: 'imaginary', 1388: 'nonhuman', 1389: 'creatures', 1390: 'transformation', 1391: 'behaviors', 1392: 'cutting', 1393: 'naturethat', 1394: 'box', 1395: 'baking', 1396: 'quest', 1397: 'eatingso', 1398: 'generally', 1399: 'cookseems', 1400: 'behalf', 1401: 'posted', 1402: 'budget', 1403: 'stopped', 1404: 'humid', 1405: 'cares', 1406: 'humidity', 1407: 'brooooo', 1408: 'carry', 1409: 'litres', 1410: 'yuo', 1411: 'asking', 1412: 'wet', 1413: 'cough', 1414: 'counted', 1415: 'among', 1416: 'bored', 1417: 'tiresome', 1418: 'decorating', 1419: 'ecofriendly', 1420: 'colorful', 1421: 'led', 1422: 'festive', 1423: 'copying', 1424: 'decorative', 1425: 'stuffs', 1426: 'stores', 1427: 'torn', 1428: 'artificialecofriendlyfake', 1429: 'smells', 1430: 'pine', 1431: 'opted', 1432: 'disassemble', 1433: 'intelligence', 1434: 'huh', 1435: 'clever', 1436: 'pun', 1437: 'childhood', 1438: 'chopping', 1439: 'throw', 1440: 'responsible', 1441: 'cheaper', 1442: 'suggestions', 1443: 'card', 1444: 'suggestion', 1445: 'ehh', 1446: 'christopher', 1447: 'columbus', 1448: 'civil', 1449: 'warhahah', 1450: 'semester', 1451: 'anymore', 1452: 'compete', 1453: 'turned', 1454: 'farm', 1455: 'competitions', 1456: 'delightful', 1457: 'vibe', 1458: 'preferences', 1459: 'revealing', 1460: 'gerbera', 1461: 'cartoon', 1462: 'drew', 1463: 'crayon', 1464: 'deduce', 1465: 'gradually', 1466: 'five', 1467: 'voilahehe', 1468: 'publish', 1469: 'pool', 1470: 'kyoto', 1471: '114', 1472: 'onsen', 1473: 'lands', 1474: 'parasite', 1475: 'reviews', 1476: 'imdb', 1477: 'rotten', 1478: 'tomatoes', 1479: 'service', 1480: 'oooo', 1481: 'deleted', 1482: 'scenes', 1483: 'xmen', 1484: 'kid', 1485: 'cards', 1486: 'cinematic', 1487: 'universe', 1488: 'hahaoh', 1489: 'plays', 1490: 'hahayea', 1491: 'handsome', 1492: 'beforehe', 1493: 'adopted', 1494: 'brother', 1495: 'thor', 1496: 'thunder', 1497: 'burdened', 1498: 'glorious', 1499: 'burden', 1500: 'chillin', 1501: 'double', 1502: 'espresso', 1503: 'amusement', 1504: 'gosh', 1505: 'kingda', 1506: 'ka', 1507: 'worlds', 1508: 'tallest', 1509: 'aficianado', 1510: 'addicted', 1511: 'level', 1512: 'appeal', 1513: 'adrenaline', 1514: 'junkie', 1515: 'opposite', 1516: 'stand', 1517: 'heights', 1518: 'horror', 1519: 'confined', 1520: 'spaces', 1521: 'engineering', 1522: 'vacationyeah', 1523: 'pinged', 1524: 'dates', 1525: 'pan', 1526: '23', 1527: 'weeksaw', 1528: 'flu', 1529: 'nowno', 1530: 'extremely', 1531: 'jealous', 1532: 'major', 1533: 'hit', 1534: 'aftermath', 1535: 'sledding', 1536: 'yeysounds', 1537: 'knew', 1538: 'shallow', 1539: 'hangout', 1540: 'friendsnice', 1541: 'donuts', 1542: 'samosas', 1543: 'fryer', 1544: 'oily', 1545: 'frierhaha', 1546: 'pumpkinwow', 1547: 'personi', 1548: 'frying', 1549: 'fermenting', 1550: 'kimchi', 1551: 'ferment', 1552: 'miso', 1553: 'fermen', 1554: 'heya', 1555: 'paul', 1556: 'james', 1557: 'forwards', 1558: 'niceoh', 1559: 'hopes', 1560: 'storm', 1561: 'areas', 1562: 'outskirts', 1563: 'wind', 1564: 'uh', 1565: 'bbq', 1566: 'insideyeah', 1567: 'cup', 1568: 'floods', 1569: 'valley', 1570: 'cheap', 1571: 'gotcha', 1572: 'timesno', 1573: 'chating', 1574: 'power', 1575: 'invisible', 1576: 'minds', 1577: 'imaging', 1578: 'brains', 1579: 'resolution', 1580: 'society', 1581: 'arguing', 1582: 'democracy', 1583: 'youif', 1584: 'stirfry', 1585: 'variations', 1586: 'framing', 1587: 'berries', 1588: 'boysenberry', 1589: 'strawberry', 1590: 'straight', 1591: 'sorbets', 1592: 'smoothies', 1593: 'changing', 1594: 'afterlife', 1595: 'supernatural', 1596: 'seance', 1597: 'ouija', 1598: 'contacted', 1599: 'spirit', 1600: 'hindu', 1601: 'retreat', 1602: 'buddhist', 1603: 'temples', 1604: 'hung', 1605: 'christian', 1606: 'mystics', 1607: 'typical', 1608: 'inbox', 1609: 'delete', 1610: 'cleaning', 1611: 'agolol', 1612: 'bother', 1613: 'terminator', 1614: 'action', 1615: 'bits', 1616: 'terminators', 1617: 'oneare', 1618: 'spoiler', 1619: 'knowing', 1620: 'endwell', 1621: 'died', 1622: 'leading', 1623: 'killed', 1624: 'muchnice', 1625: 'noodles', 1626: 'anyday', 1627: 'tradition', 1628: 'stuffingyeah', 1629: 'black', 1630: 'friday', 1631: 'fitbit', 1632: 'frequently', 1633: 'backtoback', 1634: 'aww', 1635: 'yogayeah', 1636: 'thoseoh', 1637: 'sing', 1638: 'perform', 1639: 'singing', 1640: 'pianisthaha', 1641: 'highly', 1642: 'tacos', 1643: 'fishooh', 1644: 'themno', 1645: 'speech', 1646: 'topic', 1647: 'catches', 1648: 'eyes', 1649: 'nlp', 1650: 'classifiers', 1651: 'refer', 1652: 'accountingnice', 1653: 'peoples', 1654: 'polish', 1655: 'scales', 1656: 'clean', 1657: 'tanks', 1658: 'guppies', 1659: 'goldfish', 1660: 'sailfish', 1661: 'accounting', 1662: 'financial', 1663: 'analysis', 1664: 'medium', 1665: 'sized', 1666: 'companythat', 1667: 'pursuing', 1668: 'photography', 1669: 'hardphotography', 1670: 'dreams', 1671: 'pictures', 1672: 'onlinethat', 1673: 'byeno', 1674: 'swimming', 1675: 'doggy', 1676: 'paddle', 1677: 'belly', 1678: 'compilation', 1679: 'redactedlinkouch', 1680: 'hurts', 1681: 'sadly', 1682: 'relative', 1683: 'thoughjust', 1684: 'sets', 1685: 'woke', 1686: 'grab', 1687: 'source', 1688: 'protein', 1689: 'yummy', 1690: 'forever', 1691: 'carrots', 1692: 'drawback', 1693: 'nutrition', 1694: 'suddenly', 1695: 'soylent', 1696: 'complete', 1697: 'defeats', 1698: 'muddle', 1699: 'pizza', 1700: 'brilliant', 1701: 'color', 1702: 'hut', 1703: 'franchises', 1704: 'everywhere', 1705: 'plates', 1706: 'makerspace', 1707: 'reason', 1708: 'assumed', 1709: 'arts', 1710: 'craftstype', 1711: 'ware', 1712: 'custom', 1713: 'china', 1714: 'acquire', 1715: 'barley', 1716: 'silver', 1717: 'needle', 1718: 'supermarket', 1719: 'knowledgeable', 1720: 'channel', 1721: 'channels', 1722: 'answeri', 1723: 'ol', 1724: 'eventually', 1725: 'continue', 1726: 'pretend', 1727: 'computer', 1728: 'thenyou', 1729: 'programming', 1730: 'java', 1731: 'advocate', 1732: 'lolno', 1733: 'finally', 1734: 'gap', 1735: 'hiked', 1736: 'doong', 1737: 'deepest', 1738: 'todo', 1739: 'laos', 1740: 'countries', 1741: 'spiders', 1742: 'scorpions', 1743: 'grasshoppers', 1744: 'courage', 1745: 'missed', 1746: 'reat', 1747: 'pushed', 1748: 'starts', 1749: 'confident', 1750: 'underestimate', 1751: 'importance', 1752: 'correct', 1753: 'executing', 1754: 'wrong', 1755: 'stack', 1756: 'ideas', 1757: 'feedbacks', 1758: 'aside', 1759: 'calendar', 1760: '3pm', 1761: 'syncs', 1762: 'serve', 1763: 'decideactually', 1764: 'baked', 1765: 'sophisticated', 1766: 'chips', 1767: 'ovens', 1768: 'temperature', 1769: 'melting', 1770: 'unhealthy', 1771: 'resulting', 1772: 'tooth', 1773: 'mm', 1774: 'danish', 1775: 'cheese', 1776: 'gulp', 1777: 'guiltfree', 1778: 'brand', 1779: '320', 1780: 'pint', 1781: 'preserves', 1782: 'paid', 1783: 'attention', 1784: 'marketed', 1785: 'fat', 1786: 'caused', 1787: 'stomach', 1788: 'upsets', 1789: 'diet', 1790: 'limit', 1791: 'intake', 1792: 'successful', 1793: 'dieters', 1794: 'recommended', 1795: 'insatiable', 1796: 'crave', 1797: 'solution', 1798: 'sweets', 1799: 'guiltyno', 1800: 'pielol', 1801: 'excuse', 1802: 'p', 1803: 'pmy', 1804: 'eats', 1805: 'please', 1806: 'excitement', 1807: 'levels', 1808: 'thenalso', 1809: 'discount', 1810: 'tag', 1811: 'prices', 1812: 'electronics', 1813: 'deal', 1814: 'suit', 1815: 'price', 1816: 'youhit', 1817: 'links', 1818: 'sleepy', 1819: 'homeworkoh', 1820: 'biology', 1821: 'doc', 1822: 'premed', 1823: 'schooler', 1824: 'medicine', 1825: 'surgeon', 1826: 'ooof', 1827: 'steady', 1828: 'hands', 1829: 'thinki', 1830: 'aim', 1831: 'subjects', 1832: 'pleasant', 1833: 'gift', 1834: 'unpacking', 1835: 'finishing', 1836: 'yeswhere', 1837: 'mauii', 1838: 'maui', 1839: 'globally', 1840: 'driving', 1841: 'hana', 1842: 'matcha', 1843: 'latte', 1844: 'casual', 1845: 'primarily', 1846: 'ring', 1847: 'gameified', 1848: 'octopath', 1849: 'traveler', 1850: 'emblem', 1851: 'gamer', 1852: 'temeraire', 1853: 'napoleonic', 1854: 'navy', 1855: 'patrick', 1856: 'obrien', 1857: 'dragons', 1858: 'genre', 1859: 'exhalations', 1860: 'vita', 1861: 'nostra', 1862: 'matter', 1863: 'sandersongarth', 1864: 'nix', 1865: 'conversationalists', 1866: 'seemed', 1867: 'positives', 1868: 'outweigh', 1869: 'negativesare', 1870: 'negatives', 1871: 'impersorsination', 1872: 'fetchedpeople', 1873: 'converse', 1874: 'engaging', 1875: 'sarcasm', 1876: 'monologueswhat', 1877: 'advantages', 1878: 'assistants', 1879: 'forms', 1880: 'product', 1881: 'implication', 1882: 'huge', 1883: 'signify', 1884: 'progressed', 1885: 'futuristic', 1886: 'problems', 1887: 'stepping', 1888: 'overselling', 1889: 'hereno', 1890: 'witness', 1891: 'chatbot', 1892: 'autosuggest', 1893: 'current', 1894: 'autosuggestions', 1895: 'goodyeah', 1896: 'words', 1897: 'imagining', 1898: 'conversational', 1899: 'default', 1900: 'template', 1901: 'fetched', 1902: 'falls', 1903: 'lifelong', 1904: 'impacts', 1905: 'tiredoh', 1906: 'dayoh', 1907: 'interested', 1908: 'profession', 1909: 'stressful', 1910: 'earn', 1911: 'lifewhat', 1912: 'painteroh', 1913: 'paintings', 1914: 'oil', 1915: 'painting', 1916: 'kindscool', 1917: 'whose', 1918: 'regardless', 1919: 'promoted', 1920: 'unclear', 1921: 'fallback', 1922: 'accordingly', 1923: 'shaping', 1924: 'values', 1925: 'lifetime', 1926: 'child', 1927: 'growing', 1928: 'explains', 1929: 'empathize', 1930: 'differing', 1931: 'backgrounds', 1932: 'andor', 1933: 'lacking', 1934: 'grow', 1935: 'united', 1936: 'states', 1937: 'scammed', 1938: 'organisation', 1939: 'scam', 1940: 'investing', 1941: 'business', 1942: 'mom', 1943: 'sickhospitalized', 1944: 'insurance', 1945: 'versus', 1946: 'plane', 1947: 'sentimental', 1948: 'grounded', 1949: 'practical', 1950: 'background', 1951: 'spending', 1952: 'recommendations', 1953: 'documentaries', 1954: 'particularly', 1955: 'explained', 1956: 'hedge', 1957: 'fights', 1958: 'government', 1959: 'destroy', 1960: 'plot', 1961: 'frasier', 1962: 'psychiatrist', 1963: 'radio', 1964: 'humour', 1965: 'spinoff', 1966: 'cheers', 1967: 'familiar', 1968: 'vegas', 1969: 'sometime', 1970: 'friendstrue', 1971: 'inputs', 1972: 'participating', 1973: 'either', 1974: 'usefuli', 1975: 'signed', 1976: 'discussions', 1977: 'discussion', 1978: 'perspective', 1979: 'communication', 1980: 'cycleah', 1981: 'session', 1982: 'presentation', 1983: 'serious', 1984: 'stuffno', 1985: 'tonight', 1986: 'studying', 1987: 'geology', 1988: 'seventies', 1989: 'yall', 1990: 'goodwhat', 1991: 'goto', 1992: 'beef', 1993: 'easyah', 1994: 'solid', 1995: 'iti', 1996: 'beginners', 1997: 'trydo', 1998: 'idiot', 1999: 'practiced', 2000: 'hii', 2001: 'groupi', 2002: 'dont', 2003: 'hahahawhat', 2004: 'mayeri', 2005: 'stylei', 2006: 'slow', 2007: 'umm', 2008: 'allyou', 2009: 'songs', 2010: 'pondering', 2011: 'invited', 2012: 'friendship', 2013: 'formed', 2014: 'bond', 2015: 'sides', 2016: 'firmly', 2017: 'specifics', 2018: 'improve', 2019: 'older', 2020: 'smaller', 2021: 'circles', 2022: 'arbitrary', 2023: 'reasons', 2024: 'fear', 2025: 'raising', 2026: 'issue', 2027: 'treason', 2028: 'heal', 2029: 'certain', 2030: 'situations', 2031: 'aka', 2032: 'avoiding', 2033: 'texts', 2034: 'putting', 2035: 'vacuous', 2036: 'factors', 2037: 'finna', 2038: 'finer', 2039: 'clouds', 2040: 'overhead', 2041: 'vacations', 2042: 'bangalore', 2043: 'varies', 2044: 'till', 2045: '30c', 2046: 'winters', 2047: 'snowing', 2048: 'east', 2049: 'kite', 2050: 'sunshine', 2051: 'garbanzo', 2052: 'fritters', 2053: 'mussels', 2054: 'seafood', 2055: 'shellfish', 2056: 'crabbing', 2057: 'patience', 2058: 'bait', 2059: 'crabpot', 2060: 'drop', 2061: 'crabpots', 2062: 'voila', 2063: 'crabs', 2064: 'nah', 2065: 'wednesday', 2066: 'sharks', 2067: 'hokey', 2068: 'violent', 2069: 'competing', 2070: 'pass', 2071: 'win', 2072: 'cross', 2073: 'fingers', 2074: 'humble', 2075: 'howre', 2076: 'workday', 2077: 'debugging', 2078: 'experimenting', 2079: 'historical', 2080: 'sites', 2081: 'italy', 2082: 'trips', 2083: 'learnt', 2084: 'arrangement', 2085: 'weekday', 2086: 'wellno', 2087: 'catchup', 2088: 'deep', 2089: 'boats', 2090: 'someplace', 2091: 'nyc', 2092: 'paris', 2093: 'iconic', 2094: 'microkitchen', 2095: 'pop', 2096: 'ups', 2097: 'jacket', 2098: 'needed', 2099: 'coldthat', 2100: 'warmer', 2101: 'climates', 2102: 'limits', 2103: 'suffer', 2104: 'bundling', 2105: 'layers', 2106: 'upstate', 2107: 'foot', 2108: 'shovel', 2109: 'hurry', 2110: 'ran', 2111: 'mk', 2112: 'floor', 2113: 'student', 2114: 'concept', 2115: 'xd', 2116: 'milesa', 2117: 'miles', 2118: 'mile', 2119: 'exhausted', 2120: 'sprints', 2121: 'half', 2122: 'documentation', 2123: 'rarely', 2124: 'congrats', 2125: 'natural', 2126: 'context', 2127: 'clues', 2128: 'guessing', 2129: 'racquetwell', 2130: 'difference', 2131: 'smashed', 2132: 'against', 2133: 'passing', 2134: 'net', 2135: 'opponents', 2136: 'table', 2137: 'bumping', 2138: 'hits', 2139: 'paced', 2140: 'version', 2141: 'athletic', 2142: 'intensive', 2143: 'short', 2144: 'anger', 2145: 'fuckkkkkkk', 2146: 'lifeyeah', 2147: 'minimalist', 2148: 'szechuan', 2149: 'beijing', 2150: 'duck', 2151: 'mateohave', 2152: 'craving', 2153: 'arghhh', 2154: 'foodooh', 2155: 'dojo', 2156: 'marki', 2157: 'palces', 2158: 'teh', 2159: 'recommendation', 2160: 'willing', 2161: 'crabsive', 2162: 'crab', 2163: 'okayish', 2164: 'quicker', 2165: 'expected', 2166: 'slowly', 2167: 'twiddling', 2168: 'twiddle', 2169: 'docs', 2170: 'cloud', 2171: 'gazing', 2172: 'giraffe', 2173: 'cone', 2174: 'drift', 2175: 'saving', 2176: 'mess', 2177: 'social', 2178: 'media', 2179: 'zealand', 2180: 'singapore', 2181: 'hrs', 2182: 'dive', 2183: 'accumulates', 2184: 'breathing', 2185: 'cylinder', 2186: 'kangaroos', 2187: 'equally', 2188: 'explore', 2189: 'expensivei', 2190: 'lottery', 2191: 'caring', 2192: 'mehaha', 2193: 'donated', 2194: 'charity', 2195: 'soul', 2196: 'hardcore', 2197: 'starter', 2198: 'challenge', 2199: 'lift', 2200: 'coach', 2201: 'coano', 2202: 'walking', 2203: 'dog', 2204: 'aliens', 2205: 'pique', 2206: 'slightly', 2207: 'fiction', 2208: 'curious', 2209: 'discussed', 2210: 'twist', 2211: 'attack', 2212: 'dunnnnnnnwoah', 2213: 'copy', 2214: 'spoiled', 2215: 'spoilersthanks', 2216: 'spoiling', 2217: 'intriguing', 2218: 'concussion', 2219: 'pace', 2220: 'listen', 2221: 'darkness', 2222: 'lowkey', 2223: 'knives', 2224: 'daniel', 2225: 'craig', 2226: 'captain', 2227: 'track', 2228: 'evening', 2229: 'runs', 2230: 'sunlight', 2231: 'parttime', 2232: 'round', 2233: 'hemisphere', 2234: 'regret', 2235: 'brief', 2236: 'literally', 2237: 'organize', 2238: 'unwind', 2239: 'upsetting', 2240: 'pokmon', 2241: 'oooh', 2242: 'grateful', 2243: 'pink', 2244: 'jigglypuff', 2245: 'vaporeon', 2246: 'binge', 2247: 'mixish', 2248: 'reruns', 2249: 'cleverly', 2250: 'written', 2251: 'rescue', 2252: 'stray', 2253: 'babies', 2254: 'stuck', 2255: 'pipes', 2256: 'gutters', 2257: 'south', 2258: 'korea', 2259: 'dear', 2260: 'imagined', 2261: 'happening', 2262: 'poor', 2263: 'rescued', 2264: 'pets', 2265: 'hamster', 2266: 'theyve', 2267: 'pet', 2268: 'lovely', 2269: 'waiting', 2270: 'bicycle', 2271: 'asks', 2272: 'interrupt', 2273: 'anyone', 2274: 'odds', 2275: 'quality', 2276: 'sequels', 2277: 'disneyland', 2278: '23rd', 2279: 'loads', 2280: '24th', 2281: 'rooms', 2282: 'kitchens', 2283: 'inquire', 2284: 'airbnb', 2285: 'closeby', 2286: 'decision', 2287: 'parks', 2288: 'option', 2289: 'closed', 2290: 'evethats', 2291: 'hotels', 2292: 'offer', 2293: 'dinners', 2294: 'lead', 2295: 'large', 2296: 'standard', 2297: 'explain', 2298: 'hotel', 2299: 'todayhaha', 2300: 'roommate', 2301: 'survivorwhat', 2302: 'familycool', 2303: 'ehhh', 2304: 'soso', 2305: 'moped', 2306: 'broke', 2307: 'shop', 2308: 'mechanic', 2309: 'diesel', 2310: 'packed', 2311: 'btw', 2312: 'rooting', 2313: 'arent', 2314: 'steph', 2315: 'faith', 2316: 'record', 2317: 'refute', 2318: 'repair', 2319: 'hihello', 2320: 'improvements', 2321: 'minutes', 2322: 'races', 2323: 'sporting', 2324: 'triathalon', 2325: 'obstacle', 2326: 'overtly', 2327: 'triathlonsi', 2328: 'involve', 2329: 'abt', 2330: '20', 2331: 'obstacles', 2332: 'crossing', 2333: 'walls', 2334: 'monkey', 2335: 'funoh', 2336: 'obstable', 2337: 'variety', 2338: 'february', 2339: 'montereyhmm', 2340: 'amount', 2341: 'regularly', 2342: 'technique', 2343: 'coordinate', 2344: 'skydiving', 2345: 'lesson', 2346: 'ooh', 2347: 'adventurous', 2348: 'seville', 2349: 'trepidatious', 2350: 'terrifying', 2351: 'whenever', 2352: 'badly', 2353: 'beginner', 2354: 'babysized', 2355: 'proud', 2356: 'stopping', 2357: 'lectures', 2358: 'concepts', 2359: 'slides', 2360: 'afterwards', 2361: 'noon', 2362: 'preparation', 2363: 'syllabus', 2364: 'ideal', 2365: 'hectic', 2366: 'november', 2367: 'content', 2368: 'findings', 2369: 'professor', 2370: 'turkeys', 2371: 'calling', 2372: 'eitherwaysso', 2373: 'leftovers', 2374: 'cooked', 2375: 'mashed', 2376: 'potatos', 2377: 'oven', 2378: 'fans', 2379: 'roll', 2380: 'chickenchicken', 2381: 'balls', 2382: 'pads', 2383: 'rackets', 2384: 'kept', 2385: 'creation', 2386: 'composing', 2387: 'post', 2388: 'youtubesoundcloud', 2389: 'whoa', 2390: 'listening', 2391: 'softewares', 2392: 'logic', 2393: 'pro', 2394: 'x', 2395: 'handy', 2396: 'generate', 2397: 'strumming', 2398: 'pattern', 2399: 'compose', 2400: 'inspired', 2401: 'electro', 2402: 'swings', 2403: 'jpop', 2404: 'band', 2405: 'member', 2406: 'rockstar', 2407: 'instruments', 2408: 'monitor', 2409: 'weeknice', 2410: 'tyring', 2411: 'f', 2412: 'worst', 2413: 'thoughright', 2414: 'versatile', 2415: 'cheating', 2416: 'gesture', 2417: 'alphabets', 2418: 'wordwill', 2419: 'hows', 2420: 'bruhhhhhh', 2421: 'screaming', 2422: 'agony', 2423: 'upon', 2424: 'recounting', 2425: 'shelved', 2426: 'helpless', 2427: 'angry', 2428: 'circumstance', 2429: 'pulling', 2430: 'mercilessly', 2431: 'deciding', 2432: 'choices', 2433: 'experienced', 2434: 'reflect', 2435: '2019', 2436: 'favorable', 2437: 'released', 2438: 'resolutions', 2439: 'fresher', 2440: 'inspiration', 2441: 'advent', 2442: 'workbook', 2443: 'accomplishments', 2444: 'passions', 2445: 'forgiveness', 2446: 'potential', 2447: 'scholarship', 2448: 'international', 2449: 'institute', 2450: 'african', 2451: 'representation', 2452: 'coaching', 2453: 'captures', 2454: 'proceeds', 2455: 'cohort', 2456: 'valuable', 2457: 'community', 2458: 'bigger', 2459: 'challenges', 2460: 'facing', 2461: 'humanity', 2462: 'selves', 2463: 'quote', 2464: 'stolen', 2465: 'tl', 2466: 'graduation', 2467: 'yrs', 2468: 'itwhat', 2469: 'prioritize', 2470: 'multiple', 2471: 'lords', 2472: 'prayer', 2473: 'designed', 2474: 'concrete', 2475: 'simply', 2476: 'greatest', 2477: 'capacity', 2478: 'physically', 2479: 'mentally', 2480: 'spiritually', 2481: 'thoughtful', 2482: 'spiritual', 2483: 'memoire', 2484: 'jesus', 2485: 'reader', 2486: 'hide', 2487: 'quoting', 2488: 'nash', 2489: 'corrupts', 2490: 'thoughtsthats', 2491: 'thoughts', 2492: 'turn', 2493: 'sellerno', 2494: 'grizzlies', 2495: 'identify', 2496: 'animal', 2497: 'confuse', 2498: 'naming', 2499: 'conventions', 2500: 'chairs', 2501: 'opening', 2502: 'remarks', 2503: 'neurips', 2504: 'information', 2505: 'processing', 2506: 'systems', 2507: 'fancy', 2508: 'sentient', 2509: 'dystopian', 2510: 'walle', 2511: 'giants', 2512: 'tickets', 2513: 'football', 2514: 'stadium', 2515: 'mathilda', 2516: '15', 2517: 'mins', 2518: 'driver', 2519: 'kayakingkayaking', 2520: 'offsite', 2521: 'flip', 2522: 'accidentally', 2523: 'actuallyi', 2524: 'quickly', 2525: 'remind', 2526: 'screen', 2527: 'remembering', 2528: 'perchance', 2529: 'schwasty', 2530: 'cardiologist', 2531: 'palo', 2532: 'alto', 2533: 'private', 2534: 'sofa', 2535: 'tester', 2536: 'cupertino', 2537: 'simple', 2538: 'comfortable', 2539: 'sofas', 2540: 'demanding', 2541: 'carefully', 2542: 'crafted', 2543: 'pay', 2544: 'reexperiencing', 2545: 'replaying', 2546: 'happens', 2547: 'lapsing', 2548: 'phrase', 2549: 'jay', 2550: 'z', 2551: 'beyonce', 2552: 'looked', 2553: 'phrases', 2554: 'carried', 2555: 'vice', 2556: 'versa', 2557: 'savior', 2558: 'faire', 2559: 'origin', 2560: 'insightful', 2561: 'wdym', 2562: 'usage', 2563: 'meaning', 2564: 'nakedness', 2565: 'jism', 2566: 'semen', 2567: 'sporadic', 2568: 'sex', 2569: 'art', 2570: 'todayyou', 2571: 'mosquitos', 2572: '47', 2573: 'teethsthat', 2574: 'laughter', 2575: 'drank', 2576: 'goodohh', 2577: 'watermelonnice', 2578: 'watermelon', 2579: 'synthetic', 2580: 'flavor', 2581: 'strangetalking', 2582: 'strange', 2583: 'weirdest', 2584: 'tasting', 2585: 'tangerine', 2586: 'walnut', 2587: 'weirdhaha', 2588: 'paprika', 2589: 'actuallyit', 2590: 'messed', 2591: 'placeas', 2592: 'lolbut', 2593: 'gelato', 2594: 'hahadarn', 2595: 'hoped', 2596: 'id', 2597: 'psychic', 2598: 'intuitive', 2599: 'connected', 2600: 'chatting', 2601: 'mindreading', 2602: 'powers', 2603: 'auras', 2604: 'specialty', 2605: 'icing', 2606: 'authority', 2607: 'shameful', 2608: 'classic', 2609: 'carrot', 2610: 'claim', 2611: 'vegetables', 2612: 'professional', 2613: 'dancer', 2614: 'trained', 2615: 'contemporary', 2616: 'commercials', 2617: 'film', 2618: 'clips', 2619: 'stage', 2620: 'styles', 2621: 'dynamic', 2622: 'tempted', 2623: 'homecool', 2624: 'view', 2625: 'viewit', 2626: 'beerhaha', 2627: 'studied', 2628: 'buildings', 2629: 'tall', 2630: 'diversity', 2631: 'cultures', 2632: 'broadway', 2633: 'hongkong', 2634: 'basic', 2635: 'zucchini', 2636: 'pasta', 2637: 'offsitecan', 2638: 'invite', 2639: 'guys', 2640: 'totally', 2641: 'inviting', 2642: 'triphow', 2643: 'trails', 2644: 'slammed', 2645: 'onto', 2646: 'hahaa', 2647: 'ityeah', 2648: 'speaking', 2649: 'mandatory', 2650: 'stade', 2651: 'olympique', 2652: 'redactedlink', 2653: 'olympics', 2654: 'viewer', 2655: 'olympic', 2656: 'skating', 2657: 'youtubeyeah', 2658: 'skate', 2659: 'barely', 2660: 'conscience', 2661: 'sideshaha', 2662: 'hold', 2663: 'gotta', 2664: 'youi', 2665: 'yo', 2666: 'cuban', 2667: 'smoke', 2668: 'peru', 2669: 'smoking', 2670: 'hahayou', 2671: 'doubt', 2672: 'reincarnation', 2673: 'allow', 2674: 'death', 2675: 'braincomputer', 2676: 'interface', 2677: 'resume', 2678: 'harder', 2679: 'technology', 2680: 'advances', 2681: 'wake', 2682: 'preparing', 2683: 'detective', 2684: 'con', 2685: 'artist', 2686: 'solving', 2687: 'crimes', 2688: 'belonging', 2689: 'genres', 2690: 'light', 2691: 'phychological', 2692: 'thrillers', 2693: 'manga', 2694: 'punch', 2695: 'promised', 2696: 'neverland', 2697: 'kakegurui', 2698: 'rick', 2699: 'morty', 2700: 'arrived', 2701: 'previous', 2702: 'benderi', 2703: 'strangely', 2704: 'relatable', 2705: 'complain', 2706: 'favoriate', 2707: 'cuisine', 2708: 'nicelove', 2709: 'stir', 2710: 'fried', 2711: 'lamb', 2712: 'impression', 2713: 'cruisine', 2714: 'noti', 2715: 'redactedtermoh', 2716: 'easterly', 2717: 'likely', 2718: 'mozambique', 2719: 'africa', 2720: 'nonprofit', 2721: 'radar', 2722: 'ijgd', 2723: 'decided', 2724: 'sip', 2725: 'scientist', 2726: 'sleepingcons', 2727: 'tips', 2728: 'poorly', 2729: 'zero', 2730: 'peter', 2731: 'thielwhat', 2732: 'startups', 2733: 'principles', 2734: 'philosophies', 2735: 'innovation', 2736: 'contrariancool', 2737: 'startup', 2738: 'contrariani', 2739: 'european', 2740: 'drinking', 2741: 'marshmallows', 2742: 'setting', 2743: 'coco', 2744: 'tuck', 2745: 'blankets', 2746: 'legs', 2747: 'whereas', 2748: 'ityou', 2749: 'towards', 2750: 'ya', 2751: 'feast', 2752: 'planned', 2753: 'hidden', 2754: 'sean', 2755: 'carroll', 2756: 'redactedlinkahh', 2757: 'largely', 2758: 'nonfiction', 2759: 'seveneves', 2760: 'neal', 2761: 'stephenson', 2762: 'shattered', 2763: 'asteroid', 2764: 'pieces', 2765: 'clouding', 2766: 'earths', 2767: 'atmostphere', 2768: 'creature', 2769: 'extinct', 2770: 'premise', 2771: 'watchedreally', 2772: 'spaceah', 2773: 'organized', 2774: 'participants', 2775: 'handle', 2776: 'ensure', 2777: 'smoothly', 2778: 'participate', 2779: 'siblings', 2780: 'discussing', 2781: 'format', 2782: 'reserved', 2783: 'slip', 2784: 'sunday', 2785: 'funds', 2786: 'mainly', 2787: 'organizing', 2788: 'phew', 2789: '30', 2790: 'pm', 2791: 'grocery', 2792: 'stroll', 2793: 'acupuncturist', 2794: 'treated', 2795: 'brutal', 2796: 'sceptical', 2797: 'acupuncture', 2798: 'convincing', 2799: 'firsthand', 2800: 'revolves', 2801: 'notion', 2802: 'qi', 2803: 'bro', 2804: 'unless', 2805: 'presented', 2806: 'reviewed', 2807: '6', 2808: 'parties', 2809: 'originate', 2810: 'studies', 2811: 'appropriate', 2812: 'assure', 2813: 'fantastic', 2814: 'bright', 2815: 'verge', 2816: 'becoming', 2817: 'vampire', 2818: 'tan', 2819: 'pretending', 2820: 'bringing', 2821: 'react', 2822: 'researcher', 2823: 'focuses', 2824: 'jellyfish', 2825: 'pufferfish', 2826: 'poisonous', 2827: 'processed', 2828: 'correctly', 2829: 'hiend', 2830: 'recipes', 2831: 'tables', 2832: 'obviously', 2833: 'protective', 2834: 'accidents', 2835: 'hmmm', 2836: 'climbers', 2837: 'fall', 2838: 'guard', 2839: 'psychological', 2840: 'phenomenon', 2841: 'indoor', 2842: 'gyms', 2843: 'occasionally', 2844: 'fingertips', 2845: 'thankful', 2846: 'vancouver', 2847: 'twitter', 2848: 'saying', 2849: 'denied', 2850: 'visas', 2851: 'largest', 2852: 'reservation', 2853: 'advance', 2854: 'hosting', 2855: 'tons', 2856: 'filling', 2857: 'shrimp', 2858: 'chicken', 2859: 'pork', 2860: 'considering', 2861: 'vegetarian', 2862: 'meat', 2863: 'consideringt', 2864: 'o', 2865: 'vetegarian', 2866: 'humans', 2867: 'bets', 2868: 'case', 2869: 'dies', 2870: 'mixed', 2871: 'dishes', 2872: 'buffet', 2873: 'meatless', 2874: 'burgers', 2875: 'expensive', 2876: 'impossible', 2877: 'burger', 2878: 'nostalgic', 2879: 'memeories', 2880: 'flood', 2881: 'hometown', 2882: 'north', 2883: 'havent', 2884: 'tourism', 2885: 'decade'}\n",
      "Predicted Word: \n",
      "Chatbot Response: \n"
     ]
    }
   ],
   "source": [
    "def generate_response(input_text):\n",
    "    print(\"User Input\", input_text)\n",
    "\n",
    "    # Tokenization\n",
    "    input_seq_padded = debug_tokenization(input_text)\n",
    "\n",
    "    # Make Predictions\n",
    "    predicted_probs = debug_model_output(input_seq_padded)\n",
    "\n",
    "    # Extract word\n",
    "    predicted_index = np.argmax(predicted_probs, axis = -1)\n",
    "    print(\"Predicted Index:\", predicted_index)\n",
    "\n",
    "    predicted_word = debug_index_to_word(predicted_index)\n",
    "\n",
    "    return predicted_word\n",
    "\n",
    "# Test with a user input\n",
    "response = generate_response(\"Hello, how are you?\")\n",
    "print(\"Chatbot Response:\", response)"
   ]
  },
  {
   "cell_type": "code",
   "execution_count": null,
   "metadata": {},
   "outputs": [],
   "source": []
  }
 ],
 "metadata": {
  "kernelspec": {
   "display_name": "myenv",
   "language": "python",
   "name": "python3"
  },
  "language_info": {
   "codemirror_mode": {
    "name": "ipython",
    "version": 3
   },
   "file_extension": ".py",
   "mimetype": "text/x-python",
   "name": "python",
   "nbconvert_exporter": "python",
   "pygments_lexer": "ipython3",
   "version": "3.10.13"
  }
 },
 "nbformat": 4,
 "nbformat_minor": 2
}
